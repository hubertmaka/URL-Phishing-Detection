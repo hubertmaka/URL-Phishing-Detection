{
 "cells": [
  {
   "cell_type": "markdown",
   "source": [
    "## URL Phishing Detection Feature Extraction"
   ],
   "metadata": {
    "collapsed": false
   },
   "id": "d354e06d4ce741dd"
  },
  {
   "cell_type": "markdown",
   "source": [],
   "metadata": {
    "collapsed": false
   },
   "id": "3fda358511495a6d"
  },
  {
   "cell_type": "markdown",
   "source": [],
   "metadata": {
    "collapsed": false
   },
   "id": "78327d1874cd1cae"
  },
  {
   "cell_type": "code",
   "outputs": [],
   "source": [
    "import pandas as pd"
   ],
   "metadata": {
    "collapsed": false,
    "ExecuteTime": {
     "end_time": "2024-04-23T06:35:00.242569Z",
     "start_time": "2024-04-23T06:34:59.613341Z"
    }
   },
   "id": "96e7dbc054422031",
   "execution_count": 3
  },
  {
   "cell_type": "code",
   "outputs": [],
   "source": [
    "phish_data = pd.read_csv('./datasets/verified_online.csv')"
   ],
   "metadata": {
    "collapsed": false,
    "ExecuteTime": {
     "end_time": "2024-04-23T06:35:01.286094Z",
     "start_time": "2024-04-23T06:35:01.070226Z"
    }
   },
   "id": "b3a2dfbc57239227",
   "execution_count": 4
  },
  {
   "cell_type": "code",
   "outputs": [
    {
     "data": {
      "text/plain": "   phish_id                                            url  \\\n0   8546313               https://ollx.1792836.xyz/captcha   \n1   8546314                 https://ufakick456.com/captcha   \n2   8546312              https://keyeseuropean.com/captcha   \n3   8546311   https://allegr0lokalnie.83473636.xyz/captcha   \n4   8546309                 http://ufakick456.com/fb7pl5qw   \n5   8546310               http://ollx.1792836.xyz/fb7pl5qw   \n6   8546308              http://keyeseuropean.com/fb7pl5qw   \n7   8546307   http://allegr0lokalnie.83473636.xyz/fb7pl5qw   \n8   8546279   http://atrgptol.pages.dev/connection-module/   \n9   8546280  https://atrgptol.pages.dev/connection-module/   \n\n                                    phish_detail_url  \\\n0  http://www.phishtank.com/phish_detail.php?phis...   \n1  http://www.phishtank.com/phish_detail.php?phis...   \n2  http://www.phishtank.com/phish_detail.php?phis...   \n3  http://www.phishtank.com/phish_detail.php?phis...   \n4  http://www.phishtank.com/phish_detail.php?phis...   \n5  http://www.phishtank.com/phish_detail.php?phis...   \n6  http://www.phishtank.com/phish_detail.php?phis...   \n7  http://www.phishtank.com/phish_detail.php?phis...   \n8  http://www.phishtank.com/phish_detail.php?phis...   \n9  http://www.phishtank.com/phish_detail.php?phis...   \n\n             submission_time verified          verification_time online target  \n0  2024-04-22T10:55:17+00:00      yes  2024-04-22T11:04:04+00:00    yes  Other  \n1  2024-04-22T10:55:17+00:00      yes  2024-04-22T11:04:04+00:00    yes  Other  \n2  2024-04-22T10:55:16+00:00      yes  2024-04-22T11:04:04+00:00    yes  Other  \n3  2024-04-22T10:55:14+00:00      yes  2024-04-22T11:04:04+00:00    yes  Other  \n4  2024-04-22T10:55:13+00:00      yes  2024-04-22T11:04:04+00:00    yes  Other  \n5  2024-04-22T10:55:13+00:00      yes  2024-04-22T11:04:04+00:00    yes  Other  \n6  2024-04-22T10:55:11+00:00      yes  2024-04-22T11:04:04+00:00    yes  Other  \n7  2024-04-22T10:55:10+00:00      yes  2024-04-22T11:04:04+00:00    yes  Other  \n8  2024-04-22T10:25:50+00:00      yes  2024-04-22T10:33:21+00:00    yes  Other  \n9  2024-04-22T10:25:50+00:00      yes  2024-04-22T10:33:21+00:00    yes  Other  ",
      "text/html": "<div>\n<style scoped>\n    .dataframe tbody tr th:only-of-type {\n        vertical-align: middle;\n    }\n\n    .dataframe tbody tr th {\n        vertical-align: top;\n    }\n\n    .dataframe thead th {\n        text-align: right;\n    }\n</style>\n<table border=\"1\" class=\"dataframe\">\n  <thead>\n    <tr style=\"text-align: right;\">\n      <th></th>\n      <th>phish_id</th>\n      <th>url</th>\n      <th>phish_detail_url</th>\n      <th>submission_time</th>\n      <th>verified</th>\n      <th>verification_time</th>\n      <th>online</th>\n      <th>target</th>\n    </tr>\n  </thead>\n  <tbody>\n    <tr>\n      <th>0</th>\n      <td>8546313</td>\n      <td>https://ollx.1792836.xyz/captcha</td>\n      <td>http://www.phishtank.com/phish_detail.php?phis...</td>\n      <td>2024-04-22T10:55:17+00:00</td>\n      <td>yes</td>\n      <td>2024-04-22T11:04:04+00:00</td>\n      <td>yes</td>\n      <td>Other</td>\n    </tr>\n    <tr>\n      <th>1</th>\n      <td>8546314</td>\n      <td>https://ufakick456.com/captcha</td>\n      <td>http://www.phishtank.com/phish_detail.php?phis...</td>\n      <td>2024-04-22T10:55:17+00:00</td>\n      <td>yes</td>\n      <td>2024-04-22T11:04:04+00:00</td>\n      <td>yes</td>\n      <td>Other</td>\n    </tr>\n    <tr>\n      <th>2</th>\n      <td>8546312</td>\n      <td>https://keyeseuropean.com/captcha</td>\n      <td>http://www.phishtank.com/phish_detail.php?phis...</td>\n      <td>2024-04-22T10:55:16+00:00</td>\n      <td>yes</td>\n      <td>2024-04-22T11:04:04+00:00</td>\n      <td>yes</td>\n      <td>Other</td>\n    </tr>\n    <tr>\n      <th>3</th>\n      <td>8546311</td>\n      <td>https://allegr0lokalnie.83473636.xyz/captcha</td>\n      <td>http://www.phishtank.com/phish_detail.php?phis...</td>\n      <td>2024-04-22T10:55:14+00:00</td>\n      <td>yes</td>\n      <td>2024-04-22T11:04:04+00:00</td>\n      <td>yes</td>\n      <td>Other</td>\n    </tr>\n    <tr>\n      <th>4</th>\n      <td>8546309</td>\n      <td>http://ufakick456.com/fb7pl5qw</td>\n      <td>http://www.phishtank.com/phish_detail.php?phis...</td>\n      <td>2024-04-22T10:55:13+00:00</td>\n      <td>yes</td>\n      <td>2024-04-22T11:04:04+00:00</td>\n      <td>yes</td>\n      <td>Other</td>\n    </tr>\n    <tr>\n      <th>5</th>\n      <td>8546310</td>\n      <td>http://ollx.1792836.xyz/fb7pl5qw</td>\n      <td>http://www.phishtank.com/phish_detail.php?phis...</td>\n      <td>2024-04-22T10:55:13+00:00</td>\n      <td>yes</td>\n      <td>2024-04-22T11:04:04+00:00</td>\n      <td>yes</td>\n      <td>Other</td>\n    </tr>\n    <tr>\n      <th>6</th>\n      <td>8546308</td>\n      <td>http://keyeseuropean.com/fb7pl5qw</td>\n      <td>http://www.phishtank.com/phish_detail.php?phis...</td>\n      <td>2024-04-22T10:55:11+00:00</td>\n      <td>yes</td>\n      <td>2024-04-22T11:04:04+00:00</td>\n      <td>yes</td>\n      <td>Other</td>\n    </tr>\n    <tr>\n      <th>7</th>\n      <td>8546307</td>\n      <td>http://allegr0lokalnie.83473636.xyz/fb7pl5qw</td>\n      <td>http://www.phishtank.com/phish_detail.php?phis...</td>\n      <td>2024-04-22T10:55:10+00:00</td>\n      <td>yes</td>\n      <td>2024-04-22T11:04:04+00:00</td>\n      <td>yes</td>\n      <td>Other</td>\n    </tr>\n    <tr>\n      <th>8</th>\n      <td>8546279</td>\n      <td>http://atrgptol.pages.dev/connection-module/</td>\n      <td>http://www.phishtank.com/phish_detail.php?phis...</td>\n      <td>2024-04-22T10:25:50+00:00</td>\n      <td>yes</td>\n      <td>2024-04-22T10:33:21+00:00</td>\n      <td>yes</td>\n      <td>Other</td>\n    </tr>\n    <tr>\n      <th>9</th>\n      <td>8546280</td>\n      <td>https://atrgptol.pages.dev/connection-module/</td>\n      <td>http://www.phishtank.com/phish_detail.php?phis...</td>\n      <td>2024-04-22T10:25:50+00:00</td>\n      <td>yes</td>\n      <td>2024-04-22T10:33:21+00:00</td>\n      <td>yes</td>\n      <td>Other</td>\n    </tr>\n  </tbody>\n</table>\n</div>"
     },
     "execution_count": 5,
     "metadata": {},
     "output_type": "execute_result"
    }
   ],
   "source": [
    "phish_data.head(10)"
   ],
   "metadata": {
    "collapsed": false,
    "ExecuteTime": {
     "end_time": "2024-04-23T06:35:02.244950Z",
     "start_time": "2024-04-23T06:35:02.238360Z"
    }
   },
   "id": "93d3fdf18dfa1ff7",
   "execution_count": 5
  },
  {
   "cell_type": "code",
   "outputs": [],
   "source": [
    "non_phish_data = pd.read_csv('./datasets/non-phishing-urls-phishtank.csv')"
   ],
   "metadata": {
    "collapsed": false,
    "ExecuteTime": {
     "end_time": "2024-04-23T06:35:02.304814Z",
     "start_time": "2024-04-23T06:35:02.295416Z"
    }
   },
   "id": "44f874e74f78d4c8",
   "execution_count": 6
  },
  {
   "cell_type": "code",
   "outputs": [
    {
     "data": {
      "text/plain": "        ID                                          PHISH_URL  \\\n0  8535110                       https://releases.jquery.com/   \n1  8535109                           https://code.jquery.com/   \n2  8533875                       https://app.ether.fi/blocked   \n3  8530207  https://fonts.googleapis.com/css2?family=Open+...   \n4  8529188  https://urlscan.io/result/31a21a49-f77d-406d-a...   \n5  8518134  https://buff.163.com/news/?news_game=dota2&sou...   \n6  8511079  https://login.microsoftonline.com/638fcbaf-ba4...   \n7  8511077  https://login.microsoftonline.com/638fcbaf-ba4...   \n8  8511075  https://login.microsoftonline.com/638fcbaf-ba4...   \n9  8511073  https://login.microsoftonline.com/638fcbaf-ba4...   \n\n                                     ADDITIONAL_INFO  \n0  added on Apr 13th 2024 1:57 PM by verifrom INV...  \n1  added on Apr 13th 2024 1:57 PM by verifrom INV...  \n2  added on Apr 12th 2024 3:27 PM by Felix0101 IN...  \n3  added on Apr 10th 2024 8:25 AM by tchatzi INVA...  \n4  added on Apr 9th 2024 8:09 PM by lhernandez IN...  \n5  added on Apr 3rd 2024 2:40 AM by Felix0101 INV...  \n6  added on Mar 30th 2024 7:03 PM by cleanmx INVA...  \n7  added on Mar 30th 2024 7:03 PM by cleanmx INVA...  \n8  added on Mar 30th 2024 7:03 PM by cleanmx INVA...  \n9  added on Mar 30th 2024 7:02 PM by cleanmx INVA...  ",
      "text/html": "<div>\n<style scoped>\n    .dataframe tbody tr th:only-of-type {\n        vertical-align: middle;\n    }\n\n    .dataframe tbody tr th {\n        vertical-align: top;\n    }\n\n    .dataframe thead th {\n        text-align: right;\n    }\n</style>\n<table border=\"1\" class=\"dataframe\">\n  <thead>\n    <tr style=\"text-align: right;\">\n      <th></th>\n      <th>ID</th>\n      <th>PHISH_URL</th>\n      <th>ADDITIONAL_INFO</th>\n    </tr>\n  </thead>\n  <tbody>\n    <tr>\n      <th>0</th>\n      <td>8535110</td>\n      <td>https://releases.jquery.com/</td>\n      <td>added on Apr 13th 2024 1:57 PM by verifrom INV...</td>\n    </tr>\n    <tr>\n      <th>1</th>\n      <td>8535109</td>\n      <td>https://code.jquery.com/</td>\n      <td>added on Apr 13th 2024 1:57 PM by verifrom INV...</td>\n    </tr>\n    <tr>\n      <th>2</th>\n      <td>8533875</td>\n      <td>https://app.ether.fi/blocked</td>\n      <td>added on Apr 12th 2024 3:27 PM by Felix0101 IN...</td>\n    </tr>\n    <tr>\n      <th>3</th>\n      <td>8530207</td>\n      <td>https://fonts.googleapis.com/css2?family=Open+...</td>\n      <td>added on Apr 10th 2024 8:25 AM by tchatzi INVA...</td>\n    </tr>\n    <tr>\n      <th>4</th>\n      <td>8529188</td>\n      <td>https://urlscan.io/result/31a21a49-f77d-406d-a...</td>\n      <td>added on Apr 9th 2024 8:09 PM by lhernandez IN...</td>\n    </tr>\n    <tr>\n      <th>5</th>\n      <td>8518134</td>\n      <td>https://buff.163.com/news/?news_game=dota2&amp;sou...</td>\n      <td>added on Apr 3rd 2024 2:40 AM by Felix0101 INV...</td>\n    </tr>\n    <tr>\n      <th>6</th>\n      <td>8511079</td>\n      <td>https://login.microsoftonline.com/638fcbaf-ba4...</td>\n      <td>added on Mar 30th 2024 7:03 PM by cleanmx INVA...</td>\n    </tr>\n    <tr>\n      <th>7</th>\n      <td>8511077</td>\n      <td>https://login.microsoftonline.com/638fcbaf-ba4...</td>\n      <td>added on Mar 30th 2024 7:03 PM by cleanmx INVA...</td>\n    </tr>\n    <tr>\n      <th>8</th>\n      <td>8511075</td>\n      <td>https://login.microsoftonline.com/638fcbaf-ba4...</td>\n      <td>added on Mar 30th 2024 7:03 PM by cleanmx INVA...</td>\n    </tr>\n    <tr>\n      <th>9</th>\n      <td>8511073</td>\n      <td>https://login.microsoftonline.com/638fcbaf-ba4...</td>\n      <td>added on Mar 30th 2024 7:02 PM by cleanmx INVA...</td>\n    </tr>\n  </tbody>\n</table>\n</div>"
     },
     "execution_count": 7,
     "metadata": {},
     "output_type": "execute_result"
    }
   ],
   "source": [
    "non_phish_data.head(10)"
   ],
   "metadata": {
    "collapsed": false,
    "ExecuteTime": {
     "end_time": "2024-04-23T06:35:03.846594Z",
     "start_time": "2024-04-23T06:35:03.842352Z"
    }
   },
   "id": "d0d8d684df763a00",
   "execution_count": 7
  },
  {
   "cell_type": "code",
   "outputs": [
    {
     "data": {
      "text/plain": "(60804, 8)"
     },
     "execution_count": 8,
     "metadata": {},
     "output_type": "execute_result"
    }
   ],
   "source": [
    "phish_data.shape"
   ],
   "metadata": {
    "collapsed": false,
    "ExecuteTime": {
     "end_time": "2024-04-23T06:35:04.984617Z",
     "start_time": "2024-04-23T06:35:04.979934Z"
    }
   },
   "id": "79a72898eb5642cd",
   "execution_count": 8
  },
  {
   "cell_type": "code",
   "execution_count": 9,
   "outputs": [
    {
     "data": {
      "text/plain": "(2020, 3)"
     },
     "execution_count": 9,
     "metadata": {},
     "output_type": "execute_result"
    }
   ],
   "source": [
    "non_phish_data.shape"
   ],
   "metadata": {
    "collapsed": false,
    "ExecuteTime": {
     "end_time": "2024-04-23T06:35:06.173515Z",
     "start_time": "2024-04-23T06:35:06.170169Z"
    }
   },
   "id": "a93f04dd7188a4be"
  },
  {
   "cell_type": "code",
   "execution_count": 22,
   "outputs": [],
   "source": [
    "sampled_data = phish_data['url'].sample(5000)\n",
    "sampled_data.reset_index(inplace=True, drop=True)"
   ],
   "metadata": {
    "collapsed": false,
    "ExecuteTime": {
     "end_time": "2024-04-23T06:45:05.222950Z",
     "start_time": "2024-04-23T06:45:05.209451Z"
    }
   },
   "id": "a7db50c5bc43bfe7"
  },
  {
   "cell_type": "code",
   "execution_count": 23,
   "outputs": [
    {
     "data": {
      "text/plain": "0                 https://www.miricanvas.com/v/133rxna\n1                    https://metroconcierto.com.co/en/\n2    https://pub-eee18d8ea58d49aebba125f9b331dbea.r...\n3    https://cloudflare-ipfs.com/ipfs/bafybeidfkula...\n4                              http://www.uverdnes.cz/\nName: url, dtype: object"
     },
     "execution_count": 23,
     "metadata": {},
     "output_type": "execute_result"
    }
   ],
   "source": [
    "sampled_data.head()"
   ],
   "metadata": {
    "collapsed": false,
    "ExecuteTime": {
     "end_time": "2024-04-23T06:45:06.426175Z",
     "start_time": "2024-04-23T06:45:06.422837Z"
    }
   },
   "id": "cdce2a637f9423f2"
  },
  {
   "cell_type": "code",
   "execution_count": 24,
   "outputs": [
    {
     "data": {
      "text/plain": "(5000,)"
     },
     "execution_count": 24,
     "metadata": {},
     "output_type": "execute_result"
    }
   ],
   "source": [
    "sampled_data.shape"
   ],
   "metadata": {
    "collapsed": false,
    "ExecuteTime": {
     "end_time": "2024-04-23T06:45:13.932084Z",
     "start_time": "2024-04-23T06:45:13.928807Z"
    }
   },
   "id": "508f7459e119e2e4"
  },
  {
   "cell_type": "code",
   "execution_count": 25,
   "outputs": [
    {
     "name": "stdout",
     "output_type": "stream",
     "text": [
      "<class 'pandas.core.series.Series'>\n",
      "RangeIndex: 5000 entries, 0 to 4999\n",
      "Series name: url\n",
      "Non-Null Count  Dtype \n",
      "--------------  ----- \n",
      "5000 non-null   object\n",
      "dtypes: object(1)\n",
      "memory usage: 39.2+ KB\n"
     ]
    }
   ],
   "source": [
    "sampled_data.info()"
   ],
   "metadata": {
    "collapsed": false,
    "ExecuteTime": {
     "end_time": "2024-04-23T06:45:16.493438Z",
     "start_time": "2024-04-23T06:45:16.488697Z"
    }
   },
   "id": "6cb810b50b52763e"
  },
  {
   "cell_type": "code",
   "execution_count": 26,
   "outputs": [
    {
     "data": {
      "text/plain": "5000"
     },
     "execution_count": 26,
     "metadata": {},
     "output_type": "execute_result"
    }
   ],
   "source": [
    "sampled_data.nunique()"
   ],
   "metadata": {
    "collapsed": false,
    "ExecuteTime": {
     "end_time": "2024-04-23T06:45:38.452473Z",
     "start_time": "2024-04-23T06:45:38.439875Z"
    }
   },
   "id": "74509f5ea1dcbe6b"
  },
  {
   "cell_type": "code",
   "execution_count": 27,
   "outputs": [],
   "source": [
    "def haveAtSign(url: str) -> int:\n",
    "    return True if '@' in url else False"
   ],
   "metadata": {
    "collapsed": false,
    "ExecuteTime": {
     "end_time": "2024-04-23T06:48:44.610041Z",
     "start_time": "2024-04-23T06:48:44.597601Z"
    }
   },
   "id": "7f3135e07c384f12"
  },
  {
   "cell_type": "code",
   "execution_count": null,
   "outputs": [],
   "source": [],
   "metadata": {
    "collapsed": false
   },
   "id": "712160d41f15941b"
  }
 ],
 "metadata": {
  "kernelspec": {
   "display_name": "Python 3",
   "language": "python",
   "name": "python3"
  },
  "language_info": {
   "codemirror_mode": {
    "name": "ipython",
    "version": 2
   },
   "file_extension": ".py",
   "mimetype": "text/x-python",
   "name": "python",
   "nbconvert_exporter": "python",
   "pygments_lexer": "ipython2",
   "version": "2.7.6"
  }
 },
 "nbformat": 4,
 "nbformat_minor": 5
}
