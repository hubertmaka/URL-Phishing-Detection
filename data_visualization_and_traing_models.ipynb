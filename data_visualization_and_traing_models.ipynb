{
 "cells": [
  {
   "cell_type": "markdown",
   "id": "76d7d09ab3b12f49",
   "metadata": {
    "collapsed": false
   },
   "source": [
    "# Data Visualization And Training Models\n",
    "## In this notebook the preprocessed data are visualized on charts and ML models are learned. Furthermore model with the best statistic measure (for example accuracy) is picked to save into file."
   ]
  },
  {
   "cell_type": "markdown",
   "id": "3f3c3322c0f3093c",
   "metadata": {
    "collapsed": false
   },
   "source": [
    "### 1. Install necessary libraries"
   ]
  },
  {
   "cell_type": "code",
   "execution_count": 311,
   "id": "154fab9e33f39b79",
   "metadata": {
    "collapsed": false,
    "ExecuteTime": {
     "end_time": "2024-04-28T21:16:05.136249Z",
     "start_time": "2024-04-28T21:16:04.347675200Z"
    }
   },
   "outputs": [],
   "source": [
    "import pandas as pd\n",
    "import os\n",
    "import matplotlib.pyplot as plt\n",
    "from feature_extraction.feature_extraction import FeatureExtraction\n",
    "from feature_extraction.utils import PatternCollector\n",
    "from utils.measure_time import measure_time\n",
    "from sklearn.model_selection import train_test_split\n",
    "from sklearn.ensemble import RandomForestClassifier\n",
    "from sklearn.metrics import precision_score, recall_score, f1_score, accuracy_score, confusion_matrix\n",
    "\n",
    "from matplotlib.container import BarContainer"
   ]
  },
  {
   "cell_type": "markdown",
   "id": "c4fc917611b91ddc",
   "metadata": {
    "collapsed": false
   },
   "source": [
    "### 2. Load preprocessed data from files"
   ]
  },
  {
   "cell_type": "code",
   "execution_count": 312,
   "id": "e87a354c69df7377",
   "metadata": {
    "collapsed": false,
    "ExecuteTime": {
     "end_time": "2024-04-28T21:16:05.180088800Z",
     "start_time": "2024-04-28T21:16:05.136249Z"
    }
   },
   "outputs": [],
   "source": [
    "path_to_phish_data_file = os.path.join('preprocessed_data', 'phish_data.csv')\n",
    "path_to_non_phish_data_longer = os.path.join('preprocessed_data', 'non_phish_data_longer.csv')\n",
    "path_to_non_phish_data_shorter = os.path.join('preprocessed_data', 'non_phish_data_shorter.csv')"
   ]
  },
  {
   "cell_type": "code",
   "execution_count": 313,
   "id": "bcf318d7b25c8e3",
   "metadata": {
    "collapsed": false,
    "ExecuteTime": {
     "end_time": "2024-04-28T21:16:05.358121200Z",
     "start_time": "2024-04-28T21:16:05.164131300Z"
    }
   },
   "outputs": [],
   "source": [
    "df1_phish = pd.read_csv(path_to_phish_data_file, index_col='Unnamed: 0', encoding='utf-8')\n",
    "df1_phish.rename(columns={'PHISH_URL': 'URL'}, inplace=True)"
   ]
  },
  {
   "cell_type": "code",
   "execution_count": 314,
   "id": "6561cbca9af4142c",
   "metadata": {
    "collapsed": false,
    "ExecuteTime": {
     "end_time": "2024-04-28T21:16:05.361112400Z",
     "start_time": "2024-04-28T21:16:05.310423700Z"
    }
   },
   "outputs": [
    {
     "data": {
      "text/plain": "                                            URL  label\n0              https://ollx.1792836.xyz/captcha      1\n1                https://ufakick456.com/captcha      1\n2             https://keyeseuropean.com/captcha      1\n3  https://allegr0lokalnie.83473636.xyz/captcha      1\n4                http://ufakick456.com/fb7pl5qw      1",
      "text/html": "<div>\n<style scoped>\n    .dataframe tbody tr th:only-of-type {\n        vertical-align: middle;\n    }\n\n    .dataframe tbody tr th {\n        vertical-align: top;\n    }\n\n    .dataframe thead th {\n        text-align: right;\n    }\n</style>\n<table border=\"1\" class=\"dataframe\">\n  <thead>\n    <tr style=\"text-align: right;\">\n      <th></th>\n      <th>URL</th>\n      <th>label</th>\n    </tr>\n  </thead>\n  <tbody>\n    <tr>\n      <th>0</th>\n      <td>https://ollx.1792836.xyz/captcha</td>\n      <td>1</td>\n    </tr>\n    <tr>\n      <th>1</th>\n      <td>https://ufakick456.com/captcha</td>\n      <td>1</td>\n    </tr>\n    <tr>\n      <th>2</th>\n      <td>https://keyeseuropean.com/captcha</td>\n      <td>1</td>\n    </tr>\n    <tr>\n      <th>3</th>\n      <td>https://allegr0lokalnie.83473636.xyz/captcha</td>\n      <td>1</td>\n    </tr>\n    <tr>\n      <th>4</th>\n      <td>http://ufakick456.com/fb7pl5qw</td>\n      <td>1</td>\n    </tr>\n  </tbody>\n</table>\n</div>"
     },
     "execution_count": 314,
     "metadata": {},
     "output_type": "execute_result"
    }
   ],
   "source": [
    "df1_phish.head()"
   ]
  },
  {
   "cell_type": "code",
   "execution_count": 315,
   "id": "d50a5d7975208406",
   "metadata": {
    "collapsed": false,
    "ExecuteTime": {
     "end_time": "2024-04-28T21:16:05.825517300Z",
     "start_time": "2024-04-28T21:16:05.317488Z"
    }
   },
   "outputs": [],
   "source": [
    "df2_non_phish = pd.read_csv(path_to_non_phish_data_shorter, index_col='Unnamed: 0')\n",
    "df2_non_phish.rename(columns={'NON_PHISH_URL': 'URL'}, inplace=True)"
   ]
  },
  {
   "cell_type": "code",
   "execution_count": 316,
   "id": "66e5a7f4682435a1",
   "metadata": {
    "collapsed": false,
    "ExecuteTime": {
     "end_time": "2024-04-28T21:16:05.842280700Z",
     "start_time": "2024-04-28T21:16:05.799204800Z"
    }
   },
   "outputs": [
    {
     "data": {
      "text/plain": "                                        URL  label\n0              https://releases.jquery.com/      0\n1                  https://code.jquery.com/      0\n2              https://app.ether.fi/blocked      0\n3  https://efty.com/d/2zfr2/NeonClaims.com/      0\n4         https://www.yahoo.com/?&sid=74508      0",
      "text/html": "<div>\n<style scoped>\n    .dataframe tbody tr th:only-of-type {\n        vertical-align: middle;\n    }\n\n    .dataframe tbody tr th {\n        vertical-align: top;\n    }\n\n    .dataframe thead th {\n        text-align: right;\n    }\n</style>\n<table border=\"1\" class=\"dataframe\">\n  <thead>\n    <tr style=\"text-align: right;\">\n      <th></th>\n      <th>URL</th>\n      <th>label</th>\n    </tr>\n  </thead>\n  <tbody>\n    <tr>\n      <th>0</th>\n      <td>https://releases.jquery.com/</td>\n      <td>0</td>\n    </tr>\n    <tr>\n      <th>1</th>\n      <td>https://code.jquery.com/</td>\n      <td>0</td>\n    </tr>\n    <tr>\n      <th>2</th>\n      <td>https://app.ether.fi/blocked</td>\n      <td>0</td>\n    </tr>\n    <tr>\n      <th>3</th>\n      <td>https://efty.com/d/2zfr2/NeonClaims.com/</td>\n      <td>0</td>\n    </tr>\n    <tr>\n      <th>4</th>\n      <td>https://www.yahoo.com/?&amp;sid=74508</td>\n      <td>0</td>\n    </tr>\n  </tbody>\n</table>\n</div>"
     },
     "execution_count": 316,
     "metadata": {},
     "output_type": "execute_result"
    }
   ],
   "source": [
    "df2_non_phish.head()"
   ]
  },
  {
   "cell_type": "code",
   "execution_count": 317,
   "id": "6a395384dc5d912c",
   "metadata": {
    "collapsed": false,
    "ExecuteTime": {
     "end_time": "2024-04-28T21:16:05.845272300Z",
     "start_time": "2024-04-28T21:16:05.805025400Z"
    }
   },
   "outputs": [
    {
     "data": {
      "text/plain": "(154832, 2)"
     },
     "execution_count": 317,
     "metadata": {},
     "output_type": "execute_result"
    }
   ],
   "source": [
    "df1_phish.shape"
   ]
  },
  {
   "cell_type": "code",
   "execution_count": 318,
   "id": "cdb716b00fe2400",
   "metadata": {
    "collapsed": false,
    "ExecuteTime": {
     "end_time": "2024-04-28T21:16:05.861275900Z",
     "start_time": "2024-04-28T21:16:05.812007100Z"
    }
   },
   "outputs": [
    {
     "data": {
      "text/plain": "(443531, 2)"
     },
     "execution_count": 318,
     "metadata": {},
     "output_type": "execute_result"
    }
   ],
   "source": [
    "df2_non_phish.shape"
   ]
  },
  {
   "cell_type": "code",
   "execution_count": 319,
   "id": "6c0ee7a57754adfc",
   "metadata": {
    "collapsed": false,
    "ExecuteTime": {
     "end_time": "2024-04-28T21:16:05.939023300Z",
     "start_time": "2024-04-28T21:16:05.818535800Z"
    }
   },
   "outputs": [
    {
     "data": {
      "text/plain": "                                                      URL  label\n0                        https://ollx.1792836.xyz/captcha      1\n1                          https://ufakick456.com/captcha      1\n2                       https://keyeseuropean.com/captcha      1\n3            https://allegr0lokalnie.83473636.xyz/captcha      1\n4                          http://ufakick456.com/fb7pl5qw      1\n...                                                   ...    ...\n443567                          https://imetrica.net/css/      0\n443568  https://www.idxband.com/telin/images/e-online.php      0\n443569  https://www.coffeewithsophieinc.com/media/syst...      0\n443570                 https://conseguircreditos.webs.tl/      0\n443571  https://www.vbacreation.fr/includes/Archive/Co...      0\n\n[598363 rows x 2 columns]",
      "text/html": "<div>\n<style scoped>\n    .dataframe tbody tr th:only-of-type {\n        vertical-align: middle;\n    }\n\n    .dataframe tbody tr th {\n        vertical-align: top;\n    }\n\n    .dataframe thead th {\n        text-align: right;\n    }\n</style>\n<table border=\"1\" class=\"dataframe\">\n  <thead>\n    <tr style=\"text-align: right;\">\n      <th></th>\n      <th>URL</th>\n      <th>label</th>\n    </tr>\n  </thead>\n  <tbody>\n    <tr>\n      <th>0</th>\n      <td>https://ollx.1792836.xyz/captcha</td>\n      <td>1</td>\n    </tr>\n    <tr>\n      <th>1</th>\n      <td>https://ufakick456.com/captcha</td>\n      <td>1</td>\n    </tr>\n    <tr>\n      <th>2</th>\n      <td>https://keyeseuropean.com/captcha</td>\n      <td>1</td>\n    </tr>\n    <tr>\n      <th>3</th>\n      <td>https://allegr0lokalnie.83473636.xyz/captcha</td>\n      <td>1</td>\n    </tr>\n    <tr>\n      <th>4</th>\n      <td>http://ufakick456.com/fb7pl5qw</td>\n      <td>1</td>\n    </tr>\n    <tr>\n      <th>...</th>\n      <td>...</td>\n      <td>...</td>\n    </tr>\n    <tr>\n      <th>443567</th>\n      <td>https://imetrica.net/css/</td>\n      <td>0</td>\n    </tr>\n    <tr>\n      <th>443568</th>\n      <td>https://www.idxband.com/telin/images/e-online.php</td>\n      <td>0</td>\n    </tr>\n    <tr>\n      <th>443569</th>\n      <td>https://www.coffeewithsophieinc.com/media/syst...</td>\n      <td>0</td>\n    </tr>\n    <tr>\n      <th>443570</th>\n      <td>https://conseguircreditos.webs.tl/</td>\n      <td>0</td>\n    </tr>\n    <tr>\n      <th>443571</th>\n      <td>https://www.vbacreation.fr/includes/Archive/Co...</td>\n      <td>0</td>\n    </tr>\n  </tbody>\n</table>\n<p>598363 rows × 2 columns</p>\n</div>"
     },
     "execution_count": 319,
     "metadata": {},
     "output_type": "execute_result"
    }
   ],
   "source": [
    "df_merged = pd.concat([df1_phish, df2_non_phish])\n",
    "df_merged"
   ]
  },
  {
   "cell_type": "code",
   "execution_count": 320,
   "id": "bba7830b666e6a58",
   "metadata": {
    "collapsed": false,
    "ExecuteTime": {
     "end_time": "2024-04-28T21:16:05.967945500Z",
     "start_time": "2024-04-28T21:16:05.837484900Z"
    }
   },
   "outputs": [
    {
     "data": {
      "text/plain": "(598363, 2)"
     },
     "execution_count": 320,
     "metadata": {},
     "output_type": "execute_result"
    }
   ],
   "source": [
    "df_merged.shape"
   ]
  },
  {
   "cell_type": "code",
   "execution_count": 321,
   "id": "b11d8b2044c4aed6",
   "metadata": {
    "collapsed": false,
    "ExecuteTime": {
     "end_time": "2024-04-28T21:16:06.174655400Z",
     "start_time": "2024-04-28T21:16:05.842280700Z"
    }
   },
   "outputs": [
    {
     "data": {
      "text/plain": "URL      598227\nlabel         2\ndtype: int64"
     },
     "execution_count": 321,
     "metadata": {},
     "output_type": "execute_result"
    }
   ],
   "source": [
    "df_merged.nunique()"
   ]
  },
  {
   "cell_type": "code",
   "execution_count": 322,
   "id": "b2389ac75cce8b13",
   "metadata": {
    "collapsed": false,
    "ExecuteTime": {
     "end_time": "2024-04-28T21:16:06.217710500Z",
     "start_time": "2024-04-28T21:16:06.039789500Z"
    }
   },
   "outputs": [
    {
     "data": {
      "text/plain": "                                                      URL  label\n5654                                 https://solcold.com/      0\n5655                                  http://solcold.com/      0\n5656                            https://darkhost.pro:443/      0\n5740                   https://ciet-itac.ca/fr/user/login      0\n5751         http://sistema.gavadent.com/admin/site/login      0\n...                                                   ...    ...\n418611  https://webmail.genotec.ch/atmail/compose.php?...      0\n422034           https://jaixnchoncolimited.yolasite.com/      0\n428467  https://www.fifaonlineligen.com/cms_core/RELAT...      0\n428469  https://www.fifaonlineligen.com/cms_core/CTYPE...      0\n438326  https://savecdn.com/addon/coupontool2/iframe2.php      0\n\n[136 rows x 2 columns]",
      "text/html": "<div>\n<style scoped>\n    .dataframe tbody tr th:only-of-type {\n        vertical-align: middle;\n    }\n\n    .dataframe tbody tr th {\n        vertical-align: top;\n    }\n\n    .dataframe thead th {\n        text-align: right;\n    }\n</style>\n<table border=\"1\" class=\"dataframe\">\n  <thead>\n    <tr style=\"text-align: right;\">\n      <th></th>\n      <th>URL</th>\n      <th>label</th>\n    </tr>\n  </thead>\n  <tbody>\n    <tr>\n      <th>5654</th>\n      <td>https://solcold.com/</td>\n      <td>0</td>\n    </tr>\n    <tr>\n      <th>5655</th>\n      <td>http://solcold.com/</td>\n      <td>0</td>\n    </tr>\n    <tr>\n      <th>5656</th>\n      <td>https://darkhost.pro:443/</td>\n      <td>0</td>\n    </tr>\n    <tr>\n      <th>5740</th>\n      <td>https://ciet-itac.ca/fr/user/login</td>\n      <td>0</td>\n    </tr>\n    <tr>\n      <th>5751</th>\n      <td>http://sistema.gavadent.com/admin/site/login</td>\n      <td>0</td>\n    </tr>\n    <tr>\n      <th>...</th>\n      <td>...</td>\n      <td>...</td>\n    </tr>\n    <tr>\n      <th>418611</th>\n      <td>https://webmail.genotec.ch/atmail/compose.php?...</td>\n      <td>0</td>\n    </tr>\n    <tr>\n      <th>422034</th>\n      <td>https://jaixnchoncolimited.yolasite.com/</td>\n      <td>0</td>\n    </tr>\n    <tr>\n      <th>428467</th>\n      <td>https://www.fifaonlineligen.com/cms_core/RELAT...</td>\n      <td>0</td>\n    </tr>\n    <tr>\n      <th>428469</th>\n      <td>https://www.fifaonlineligen.com/cms_core/CTYPE...</td>\n      <td>0</td>\n    </tr>\n    <tr>\n      <th>438326</th>\n      <td>https://savecdn.com/addon/coupontool2/iframe2.php</td>\n      <td>0</td>\n    </tr>\n  </tbody>\n</table>\n<p>136 rows × 2 columns</p>\n</div>"
     },
     "execution_count": 322,
     "metadata": {},
     "output_type": "execute_result"
    }
   ],
   "source": [
    "df_merged[df_merged['URL'].duplicated()]"
   ]
  },
  {
   "cell_type": "code",
   "execution_count": 323,
   "id": "cfd8ceef62afb53e",
   "metadata": {
    "collapsed": false,
    "ExecuteTime": {
     "end_time": "2024-04-28T21:16:06.311351Z",
     "start_time": "2024-04-28T21:16:06.116983500Z"
    }
   },
   "outputs": [
    {
     "data": {
      "text/plain": "136"
     },
     "execution_count": 323,
     "metadata": {},
     "output_type": "execute_result"
    }
   ],
   "source": [
    "df_merged['URL'].duplicated().sum()"
   ]
  },
  {
   "cell_type": "markdown",
   "id": "c37aa9511fbbcb2c",
   "metadata": {
    "collapsed": false
   },
   "source": [
    "#### Drop duplicates:"
   ]
  },
  {
   "cell_type": "code",
   "execution_count": 324,
   "id": "a345dd76e987c61f",
   "metadata": {
    "collapsed": false,
    "ExecuteTime": {
     "end_time": "2024-04-28T21:16:06.378172Z",
     "start_time": "2024-04-28T21:16:06.184799400Z"
    }
   },
   "outputs": [],
   "source": [
    "df_merged.drop_duplicates(subset=['URL'], inplace=True, keep=False)"
   ]
  },
  {
   "cell_type": "code",
   "execution_count": 325,
   "id": "20f61a7ee0e5d34f",
   "metadata": {
    "collapsed": false,
    "ExecuteTime": {
     "end_time": "2024-04-28T21:16:06.543966100Z",
     "start_time": "2024-04-28T21:16:06.288412600Z"
    }
   },
   "outputs": [
    {
     "data": {
      "text/plain": "URL      598091\nlabel         2\ndtype: int64"
     },
     "execution_count": 325,
     "metadata": {},
     "output_type": "execute_result"
    }
   ],
   "source": [
    "df_merged.nunique()"
   ]
  },
  {
   "cell_type": "code",
   "execution_count": 326,
   "id": "1f64fa28636cf4d1",
   "metadata": {
    "collapsed": false,
    "ExecuteTime": {
     "end_time": "2024-04-28T21:16:06.574883300Z",
     "start_time": "2024-04-28T21:16:06.474845Z"
    }
   },
   "outputs": [
    {
     "data": {
      "text/plain": "(598091, 2)"
     },
     "execution_count": 326,
     "metadata": {},
     "output_type": "execute_result"
    }
   ],
   "source": [
    "df_merged.shape"
   ]
  },
  {
   "cell_type": "markdown",
   "id": "f93ad523863c7142",
   "metadata": {
    "collapsed": false
   },
   "source": [
    "### 3. Take equal number of rows from both DataFrames (in this example by 50.000 from each)"
   ]
  },
  {
   "cell_type": "code",
   "execution_count": 327,
   "id": "a5c37b720a611e88",
   "metadata": {
    "collapsed": false,
    "ExecuteTime": {
     "end_time": "2024-04-28T21:16:06.643631700Z",
     "start_time": "2024-04-28T21:16:06.481904700Z"
    }
   },
   "outputs": [],
   "source": [
    "label1_filter = df_merged['label'] == 1\n",
    "df_urls_1 = df_merged[label1_filter].sample(150_000)"
   ]
  },
  {
   "cell_type": "code",
   "execution_count": 328,
   "id": "1134d9de72b2dabf",
   "metadata": {
    "collapsed": false,
    "ExecuteTime": {
     "end_time": "2024-04-28T21:16:06.646623700Z",
     "start_time": "2024-04-28T21:16:06.514091200Z"
    }
   },
   "outputs": [
    {
     "data": {
      "text/plain": "(150000, 2)"
     },
     "execution_count": 328,
     "metadata": {},
     "output_type": "execute_result"
    }
   ],
   "source": [
    "df_urls_1.shape"
   ]
  },
  {
   "cell_type": "code",
   "execution_count": 329,
   "id": "b10c8387b2a6523e",
   "metadata": {
    "collapsed": false,
    "ExecuteTime": {
     "end_time": "2024-04-28T21:16:06.669563Z",
     "start_time": "2024-04-28T21:16:06.519724600Z"
    }
   },
   "outputs": [
    {
     "data": {
      "text/plain": "          URL\nlabel        \n1      150000",
      "text/html": "<div>\n<style scoped>\n    .dataframe tbody tr th:only-of-type {\n        vertical-align: middle;\n    }\n\n    .dataframe tbody tr th {\n        vertical-align: top;\n    }\n\n    .dataframe thead th {\n        text-align: right;\n    }\n</style>\n<table border=\"1\" class=\"dataframe\">\n  <thead>\n    <tr style=\"text-align: right;\">\n      <th></th>\n      <th>URL</th>\n    </tr>\n    <tr>\n      <th>label</th>\n      <th></th>\n    </tr>\n  </thead>\n  <tbody>\n    <tr>\n      <th>1</th>\n      <td>150000</td>\n    </tr>\n  </tbody>\n</table>\n</div>"
     },
     "execution_count": 329,
     "metadata": {},
     "output_type": "execute_result"
    }
   ],
   "source": [
    "df_urls_1.groupby('label').count()"
   ]
  },
  {
   "cell_type": "code",
   "execution_count": 330,
   "id": "f957ba85e49cd993",
   "metadata": {
    "collapsed": false,
    "ExecuteTime": {
     "end_time": "2024-04-28T21:16:06.713653200Z",
     "start_time": "2024-04-28T21:16:06.541971500Z"
    }
   },
   "outputs": [],
   "source": [
    "label0_filter = df_merged['label'] == 0\n",
    "df_urls_2 = df_merged[label0_filter].sample(150_000)"
   ]
  },
  {
   "cell_type": "code",
   "execution_count": 331,
   "id": "26e6a903c0ebba9d",
   "metadata": {
    "collapsed": false,
    "ExecuteTime": {
     "end_time": "2024-04-28T21:16:06.716645100Z",
     "start_time": "2024-04-28T21:16:06.602638700Z"
    }
   },
   "outputs": [
    {
     "data": {
      "text/plain": "(150000, 2)"
     },
     "execution_count": 331,
     "metadata": {},
     "output_type": "execute_result"
    }
   ],
   "source": [
    "df_urls_2.shape"
   ]
  },
  {
   "cell_type": "code",
   "execution_count": 332,
   "id": "ef89793e7c63254d",
   "metadata": {
    "collapsed": false,
    "ExecuteTime": {
     "end_time": "2024-04-28T21:16:06.775488700Z",
     "start_time": "2024-04-28T21:16:06.609442600Z"
    }
   },
   "outputs": [
    {
     "data": {
      "text/plain": "          URL\nlabel        \n0      150000",
      "text/html": "<div>\n<style scoped>\n    .dataframe tbody tr th:only-of-type {\n        vertical-align: middle;\n    }\n\n    .dataframe tbody tr th {\n        vertical-align: top;\n    }\n\n    .dataframe thead th {\n        text-align: right;\n    }\n</style>\n<table border=\"1\" class=\"dataframe\">\n  <thead>\n    <tr style=\"text-align: right;\">\n      <th></th>\n      <th>URL</th>\n    </tr>\n    <tr>\n      <th>label</th>\n      <th></th>\n    </tr>\n  </thead>\n  <tbody>\n    <tr>\n      <th>0</th>\n      <td>150000</td>\n    </tr>\n  </tbody>\n</table>\n</div>"
     },
     "execution_count": 332,
     "metadata": {},
     "output_type": "execute_result"
    }
   ],
   "source": [
    "df_urls_2.groupby('label').count()"
   ]
  },
  {
   "cell_type": "markdown",
   "id": "8f167cf92cd96221",
   "metadata": {
    "collapsed": false
   },
   "source": [
    "#### Merge DataFrames into  frame:"
   ]
  },
  {
   "cell_type": "code",
   "execution_count": 333,
   "id": "215702a115070bc2",
   "metadata": {
    "collapsed": false,
    "ExecuteTime": {
     "end_time": "2024-04-28T21:16:06.778480700Z",
     "start_time": "2024-04-28T21:16:06.634104800Z"
    }
   },
   "outputs": [],
   "source": [
    "df_urls = pd.concat([df_urls_1, df_urls_2])"
   ]
  },
  {
   "cell_type": "code",
   "execution_count": 334,
   "id": "59ac6adf443b50c8",
   "metadata": {
    "collapsed": false,
    "ExecuteTime": {
     "end_time": "2024-04-28T21:16:06.844332700Z",
     "start_time": "2024-04-28T21:16:06.695494300Z"
    }
   },
   "outputs": [
    {
     "data": {
      "text/plain": "(300000, 2)"
     },
     "execution_count": 334,
     "metadata": {},
     "output_type": "execute_result"
    }
   ],
   "source": [
    "df_urls.shape"
   ]
  },
  {
   "cell_type": "code",
   "execution_count": 335,
   "id": "e5e29c477e29207b",
   "metadata": {
    "collapsed": false,
    "ExecuteTime": {
     "end_time": "2024-04-28T21:16:07.060672200Z",
     "start_time": "2024-04-28T21:16:06.845302900Z"
    }
   },
   "outputs": [
    {
     "data": {
      "text/plain": "          URL\nlabel        \n0      150000\n1      150000",
      "text/html": "<div>\n<style scoped>\n    .dataframe tbody tr th:only-of-type {\n        vertical-align: middle;\n    }\n\n    .dataframe tbody tr th {\n        vertical-align: top;\n    }\n\n    .dataframe thead th {\n        text-align: right;\n    }\n</style>\n<table border=\"1\" class=\"dataframe\">\n  <thead>\n    <tr style=\"text-align: right;\">\n      <th></th>\n      <th>URL</th>\n    </tr>\n    <tr>\n      <th>label</th>\n      <th></th>\n    </tr>\n  </thead>\n  <tbody>\n    <tr>\n      <th>0</th>\n      <td>150000</td>\n    </tr>\n    <tr>\n      <th>1</th>\n      <td>150000</td>\n    </tr>\n  </tbody>\n</table>\n</div>"
     },
     "execution_count": 335,
     "metadata": {},
     "output_type": "execute_result"
    }
   ],
   "source": [
    "df_urls.groupby('label').count()"
   ]
  },
  {
   "cell_type": "code",
   "execution_count": 336,
   "id": "8114c4f48e00809b",
   "metadata": {
    "collapsed": false,
    "ExecuteTime": {
     "end_time": "2024-04-28T21:16:07.122507600Z",
     "start_time": "2024-04-28T21:16:06.991869400Z"
    }
   },
   "outputs": [
    {
     "data": {
      "text/plain": "                                                      URL  label\n124055  home.neopets.com/templates/homepage.phtml?pet_...      1\n110763                          www.islandnet.com/~canoes      1\n61008                     share.heropixphotography.com.au      1\n16312                https://aabnepfrtis.firebaseapp.com/      1\n130310                      www.cs.utexas.edu/users/code/      1",
      "text/html": "<div>\n<style scoped>\n    .dataframe tbody tr th:only-of-type {\n        vertical-align: middle;\n    }\n\n    .dataframe tbody tr th {\n        vertical-align: top;\n    }\n\n    .dataframe thead th {\n        text-align: right;\n    }\n</style>\n<table border=\"1\" class=\"dataframe\">\n  <thead>\n    <tr style=\"text-align: right;\">\n      <th></th>\n      <th>URL</th>\n      <th>label</th>\n    </tr>\n  </thead>\n  <tbody>\n    <tr>\n      <th>124055</th>\n      <td>home.neopets.com/templates/homepage.phtml?pet_...</td>\n      <td>1</td>\n    </tr>\n    <tr>\n      <th>110763</th>\n      <td>www.islandnet.com/~canoes</td>\n      <td>1</td>\n    </tr>\n    <tr>\n      <th>61008</th>\n      <td>share.heropixphotography.com.au</td>\n      <td>1</td>\n    </tr>\n    <tr>\n      <th>16312</th>\n      <td>https://aabnepfrtis.firebaseapp.com/</td>\n      <td>1</td>\n    </tr>\n    <tr>\n      <th>130310</th>\n      <td>www.cs.utexas.edu/users/code/</td>\n      <td>1</td>\n    </tr>\n  </tbody>\n</table>\n</div>"
     },
     "execution_count": 336,
     "metadata": {},
     "output_type": "execute_result"
    }
   ],
   "source": [
    "df_urls.head()"
   ]
  },
  {
   "cell_type": "code",
   "execution_count": 337,
   "id": "3720c0b06095c0d0",
   "metadata": {
    "collapsed": false,
    "ExecuteTime": {
     "end_time": "2024-04-28T21:16:07.283499Z",
     "start_time": "2024-04-28T21:16:07.121508800Z"
    }
   },
   "outputs": [
    {
     "data": {
      "text/plain": "                                                      URL  label\n51012                         https://williamjamison.com/      0\n168302  https://http://xhamster.com/movies/4570137/chu...      0\n365929   https://answers.com/topic/pride-prejudice-film-1      0\n298636  https://footballdb.com/teams/nfl/san-diego-cha...      0\n207457  https://en.wikipedia.org/wiki/Afrikan_Centered...      0",
      "text/html": "<div>\n<style scoped>\n    .dataframe tbody tr th:only-of-type {\n        vertical-align: middle;\n    }\n\n    .dataframe tbody tr th {\n        vertical-align: top;\n    }\n\n    .dataframe thead th {\n        text-align: right;\n    }\n</style>\n<table border=\"1\" class=\"dataframe\">\n  <thead>\n    <tr style=\"text-align: right;\">\n      <th></th>\n      <th>URL</th>\n      <th>label</th>\n    </tr>\n  </thead>\n  <tbody>\n    <tr>\n      <th>51012</th>\n      <td>https://williamjamison.com/</td>\n      <td>0</td>\n    </tr>\n    <tr>\n      <th>168302</th>\n      <td>https://http://xhamster.com/movies/4570137/chu...</td>\n      <td>0</td>\n    </tr>\n    <tr>\n      <th>365929</th>\n      <td>https://answers.com/topic/pride-prejudice-film-1</td>\n      <td>0</td>\n    </tr>\n    <tr>\n      <th>298636</th>\n      <td>https://footballdb.com/teams/nfl/san-diego-cha...</td>\n      <td>0</td>\n    </tr>\n    <tr>\n      <th>207457</th>\n      <td>https://en.wikipedia.org/wiki/Afrikan_Centered...</td>\n      <td>0</td>\n    </tr>\n  </tbody>\n</table>\n</div>"
     },
     "execution_count": 337,
     "metadata": {},
     "output_type": "execute_result"
    }
   ],
   "source": [
    "df_urls.tail()"
   ]
  },
  {
   "cell_type": "code",
   "execution_count": 338,
   "id": "795800ea8c38f5ab",
   "metadata": {
    "collapsed": false,
    "ExecuteTime": {
     "end_time": "2024-04-28T21:16:07.459700900Z",
     "start_time": "2024-04-28T21:16:07.232559400Z"
    }
   },
   "outputs": [],
   "source": [
    "df_urls = df_urls.sample(len(df_urls))"
   ]
  },
  {
   "cell_type": "code",
   "execution_count": 339,
   "id": "9ff17ad451a3a02f",
   "metadata": {
    "collapsed": false,
    "ExecuteTime": {
     "end_time": "2024-04-28T21:16:07.569292600Z",
     "start_time": "2024-04-28T21:16:07.361292800Z"
    }
   },
   "outputs": [
    {
     "data": {
      "text/plain": "                                                      URL  label\n432065  https://thombas.biz/xDcntrlde/_webscr.php?nxEX...      0\n150076                        www.interformic.com/he.html      1\n26162                             https://usp.usspvp.top/      1\n362699  https://screenjunkies.com/movies/actors-direct...      0\n68564                                         yipstas.com      1\n60531        https://woodsculptures.ckchancollection.net/      0\n54240   https://notquitenigella.com/2010/06/25/a-food-...      0\n419282  https://www.id204-natwest.com/index.php?id=692226      0\n369184    https://faqs.org/people-search/lafond-illinois/      0\n13119   https://pub-50bae6e961394aaeaffc8b60a530ba91.r...      1",
      "text/html": "<div>\n<style scoped>\n    .dataframe tbody tr th:only-of-type {\n        vertical-align: middle;\n    }\n\n    .dataframe tbody tr th {\n        vertical-align: top;\n    }\n\n    .dataframe thead th {\n        text-align: right;\n    }\n</style>\n<table border=\"1\" class=\"dataframe\">\n  <thead>\n    <tr style=\"text-align: right;\">\n      <th></th>\n      <th>URL</th>\n      <th>label</th>\n    </tr>\n  </thead>\n  <tbody>\n    <tr>\n      <th>432065</th>\n      <td>https://thombas.biz/xDcntrlde/_webscr.php?nxEX...</td>\n      <td>0</td>\n    </tr>\n    <tr>\n      <th>150076</th>\n      <td>www.interformic.com/he.html</td>\n      <td>1</td>\n    </tr>\n    <tr>\n      <th>26162</th>\n      <td>https://usp.usspvp.top/</td>\n      <td>1</td>\n    </tr>\n    <tr>\n      <th>362699</th>\n      <td>https://screenjunkies.com/movies/actors-direct...</td>\n      <td>0</td>\n    </tr>\n    <tr>\n      <th>68564</th>\n      <td>yipstas.com</td>\n      <td>1</td>\n    </tr>\n    <tr>\n      <th>60531</th>\n      <td>https://woodsculptures.ckchancollection.net/</td>\n      <td>0</td>\n    </tr>\n    <tr>\n      <th>54240</th>\n      <td>https://notquitenigella.com/2010/06/25/a-food-...</td>\n      <td>0</td>\n    </tr>\n    <tr>\n      <th>419282</th>\n      <td>https://www.id204-natwest.com/index.php?id=692226</td>\n      <td>0</td>\n    </tr>\n    <tr>\n      <th>369184</th>\n      <td>https://faqs.org/people-search/lafond-illinois/</td>\n      <td>0</td>\n    </tr>\n    <tr>\n      <th>13119</th>\n      <td>https://pub-50bae6e961394aaeaffc8b60a530ba91.r...</td>\n      <td>1</td>\n    </tr>\n  </tbody>\n</table>\n</div>"
     },
     "execution_count": 339,
     "metadata": {},
     "output_type": "execute_result"
    }
   ],
   "source": [
    "df_urls.head(10)"
   ]
  },
  {
   "cell_type": "code",
   "execution_count": 340,
   "id": "b9490b1fa6c3bc5e",
   "metadata": {
    "collapsed": false,
    "ExecuteTime": {
     "end_time": "2024-04-28T21:16:07.674664200Z",
     "start_time": "2024-04-28T21:16:07.550459600Z"
    }
   },
   "outputs": [
    {
     "data": {
      "text/plain": "                                                      URL  label\n123121                             www.icann.org/en/udrp/      1\n203650  https://rottentomatoes.com/celebrity/melissa_g...      0\n6392    http://billiardpg.ir/Webmail/50/Webmail/webmai...      1\n66862                                      overliefde.com      1\n40019   https://new.express.adobe.com/webpage/KbWLF7JN...      1\n151259                            www.sniff.org/sega.html      1\n85510   https://en.netlog.com/go/directory/people/01/m...      0\n15369             http://best-soft.ru/programs/11938.html      0\n99765   http://www.cashflowfxonline.com/wp-content/the...      1\n409460  https://us.battle.net.login.en.vv-rs.com/login...      0",
      "text/html": "<div>\n<style scoped>\n    .dataframe tbody tr th:only-of-type {\n        vertical-align: middle;\n    }\n\n    .dataframe tbody tr th {\n        vertical-align: top;\n    }\n\n    .dataframe thead th {\n        text-align: right;\n    }\n</style>\n<table border=\"1\" class=\"dataframe\">\n  <thead>\n    <tr style=\"text-align: right;\">\n      <th></th>\n      <th>URL</th>\n      <th>label</th>\n    </tr>\n  </thead>\n  <tbody>\n    <tr>\n      <th>123121</th>\n      <td>www.icann.org/en/udrp/</td>\n      <td>1</td>\n    </tr>\n    <tr>\n      <th>203650</th>\n      <td>https://rottentomatoes.com/celebrity/melissa_g...</td>\n      <td>0</td>\n    </tr>\n    <tr>\n      <th>6392</th>\n      <td>http://billiardpg.ir/Webmail/50/Webmail/webmai...</td>\n      <td>1</td>\n    </tr>\n    <tr>\n      <th>66862</th>\n      <td>overliefde.com</td>\n      <td>1</td>\n    </tr>\n    <tr>\n      <th>40019</th>\n      <td>https://new.express.adobe.com/webpage/KbWLF7JN...</td>\n      <td>1</td>\n    </tr>\n    <tr>\n      <th>151259</th>\n      <td>www.sniff.org/sega.html</td>\n      <td>1</td>\n    </tr>\n    <tr>\n      <th>85510</th>\n      <td>https://en.netlog.com/go/directory/people/01/m...</td>\n      <td>0</td>\n    </tr>\n    <tr>\n      <th>15369</th>\n      <td>http://best-soft.ru/programs/11938.html</td>\n      <td>0</td>\n    </tr>\n    <tr>\n      <th>99765</th>\n      <td>http://www.cashflowfxonline.com/wp-content/the...</td>\n      <td>1</td>\n    </tr>\n    <tr>\n      <th>409460</th>\n      <td>https://us.battle.net.login.en.vv-rs.com/login...</td>\n      <td>0</td>\n    </tr>\n  </tbody>\n</table>\n</div>"
     },
     "execution_count": 340,
     "metadata": {},
     "output_type": "execute_result"
    }
   ],
   "source": [
    "df_urls.tail(10)"
   ]
  },
  {
   "cell_type": "code",
   "execution_count": 341,
   "id": "4d95bb8d1a95a286",
   "metadata": {
    "collapsed": false,
    "ExecuteTime": {
     "end_time": "2024-04-28T21:16:07.789186700Z",
     "start_time": "2024-04-28T21:16:07.674664200Z"
    }
   },
   "outputs": [
    {
     "data": {
      "text/plain": "(300000, 2)"
     },
     "execution_count": 341,
     "metadata": {},
     "output_type": "execute_result"
    }
   ],
   "source": [
    "df_urls.shape"
   ]
  },
  {
   "cell_type": "code",
   "execution_count": 342,
   "id": "9c823c85c1fa7e7e",
   "metadata": {
    "collapsed": false,
    "ExecuteTime": {
     "end_time": "2024-04-28T21:16:07.942085200Z",
     "start_time": "2024-04-28T21:16:07.767218900Z"
    }
   },
   "outputs": [
    {
     "data": {
      "text/plain": "          URL\nlabel        \n0      150000\n1      150000",
      "text/html": "<div>\n<style scoped>\n    .dataframe tbody tr th:only-of-type {\n        vertical-align: middle;\n    }\n\n    .dataframe tbody tr th {\n        vertical-align: top;\n    }\n\n    .dataframe thead th {\n        text-align: right;\n    }\n</style>\n<table border=\"1\" class=\"dataframe\">\n  <thead>\n    <tr style=\"text-align: right;\">\n      <th></th>\n      <th>URL</th>\n    </tr>\n    <tr>\n      <th>label</th>\n      <th></th>\n    </tr>\n  </thead>\n  <tbody>\n    <tr>\n      <th>0</th>\n      <td>150000</td>\n    </tr>\n    <tr>\n      <th>1</th>\n      <td>150000</td>\n    </tr>\n  </tbody>\n</table>\n</div>"
     },
     "execution_count": 342,
     "metadata": {},
     "output_type": "execute_result"
    }
   ],
   "source": [
    "df_urls.groupby('label').count()"
   ]
  },
  {
   "cell_type": "markdown",
   "id": "3afa6e38737260ad",
   "metadata": {
    "collapsed": false
   },
   "source": [
    "#### Checking for nulls:"
   ]
  },
  {
   "cell_type": "code",
   "execution_count": 343,
   "id": "a7151af3285a6d39",
   "metadata": {
    "collapsed": false,
    "ExecuteTime": {
     "end_time": "2024-04-28T21:16:08.072250400Z",
     "start_time": "2024-04-28T21:16:07.898737Z"
    }
   },
   "outputs": [
    {
     "data": {
      "text/plain": "0"
     },
     "execution_count": 343,
     "metadata": {},
     "output_type": "execute_result"
    }
   ],
   "source": [
    "df_urls['URL'].isnull().sum()"
   ]
  },
  {
   "cell_type": "code",
   "execution_count": 344,
   "id": "18742cac6f39c11b",
   "metadata": {
    "collapsed": false,
    "ExecuteTime": {
     "end_time": "2024-04-28T21:16:08.217067700Z",
     "start_time": "2024-04-28T21:16:07.999930500Z"
    }
   },
   "outputs": [
    {
     "data": {
      "text/plain": "0"
     },
     "execution_count": 344,
     "metadata": {},
     "output_type": "execute_result"
    }
   ],
   "source": [
    "df_urls['URL'].isnull().sum()"
   ]
  },
  {
   "cell_type": "markdown",
   "id": "c9a5e1c9a12aea34",
   "metadata": {
    "collapsed": false
   },
   "source": [
    "#### Plot the data:"
   ]
  },
  {
   "cell_type": "code",
   "execution_count": 345,
   "id": "164ef03fa064f490",
   "metadata": {
    "collapsed": false,
    "ExecuteTime": {
     "end_time": "2024-04-28T21:16:08.282889800Z",
     "start_time": "2024-04-28T21:16:08.152037800Z"
    }
   },
   "outputs": [
    {
     "data": {
      "text/plain": "label\n0    150000\n1    150000\nName: count, dtype: int64"
     },
     "execution_count": 345,
     "metadata": {},
     "output_type": "execute_result"
    }
   ],
   "source": [
    "labels_counts = df_urls['label'].value_counts()\n",
    "label_desc = labels_counts.index\n",
    "labels_counts"
   ]
  },
  {
   "cell_type": "code",
   "execution_count": 346,
   "id": "9faf0aba17ab6490",
   "metadata": {
    "collapsed": false,
    "ExecuteTime": {
     "end_time": "2024-04-28T21:16:08.441563300Z",
     "start_time": "2024-04-28T21:16:08.261921400Z"
    }
   },
   "outputs": [
    {
     "data": {
      "text/plain": "<Figure size 800x800 with 1 Axes>",
      "image/png": "[encoded data removed]"
     },
     "metadata": {},
     "output_type": "display_data"
    }
   ],
   "source": [
    "plt.figure(figsize=(8, 8))\n",
    "plt.pie(labels_counts, labels=label_desc, autopct='%1.1f%%')\n",
    "plt.title(\"Distribution of labels\")\n",
    "plt.legend(['Label 1 - PHISH URLS', 'Label 2 - NON PHISH URLS'], loc='upper right')\n",
    "plt.show()"
   ]
  },
  {
   "cell_type": "code",
   "execution_count": 347,
   "id": "4b7014f901826af2",
   "metadata": {
    "collapsed": false,
    "ExecuteTime": {
     "end_time": "2024-04-28T21:16:09.182523900Z",
     "start_time": "2024-04-28T21:16:08.372237600Z"
    }
   },
   "outputs": [
    {
     "ename": "ValueError",
     "evalue": "'.' does not appear to be an IPv4 or IPv6 address",
     "output_type": "error",
     "traceback": [
      "\u001B[1;31m---------------------------------------------------------------------------\u001B[0m",
      "\u001B[1;31mValueError\u001B[0m                                Traceback (most recent call last)",
      "Cell \u001B[1;32mIn[347], line 1\u001B[0m\n\u001B[1;32m----> 1\u001B[0m df_urls[\u001B[38;5;124m'\u001B[39m\u001B[38;5;124mURL_LENGTH\u001B[39m\u001B[38;5;124m'\u001B[39m] \u001B[38;5;241m=\u001B[39m \u001B[43mdf_urls\u001B[49m\u001B[43m[\u001B[49m\u001B[38;5;124;43m'\u001B[39;49m\u001B[38;5;124;43mURL\u001B[39;49m\u001B[38;5;124;43m'\u001B[39;49m\u001B[43m]\u001B[49m\u001B[38;5;241;43m.\u001B[39;49m\u001B[43mapply\u001B[49m\u001B[43m(\u001B[49m\u001B[38;5;28;43;01mlambda\u001B[39;49;00m\u001B[43m \u001B[49m\u001B[43murl\u001B[49m\u001B[43m:\u001B[49m\u001B[43m \u001B[49m\u001B[43mFeatureExtraction\u001B[49m\u001B[43m(\u001B[49m\u001B[43murl\u001B[49m\u001B[43m)\u001B[49m\u001B[38;5;241;43m.\u001B[39;49m\u001B[43murl_length\u001B[49m\u001B[43m)\u001B[49m\n",
      "File \u001B[1;32m~\\Desktop\\Python\\Projekt Koło Naukowe\\Phishing-url-detection\\.venv\\Lib\\site-packages\\pandas\\core\\series.py:4924\u001B[0m, in \u001B[0;36mSeries.apply\u001B[1;34m(self, func, convert_dtype, args, by_row, **kwargs)\u001B[0m\n\u001B[0;32m   4789\u001B[0m \u001B[38;5;28;01mdef\u001B[39;00m \u001B[38;5;21mapply\u001B[39m(\n\u001B[0;32m   4790\u001B[0m     \u001B[38;5;28mself\u001B[39m,\n\u001B[0;32m   4791\u001B[0m     func: AggFuncType,\n\u001B[1;32m   (...)\u001B[0m\n\u001B[0;32m   4796\u001B[0m     \u001B[38;5;241m*\u001B[39m\u001B[38;5;241m*\u001B[39mkwargs,\n\u001B[0;32m   4797\u001B[0m ) \u001B[38;5;241m-\u001B[39m\u001B[38;5;241m>\u001B[39m DataFrame \u001B[38;5;241m|\u001B[39m Series:\n\u001B[0;32m   4798\u001B[0m \u001B[38;5;250m    \u001B[39m\u001B[38;5;124;03m\"\"\"\u001B[39;00m\n\u001B[0;32m   4799\u001B[0m \u001B[38;5;124;03m    Invoke function on values of Series.\u001B[39;00m\n\u001B[0;32m   4800\u001B[0m \n\u001B[1;32m   (...)\u001B[0m\n\u001B[0;32m   4915\u001B[0m \u001B[38;5;124;03m    dtype: float64\u001B[39;00m\n\u001B[0;32m   4916\u001B[0m \u001B[38;5;124;03m    \"\"\"\u001B[39;00m\n\u001B[0;32m   4917\u001B[0m     \u001B[38;5;28;01mreturn\u001B[39;00m \u001B[43mSeriesApply\u001B[49m\u001B[43m(\u001B[49m\n\u001B[0;32m   4918\u001B[0m \u001B[43m        \u001B[49m\u001B[38;5;28;43mself\u001B[39;49m\u001B[43m,\u001B[49m\n\u001B[0;32m   4919\u001B[0m \u001B[43m        \u001B[49m\u001B[43mfunc\u001B[49m\u001B[43m,\u001B[49m\n\u001B[0;32m   4920\u001B[0m \u001B[43m        \u001B[49m\u001B[43mconvert_dtype\u001B[49m\u001B[38;5;241;43m=\u001B[39;49m\u001B[43mconvert_dtype\u001B[49m\u001B[43m,\u001B[49m\n\u001B[0;32m   4921\u001B[0m \u001B[43m        \u001B[49m\u001B[43mby_row\u001B[49m\u001B[38;5;241;43m=\u001B[39;49m\u001B[43mby_row\u001B[49m\u001B[43m,\u001B[49m\n\u001B[0;32m   4922\u001B[0m \u001B[43m        \u001B[49m\u001B[43margs\u001B[49m\u001B[38;5;241;43m=\u001B[39;49m\u001B[43margs\u001B[49m\u001B[43m,\u001B[49m\n\u001B[0;32m   4923\u001B[0m \u001B[43m        \u001B[49m\u001B[43mkwargs\u001B[49m\u001B[38;5;241;43m=\u001B[39;49m\u001B[43mkwargs\u001B[49m\u001B[43m,\u001B[49m\n\u001B[1;32m-> 4924\u001B[0m \u001B[43m    \u001B[49m\u001B[43m)\u001B[49m\u001B[38;5;241;43m.\u001B[39;49m\u001B[43mapply\u001B[49m\u001B[43m(\u001B[49m\u001B[43m)\u001B[49m\n",
      "File \u001B[1;32m~\\Desktop\\Python\\Projekt Koło Naukowe\\Phishing-url-detection\\.venv\\Lib\\site-packages\\pandas\\core\\apply.py:1427\u001B[0m, in \u001B[0;36mSeriesApply.apply\u001B[1;34m(self)\u001B[0m\n\u001B[0;32m   1424\u001B[0m     \u001B[38;5;28;01mreturn\u001B[39;00m \u001B[38;5;28mself\u001B[39m\u001B[38;5;241m.\u001B[39mapply_compat()\n\u001B[0;32m   1426\u001B[0m \u001B[38;5;66;03m# self.func is Callable\u001B[39;00m\n\u001B[1;32m-> 1427\u001B[0m \u001B[38;5;28;01mreturn\u001B[39;00m \u001B[38;5;28;43mself\u001B[39;49m\u001B[38;5;241;43m.\u001B[39;49m\u001B[43mapply_standard\u001B[49m\u001B[43m(\u001B[49m\u001B[43m)\u001B[49m\n",
      "File \u001B[1;32m~\\Desktop\\Python\\Projekt Koło Naukowe\\Phishing-url-detection\\.venv\\Lib\\site-packages\\pandas\\core\\apply.py:1507\u001B[0m, in \u001B[0;36mSeriesApply.apply_standard\u001B[1;34m(self)\u001B[0m\n\u001B[0;32m   1501\u001B[0m \u001B[38;5;66;03m# row-wise access\u001B[39;00m\n\u001B[0;32m   1502\u001B[0m \u001B[38;5;66;03m# apply doesn't have a `na_action` keyword and for backward compat reasons\u001B[39;00m\n\u001B[0;32m   1503\u001B[0m \u001B[38;5;66;03m# we need to give `na_action=\"ignore\"` for categorical data.\u001B[39;00m\n\u001B[0;32m   1504\u001B[0m \u001B[38;5;66;03m# TODO: remove the `na_action=\"ignore\"` when that default has been changed in\u001B[39;00m\n\u001B[0;32m   1505\u001B[0m \u001B[38;5;66;03m#  Categorical (GH51645).\u001B[39;00m\n\u001B[0;32m   1506\u001B[0m action \u001B[38;5;241m=\u001B[39m \u001B[38;5;124m\"\u001B[39m\u001B[38;5;124mignore\u001B[39m\u001B[38;5;124m\"\u001B[39m \u001B[38;5;28;01mif\u001B[39;00m \u001B[38;5;28misinstance\u001B[39m(obj\u001B[38;5;241m.\u001B[39mdtype, CategoricalDtype) \u001B[38;5;28;01melse\u001B[39;00m \u001B[38;5;28;01mNone\u001B[39;00m\n\u001B[1;32m-> 1507\u001B[0m mapped \u001B[38;5;241m=\u001B[39m \u001B[43mobj\u001B[49m\u001B[38;5;241;43m.\u001B[39;49m\u001B[43m_map_values\u001B[49m\u001B[43m(\u001B[49m\n\u001B[0;32m   1508\u001B[0m \u001B[43m    \u001B[49m\u001B[43mmapper\u001B[49m\u001B[38;5;241;43m=\u001B[39;49m\u001B[43mcurried\u001B[49m\u001B[43m,\u001B[49m\u001B[43m \u001B[49m\u001B[43mna_action\u001B[49m\u001B[38;5;241;43m=\u001B[39;49m\u001B[43maction\u001B[49m\u001B[43m,\u001B[49m\u001B[43m \u001B[49m\u001B[43mconvert\u001B[49m\u001B[38;5;241;43m=\u001B[39;49m\u001B[38;5;28;43mself\u001B[39;49m\u001B[38;5;241;43m.\u001B[39;49m\u001B[43mconvert_dtype\u001B[49m\n\u001B[0;32m   1509\u001B[0m \u001B[43m\u001B[49m\u001B[43m)\u001B[49m\n\u001B[0;32m   1511\u001B[0m \u001B[38;5;28;01mif\u001B[39;00m \u001B[38;5;28mlen\u001B[39m(mapped) \u001B[38;5;129;01mand\u001B[39;00m \u001B[38;5;28misinstance\u001B[39m(mapped[\u001B[38;5;241m0\u001B[39m], ABCSeries):\n\u001B[0;32m   1512\u001B[0m     \u001B[38;5;66;03m# GH#43986 Need to do list(mapped) in order to get treated as nested\u001B[39;00m\n\u001B[0;32m   1513\u001B[0m     \u001B[38;5;66;03m#  See also GH#25959 regarding EA support\u001B[39;00m\n\u001B[0;32m   1514\u001B[0m     \u001B[38;5;28;01mreturn\u001B[39;00m obj\u001B[38;5;241m.\u001B[39m_constructor_expanddim(\u001B[38;5;28mlist\u001B[39m(mapped), index\u001B[38;5;241m=\u001B[39mobj\u001B[38;5;241m.\u001B[39mindex)\n",
      "File \u001B[1;32m~\\Desktop\\Python\\Projekt Koło Naukowe\\Phishing-url-detection\\.venv\\Lib\\site-packages\\pandas\\core\\base.py:921\u001B[0m, in \u001B[0;36mIndexOpsMixin._map_values\u001B[1;34m(self, mapper, na_action, convert)\u001B[0m\n\u001B[0;32m    918\u001B[0m \u001B[38;5;28;01mif\u001B[39;00m \u001B[38;5;28misinstance\u001B[39m(arr, ExtensionArray):\n\u001B[0;32m    919\u001B[0m     \u001B[38;5;28;01mreturn\u001B[39;00m arr\u001B[38;5;241m.\u001B[39mmap(mapper, na_action\u001B[38;5;241m=\u001B[39mna_action)\n\u001B[1;32m--> 921\u001B[0m \u001B[38;5;28;01mreturn\u001B[39;00m \u001B[43malgorithms\u001B[49m\u001B[38;5;241;43m.\u001B[39;49m\u001B[43mmap_array\u001B[49m\u001B[43m(\u001B[49m\u001B[43marr\u001B[49m\u001B[43m,\u001B[49m\u001B[43m \u001B[49m\u001B[43mmapper\u001B[49m\u001B[43m,\u001B[49m\u001B[43m \u001B[49m\u001B[43mna_action\u001B[49m\u001B[38;5;241;43m=\u001B[39;49m\u001B[43mna_action\u001B[49m\u001B[43m,\u001B[49m\u001B[43m \u001B[49m\u001B[43mconvert\u001B[49m\u001B[38;5;241;43m=\u001B[39;49m\u001B[43mconvert\u001B[49m\u001B[43m)\u001B[49m\n",
      "File \u001B[1;32m~\\Desktop\\Python\\Projekt Koło Naukowe\\Phishing-url-detection\\.venv\\Lib\\site-packages\\pandas\\core\\algorithms.py:1743\u001B[0m, in \u001B[0;36mmap_array\u001B[1;34m(arr, mapper, na_action, convert)\u001B[0m\n\u001B[0;32m   1741\u001B[0m values \u001B[38;5;241m=\u001B[39m arr\u001B[38;5;241m.\u001B[39mastype(\u001B[38;5;28mobject\u001B[39m, copy\u001B[38;5;241m=\u001B[39m\u001B[38;5;28;01mFalse\u001B[39;00m)\n\u001B[0;32m   1742\u001B[0m \u001B[38;5;28;01mif\u001B[39;00m na_action \u001B[38;5;129;01mis\u001B[39;00m \u001B[38;5;28;01mNone\u001B[39;00m:\n\u001B[1;32m-> 1743\u001B[0m     \u001B[38;5;28;01mreturn\u001B[39;00m \u001B[43mlib\u001B[49m\u001B[38;5;241;43m.\u001B[39;49m\u001B[43mmap_infer\u001B[49m\u001B[43m(\u001B[49m\u001B[43mvalues\u001B[49m\u001B[43m,\u001B[49m\u001B[43m \u001B[49m\u001B[43mmapper\u001B[49m\u001B[43m,\u001B[49m\u001B[43m \u001B[49m\u001B[43mconvert\u001B[49m\u001B[38;5;241;43m=\u001B[39;49m\u001B[43mconvert\u001B[49m\u001B[43m)\u001B[49m\n\u001B[0;32m   1744\u001B[0m \u001B[38;5;28;01melse\u001B[39;00m:\n\u001B[0;32m   1745\u001B[0m     \u001B[38;5;28;01mreturn\u001B[39;00m lib\u001B[38;5;241m.\u001B[39mmap_infer_mask(\n\u001B[0;32m   1746\u001B[0m         values, mapper, mask\u001B[38;5;241m=\u001B[39misna(values)\u001B[38;5;241m.\u001B[39mview(np\u001B[38;5;241m.\u001B[39muint8), convert\u001B[38;5;241m=\u001B[39mconvert\n\u001B[0;32m   1747\u001B[0m     )\n",
      "File \u001B[1;32mlib.pyx:2972\u001B[0m, in \u001B[0;36mpandas._libs.lib.map_infer\u001B[1;34m()\u001B[0m\n",
      "Cell \u001B[1;32mIn[347], line 1\u001B[0m, in \u001B[0;36m<lambda>\u001B[1;34m(url)\u001B[0m\n\u001B[1;32m----> 1\u001B[0m df_urls[\u001B[38;5;124m'\u001B[39m\u001B[38;5;124mURL_LENGTH\u001B[39m\u001B[38;5;124m'\u001B[39m] \u001B[38;5;241m=\u001B[39m df_urls[\u001B[38;5;124m'\u001B[39m\u001B[38;5;124mURL\u001B[39m\u001B[38;5;124m'\u001B[39m]\u001B[38;5;241m.\u001B[39mapply(\u001B[38;5;28;01mlambda\u001B[39;00m url: \u001B[43mFeatureExtraction\u001B[49m\u001B[43m(\u001B[49m\u001B[43murl\u001B[49m\u001B[43m)\u001B[49m\u001B[38;5;241m.\u001B[39murl_length)\n",
      "File \u001B[1;32m~\\Desktop\\Python\\Projekt Koło Naukowe\\Phishing-url-detection\\feature_extraction\\feature_extraction.py:22\u001B[0m, in \u001B[0;36mFeatureExtraction.__init__\u001B[1;34m(self, url)\u001B[0m\n\u001B[0;32m     19\u001B[0m \u001B[38;5;28;01melse\u001B[39;00m:\n\u001B[0;32m     20\u001B[0m     \u001B[38;5;28mself\u001B[39m\u001B[38;5;241m.\u001B[39murl: \u001B[38;5;28mstr\u001B[39m \u001B[38;5;241m=\u001B[39m url\u001B[38;5;241m.\u001B[39mstrip()\u001B[38;5;241m.\u001B[39mreplace(\u001B[38;5;124m'\u001B[39m\u001B[38;5;124m \u001B[39m\u001B[38;5;124m'\u001B[39m, \u001B[38;5;124m'\u001B[39m\u001B[38;5;124m+\u001B[39m\u001B[38;5;124m'\u001B[39m)\n\u001B[1;32m---> 22\u001B[0m \u001B[38;5;28mself\u001B[39m\u001B[38;5;241m.\u001B[39murl_params: ParseResult \u001B[38;5;241m=\u001B[39m \u001B[43murlparse\u001B[49m\u001B[43m(\u001B[49m\u001B[38;5;28;43mself\u001B[39;49m\u001B[38;5;241;43m.\u001B[39;49m\u001B[43murl\u001B[49m\u001B[43m)\u001B[49m\n\u001B[0;32m     23\u001B[0m \u001B[38;5;28mself\u001B[39m\u001B[38;5;241m.\u001B[39m_possible_characters \u001B[38;5;241m=\u001B[39m PatternCollector()\u001B[38;5;241m.\u001B[39mchars\n\u001B[0;32m     24\u001B[0m \u001B[38;5;28mself\u001B[39m\u001B[38;5;241m.\u001B[39m_short_domains \u001B[38;5;241m=\u001B[39m PatternCollector()\u001B[38;5;241m.\u001B[39mshort_domains\n",
      "File \u001B[1;32m~\\AppData\\Local\\Programs\\Python\\Python311\\Lib\\urllib\\parse.py:395\u001B[0m, in \u001B[0;36murlparse\u001B[1;34m(url, scheme, allow_fragments)\u001B[0m\n\u001B[0;32m    375\u001B[0m \u001B[38;5;250m\u001B[39m\u001B[38;5;124;03m\"\"\"Parse a URL into 6 components:\u001B[39;00m\n\u001B[0;32m    376\u001B[0m \u001B[38;5;124;03m<scheme>://<netloc>/<path>;<params>?<query>#<fragment>\u001B[39;00m\n\u001B[0;32m    377\u001B[0m \n\u001B[1;32m   (...)\u001B[0m\n\u001B[0;32m    392\u001B[0m \u001B[38;5;124;03mNote that % escapes are not expanded.\u001B[39;00m\n\u001B[0;32m    393\u001B[0m \u001B[38;5;124;03m\"\"\"\u001B[39;00m\n\u001B[0;32m    394\u001B[0m url, scheme, _coerce_result \u001B[38;5;241m=\u001B[39m _coerce_args(url, scheme)\n\u001B[1;32m--> 395\u001B[0m splitresult \u001B[38;5;241m=\u001B[39m \u001B[43murlsplit\u001B[49m\u001B[43m(\u001B[49m\u001B[43murl\u001B[49m\u001B[43m,\u001B[49m\u001B[43m \u001B[49m\u001B[43mscheme\u001B[49m\u001B[43m,\u001B[49m\u001B[43m \u001B[49m\u001B[43mallow_fragments\u001B[49m\u001B[43m)\u001B[49m\n\u001B[0;32m    396\u001B[0m scheme, netloc, url, query, fragment \u001B[38;5;241m=\u001B[39m splitresult\n\u001B[0;32m    397\u001B[0m \u001B[38;5;28;01mif\u001B[39;00m scheme \u001B[38;5;129;01min\u001B[39;00m uses_params \u001B[38;5;129;01mand\u001B[39;00m \u001B[38;5;124m'\u001B[39m\u001B[38;5;124m;\u001B[39m\u001B[38;5;124m'\u001B[39m \u001B[38;5;129;01min\u001B[39;00m url:\n",
      "File \u001B[1;32m~\\AppData\\Local\\Programs\\Python\\Python311\\Lib\\urllib\\parse.py:500\u001B[0m, in \u001B[0;36murlsplit\u001B[1;34m(url, scheme, allow_fragments)\u001B[0m\n\u001B[0;32m    498\u001B[0m     \u001B[38;5;28;01mif\u001B[39;00m \u001B[38;5;124m'\u001B[39m\u001B[38;5;124m[\u001B[39m\u001B[38;5;124m'\u001B[39m \u001B[38;5;129;01min\u001B[39;00m netloc \u001B[38;5;129;01mand\u001B[39;00m \u001B[38;5;124m'\u001B[39m\u001B[38;5;124m]\u001B[39m\u001B[38;5;124m'\u001B[39m \u001B[38;5;129;01min\u001B[39;00m netloc:\n\u001B[0;32m    499\u001B[0m         bracketed_host \u001B[38;5;241m=\u001B[39m netloc\u001B[38;5;241m.\u001B[39mpartition(\u001B[38;5;124m'\u001B[39m\u001B[38;5;124m[\u001B[39m\u001B[38;5;124m'\u001B[39m)[\u001B[38;5;241m2\u001B[39m]\u001B[38;5;241m.\u001B[39mpartition(\u001B[38;5;124m'\u001B[39m\u001B[38;5;124m]\u001B[39m\u001B[38;5;124m'\u001B[39m)[\u001B[38;5;241m0\u001B[39m]\n\u001B[1;32m--> 500\u001B[0m         \u001B[43m_check_bracketed_host\u001B[49m\u001B[43m(\u001B[49m\u001B[43mbracketed_host\u001B[49m\u001B[43m)\u001B[49m\n\u001B[0;32m    501\u001B[0m \u001B[38;5;28;01mif\u001B[39;00m allow_fragments \u001B[38;5;129;01mand\u001B[39;00m \u001B[38;5;124m'\u001B[39m\u001B[38;5;124m#\u001B[39m\u001B[38;5;124m'\u001B[39m \u001B[38;5;129;01min\u001B[39;00m url:\n\u001B[0;32m    502\u001B[0m     url, fragment \u001B[38;5;241m=\u001B[39m url\u001B[38;5;241m.\u001B[39msplit(\u001B[38;5;124m'\u001B[39m\u001B[38;5;124m#\u001B[39m\u001B[38;5;124m'\u001B[39m, \u001B[38;5;241m1\u001B[39m)\n",
      "File \u001B[1;32m~\\AppData\\Local\\Programs\\Python\\Python311\\Lib\\urllib\\parse.py:446\u001B[0m, in \u001B[0;36m_check_bracketed_host\u001B[1;34m(hostname)\u001B[0m\n\u001B[0;32m    444\u001B[0m         \u001B[38;5;28;01mraise\u001B[39;00m \u001B[38;5;167;01mValueError\u001B[39;00m(\u001B[38;5;124mf\u001B[39m\u001B[38;5;124m\"\u001B[39m\u001B[38;5;124mIPvFuture address is invalid\u001B[39m\u001B[38;5;124m\"\u001B[39m)\n\u001B[0;32m    445\u001B[0m \u001B[38;5;28;01melse\u001B[39;00m:\n\u001B[1;32m--> 446\u001B[0m     ip \u001B[38;5;241m=\u001B[39m \u001B[43mipaddress\u001B[49m\u001B[38;5;241;43m.\u001B[39;49m\u001B[43mip_address\u001B[49m\u001B[43m(\u001B[49m\u001B[43mhostname\u001B[49m\u001B[43m)\u001B[49m \u001B[38;5;66;03m# Throws Value Error if not IPv6 or IPv4\u001B[39;00m\n\u001B[0;32m    447\u001B[0m     \u001B[38;5;28;01mif\u001B[39;00m \u001B[38;5;28misinstance\u001B[39m(ip, ipaddress\u001B[38;5;241m.\u001B[39mIPv4Address):\n\u001B[0;32m    448\u001B[0m         \u001B[38;5;28;01mraise\u001B[39;00m \u001B[38;5;167;01mValueError\u001B[39;00m(\u001B[38;5;124mf\u001B[39m\u001B[38;5;124m\"\u001B[39m\u001B[38;5;124mAn IPv4 address cannot be in brackets\u001B[39m\u001B[38;5;124m\"\u001B[39m)\n",
      "File \u001B[1;32m~\\AppData\\Local\\Programs\\Python\\Python311\\Lib\\ipaddress.py:54\u001B[0m, in \u001B[0;36mip_address\u001B[1;34m(address)\u001B[0m\n\u001B[0;32m     51\u001B[0m \u001B[38;5;28;01mexcept\u001B[39;00m (AddressValueError, NetmaskValueError):\n\u001B[0;32m     52\u001B[0m     \u001B[38;5;28;01mpass\u001B[39;00m\n\u001B[1;32m---> 54\u001B[0m \u001B[38;5;28;01mraise\u001B[39;00m \u001B[38;5;167;01mValueError\u001B[39;00m(\u001B[38;5;124mf\u001B[39m\u001B[38;5;124m'\u001B[39m\u001B[38;5;132;01m{\u001B[39;00maddress\u001B[38;5;132;01m!r}\u001B[39;00m\u001B[38;5;124m does not appear to be an IPv4 or IPv6 address\u001B[39m\u001B[38;5;124m'\u001B[39m)\n",
      "\u001B[1;31mValueError\u001B[0m: '.' does not appear to be an IPv4 or IPv6 address"
     ]
    }
   ],
   "source": [
    "df_urls['URL_LENGTH'] = df_urls['URL'].apply(lambda url: FeatureExtraction(url).url_length)"
   ]
  },
  {
   "cell_type": "code",
   "execution_count": null,
   "id": "cba62aebf9838af9",
   "metadata": {
    "collapsed": false,
    "ExecuteTime": {
     "start_time": "2024-04-28T21:16:09.161580300Z"
    }
   },
   "outputs": [],
   "source": [
    "df_urls.head()"
   ]
  },
  {
   "cell_type": "code",
   "execution_count": null,
   "id": "5e1e7d7a34862de7",
   "metadata": {
    "collapsed": false,
    "ExecuteTime": {
     "start_time": "2024-04-28T21:16:09.163574100Z"
    }
   },
   "outputs": [],
   "source": [
    "grouped_by_length = df_urls[['URL_LENGTH', 'URL']].groupby(['URL_LENGTH']).count()\n",
    "grouped_by_length"
   ]
  },
  {
   "cell_type": "code",
   "execution_count": null,
   "id": "5dc3a6d835a29520",
   "metadata": {
    "collapsed": false,
    "ExecuteTime": {
     "start_time": "2024-04-28T21:16:09.166566400Z"
    }
   },
   "outputs": [],
   "source": [
    "plt.figure(figsize=(12, 6))\n",
    "plt.bar(grouped_by_length.index, grouped_by_length['URL'], color='green')\n",
    "plt.title(\"Distribution of url lengths\")\n",
    "plt.xlabel(\"Url length\")\n",
    "plt.ylabel(\"Number of urls with that length\")\n",
    "plt.legend(['Number of urls with that length'], loc='upper right')\n",
    "plt.show()"
   ]
  },
  {
   "cell_type": "code",
   "outputs": [],
   "source": [
    "plt.figure(figsize=(12, 6))\n",
    "plt.scatter(df_urls['label'], df_urls['URL_LENGTH'], marker='.')\n",
    "plt.title(\"Distribution of url lengths\")\n",
    "plt.xlabel(\"Labels of data\")\n",
    "plt.ylabel(\"Urls lengths\")\n",
    "plt.legend(['Lengths of urls grouped by label'], loc='upper center')\n",
    "plt.show()"
   ],
   "metadata": {
    "collapsed": false,
    "ExecuteTime": {
     "start_time": "2024-04-28T21:16:09.168561400Z"
    }
   },
   "id": "64e5615efe2ce928",
   "execution_count": null
  },
  {
   "cell_type": "code",
   "outputs": [],
   "source": [
    "# Have @ in URL\n",
    "df_urls['HAVE_@'] = df_urls['URL'].apply(lambda url: 1 if FeatureExtraction(url).have_at_sign() else 0)"
   ],
   "metadata": {
    "collapsed": false,
    "ExecuteTime": {
     "start_time": "2024-04-28T21:16:09.170555700Z"
    }
   },
   "id": "77b37afa2f6295f1",
   "execution_count": null
  },
  {
   "cell_type": "code",
   "outputs": [],
   "source": [
    "legitimate_and_have_at_filter = (df_urls['HAVE_@'] == 1) & (df_urls['label'] == 0)\n",
    "legitimate_and_not_have_at_filter = (df_urls['HAVE_@'] == 0) & (df_urls['label'] == 0)\n",
    "phish_and_have_at_filter = (df_urls['HAVE_@'] == 1) & (df_urls['label'] == 1)\n",
    "phish_and_not_have_at_filter = (df_urls['HAVE_@'] == 0) & (df_urls['label'] == 1)\n",
    "\n",
    "values1 = [len(df_urls[legitimate_and_have_at_filter]), len(df_urls[legitimate_and_not_have_at_filter])]\n",
    "values2 = [len(df_urls[phish_and_have_at_filter]), len(df_urls[phish_and_not_have_at_filter])]"
   ],
   "metadata": {
    "collapsed": false,
    "ExecuteTime": {
     "start_time": "2024-04-28T21:16:09.171553400Z"
    }
   },
   "id": "8447c674af2429bd",
   "execution_count": null
  },
  {
   "cell_type": "code",
   "outputs": [],
   "source": [
    "plt.figure(figsize=(12, 6))\n",
    "# Dane\n",
    "categories = ['Have @', 'Not Have @']\n",
    "\n",
    "index = range(len(categories))\n",
    "width = 0.45\n",
    "\n",
    "\n",
    "plt.bar(index, values1, width, label='NON PHISH')\n",
    "plt.bar([index[0] + width, index[1] + width], values2, width, label='PHISH')\n",
    "\n",
    "\n",
    "# Dodanie etykiet, tytułu itp.\n",
    "plt.xlabel('Kategorie')\n",
    "plt.ylabel('Wartości')\n",
    "plt.title('Wykres słupkowy dla dwóch kategorii')\n",
    "plt.xticks([i + width / 2 for i in index], categories)\n",
    "plt.legend()\n",
    "\n",
    "# Wyświetlenie wykresu\n",
    "plt.show()"
   ],
   "metadata": {
    "collapsed": false,
    "ExecuteTime": {
     "start_time": "2024-04-28T21:16:09.173548100Z"
    }
   },
   "id": "9affa139f9436c35",
   "execution_count": null
  },
  {
   "cell_type": "code",
   "outputs": [],
   "source": [
    "df_urls['HAVE_IP'] = df_urls['URL'].apply(lambda url: 1 if FeatureExtraction(url).have_ip_address() else 0)"
   ],
   "metadata": {
    "collapsed": false,
    "ExecuteTime": {
     "start_time": "2024-04-28T21:16:09.176540700Z"
    }
   },
   "id": "669ec5faf1106d01",
   "execution_count": null
  },
  {
   "cell_type": "code",
   "outputs": [],
   "source": [
    "# TODO: CREATE BAR PLOT FOR THIS DATA"
   ],
   "metadata": {
    "collapsed": false,
    "ExecuteTime": {
     "start_time": "2024-04-28T21:16:09.178535500Z"
    }
   },
   "id": "c023bfa9a214a935",
   "execution_count": null
  },
  {
   "cell_type": "code",
   "outputs": [],
   "source": [
    "mean_url_length = (df_urls['URL'].apply(lambda url: len(url)).sum()/len(df_urls['URL'])).__floor__()\n",
    "mean_url_length"
   ],
   "metadata": {
    "collapsed": false,
    "ExecuteTime": {
     "start_time": "2024-04-28T21:16:09.180529200Z"
    }
   },
   "id": "9b5a3f90391fc66a",
   "execution_count": null
  },
  {
   "cell_type": "code",
   "outputs": [],
   "source": [
    "df_urls['LONGER_THAN_MEAN'] = df_urls['URL'].apply(lambda url: 1 if FeatureExtraction(url).url_longer_than(mean_url_length) else 0)"
   ],
   "metadata": {
    "collapsed": false,
    "ExecuteTime": {
     "end_time": "2024-04-28T21:16:09.290263700Z",
     "start_time": "2024-04-28T21:16:09.182523900Z"
    }
   },
   "id": "ab96e713c7e21f4e",
   "execution_count": null
  },
  {
   "cell_type": "code",
   "outputs": [],
   "source": [
    "# TODO: CREATE BAR PLOT FOR THIS DATA"
   ],
   "metadata": {
    "collapsed": false,
    "ExecuteTime": {
     "start_time": "2024-04-28T21:16:09.184518Z"
    }
   },
   "id": "f7da083a6d4591f7",
   "execution_count": null
  },
  {
   "cell_type": "code",
   "outputs": [],
   "source": [],
   "metadata": {
    "collapsed": false,
    "ExecuteTime": {
     "start_time": "2024-04-28T21:16:09.186513300Z"
    }
   },
   "id": "ba674af4917c877a",
   "execution_count": null
  },
  {
   "cell_type": "code",
   "outputs": [],
   "source": [
    "@measure_time\n",
    "def collect_chars():\n",
    "    df = pd.DataFrame()\n",
    "    for char in PatternCollector.chars:\n",
    "        df[char] = pd.DataFrame.from_dict(df_urls['URL'].apply(lambda url: FeatureExtraction(url).count_characters().get(char)))\n",
    "    return df"
   ],
   "metadata": {
    "collapsed": false,
    "ExecuteTime": {
     "start_time": "2024-04-28T21:16:09.188509300Z"
    }
   },
   "id": "acc28c20ea0cdecd",
   "execution_count": null
  },
  {
   "cell_type": "code",
   "outputs": [],
   "source": [
    "df = collect_chars()"
   ],
   "metadata": {
    "collapsed": false,
    "ExecuteTime": {
     "start_time": "2024-04-28T21:16:09.189504900Z"
    }
   },
   "id": "92f93805ff26402f",
   "execution_count": null
  },
  {
   "cell_type": "code",
   "outputs": [],
   "source": [
    "df_urls = df_urls.merge(df, on=df_urls.index, how='left')"
   ],
   "metadata": {
    "collapsed": false,
    "ExecuteTime": {
     "start_time": "2024-04-28T21:16:09.191500400Z"
    }
   },
   "id": "7c038b9f98fe365d",
   "execution_count": null
  },
  {
   "cell_type": "code",
   "outputs": [],
   "source": [
    "# TODO: CREATE BAR PLOT FOR THIS DATA"
   ],
   "metadata": {
    "collapsed": false,
    "ExecuteTime": {
     "start_time": "2024-04-28T21:16:09.192497900Z"
    }
   },
   "id": "7a6a1290a7e96715",
   "execution_count": null
  },
  {
   "cell_type": "code",
   "outputs": [],
   "source": [
    "df_urls['HAVE_HTTPS'] = df_urls['URL'].apply(lambda url: 1 if FeatureExtraction(url).have_https() else 0)"
   ],
   "metadata": {
    "collapsed": false,
    "ExecuteTime": {
     "start_time": "2024-04-28T21:16:09.194492400Z"
    }
   },
   "id": "5628e6991819c8d5",
   "execution_count": null
  },
  {
   "cell_type": "code",
   "outputs": [],
   "source": [
    "# TODO: CREATE BAR PLOT FOR THIS DATA"
   ],
   "metadata": {
    "collapsed": false,
    "ExecuteTime": {
     "start_time": "2024-04-28T21:16:09.195489700Z"
    }
   },
   "id": "90495367d0276657",
   "execution_count": null
  },
  {
   "cell_type": "code",
   "outputs": [],
   "source": [
    "df_urls['ABNORMAL_URL'] = df_urls['URL'].apply(lambda url: 1 if FeatureExtraction(url).abnormal_url else 0)"
   ],
   "metadata": {
    "collapsed": false,
    "ExecuteTime": {
     "start_time": "2024-04-28T21:16:09.197484500Z"
    }
   },
   "id": "2fffaa490e8ba8a9",
   "execution_count": null
  },
  {
   "cell_type": "code",
   "outputs": [],
   "source": [
    "# TODO: CREATE BAR PLOT FOR THIS DATA"
   ],
   "metadata": {
    "collapsed": false,
    "ExecuteTime": {
     "start_time": "2024-04-28T21:16:09.198482100Z"
    }
   },
   "id": "d6ff60d26632d2e6",
   "execution_count": null
  },
  {
   "cell_type": "code",
   "outputs": [],
   "source": [
    "df_urls['DIGITS_AMOUNT'] = df_urls['URL'].apply(lambda url: FeatureExtraction(url).count_digits())"
   ],
   "metadata": {
    "collapsed": false,
    "ExecuteTime": {
     "start_time": "2024-04-28T21:16:09.200475700Z"
    }
   },
   "id": "3ba0c9bb7411f05b",
   "execution_count": null
  },
  {
   "cell_type": "code",
   "outputs": [],
   "source": [
    "# TODO: CREATE BAR PLOT FOR THIS DATA"
   ],
   "metadata": {
    "collapsed": false,
    "ExecuteTime": {
     "start_time": "2024-04-28T21:16:09.202470800Z"
    }
   },
   "id": "729867e16314efc2",
   "execution_count": null
  },
  {
   "cell_type": "code",
   "outputs": [],
   "source": [
    "df_urls['LETTERS_AMOUNT'] = df_urls['URL'].apply(lambda url: FeatureExtraction(url).count_letters())"
   ],
   "metadata": {
    "collapsed": false,
    "ExecuteTime": {
     "start_time": "2024-04-28T21:16:09.203468Z"
    }
   },
   "id": "bfba57bfdcb87f73",
   "execution_count": null
  },
  {
   "cell_type": "code",
   "outputs": [],
   "source": [
    "# TODO: CREATE BAR PLOT FOR THIS DATA"
   ],
   "metadata": {
    "collapsed": false,
    "ExecuteTime": {
     "start_time": "2024-04-28T21:16:09.204465Z"
    }
   },
   "id": "d58bb14d8cf1c11f",
   "execution_count": null
  },
  {
   "cell_type": "code",
   "outputs": [
    {
     "ename": "ValueError",
     "evalue": "'.' does not appear to be an IPv4 or IPv6 address",
     "output_type": "error",
     "traceback": [
      "\u001B[1;31m---------------------------------------------------------------------------\u001B[0m",
      "\u001B[1;31mValueError\u001B[0m                                Traceback (most recent call last)",
      "Cell \u001B[1;32mIn[348], line 1\u001B[0m\n\u001B[1;32m----> 1\u001B[0m df_urls[\u001B[38;5;124m'\u001B[39m\u001B[38;5;124mPATH_DEPTH\u001B[39m\u001B[38;5;124m'\u001B[39m] \u001B[38;5;241m=\u001B[39m  \u001B[43mdf_urls\u001B[49m\u001B[43m[\u001B[49m\u001B[38;5;124;43m'\u001B[39;49m\u001B[38;5;124;43mURL\u001B[39;49m\u001B[38;5;124;43m'\u001B[39;49m\u001B[43m]\u001B[49m\u001B[38;5;241;43m.\u001B[39;49m\u001B[43mapply\u001B[49m\u001B[43m(\u001B[49m\u001B[38;5;28;43;01mlambda\u001B[39;49;00m\u001B[43m \u001B[49m\u001B[43murl\u001B[49m\u001B[43m:\u001B[49m\u001B[43m \u001B[49m\u001B[43mFeatureExtraction\u001B[49m\u001B[43m(\u001B[49m\u001B[43murl\u001B[49m\u001B[43m)\u001B[49m\u001B[38;5;241;43m.\u001B[39;49m\u001B[43mpath_depth\u001B[49m\u001B[43m(\u001B[49m\u001B[43m)\u001B[49m\u001B[43m)\u001B[49m\n",
      "File \u001B[1;32m~\\Desktop\\Python\\Projekt Koło Naukowe\\Phishing-url-detection\\.venv\\Lib\\site-packages\\pandas\\core\\series.py:4924\u001B[0m, in \u001B[0;36mSeries.apply\u001B[1;34m(self, func, convert_dtype, args, by_row, **kwargs)\u001B[0m\n\u001B[0;32m   4789\u001B[0m \u001B[38;5;28;01mdef\u001B[39;00m \u001B[38;5;21mapply\u001B[39m(\n\u001B[0;32m   4790\u001B[0m     \u001B[38;5;28mself\u001B[39m,\n\u001B[0;32m   4791\u001B[0m     func: AggFuncType,\n\u001B[1;32m   (...)\u001B[0m\n\u001B[0;32m   4796\u001B[0m     \u001B[38;5;241m*\u001B[39m\u001B[38;5;241m*\u001B[39mkwargs,\n\u001B[0;32m   4797\u001B[0m ) \u001B[38;5;241m-\u001B[39m\u001B[38;5;241m>\u001B[39m DataFrame \u001B[38;5;241m|\u001B[39m Series:\n\u001B[0;32m   4798\u001B[0m \u001B[38;5;250m    \u001B[39m\u001B[38;5;124;03m\"\"\"\u001B[39;00m\n\u001B[0;32m   4799\u001B[0m \u001B[38;5;124;03m    Invoke function on values of Series.\u001B[39;00m\n\u001B[0;32m   4800\u001B[0m \n\u001B[1;32m   (...)\u001B[0m\n\u001B[0;32m   4915\u001B[0m \u001B[38;5;124;03m    dtype: float64\u001B[39;00m\n\u001B[0;32m   4916\u001B[0m \u001B[38;5;124;03m    \"\"\"\u001B[39;00m\n\u001B[0;32m   4917\u001B[0m     \u001B[38;5;28;01mreturn\u001B[39;00m \u001B[43mSeriesApply\u001B[49m\u001B[43m(\u001B[49m\n\u001B[0;32m   4918\u001B[0m \u001B[43m        \u001B[49m\u001B[38;5;28;43mself\u001B[39;49m\u001B[43m,\u001B[49m\n\u001B[0;32m   4919\u001B[0m \u001B[43m        \u001B[49m\u001B[43mfunc\u001B[49m\u001B[43m,\u001B[49m\n\u001B[0;32m   4920\u001B[0m \u001B[43m        \u001B[49m\u001B[43mconvert_dtype\u001B[49m\u001B[38;5;241;43m=\u001B[39;49m\u001B[43mconvert_dtype\u001B[49m\u001B[43m,\u001B[49m\n\u001B[0;32m   4921\u001B[0m \u001B[43m        \u001B[49m\u001B[43mby_row\u001B[49m\u001B[38;5;241;43m=\u001B[39;49m\u001B[43mby_row\u001B[49m\u001B[43m,\u001B[49m\n\u001B[0;32m   4922\u001B[0m \u001B[43m        \u001B[49m\u001B[43margs\u001B[49m\u001B[38;5;241;43m=\u001B[39;49m\u001B[43margs\u001B[49m\u001B[43m,\u001B[49m\n\u001B[0;32m   4923\u001B[0m \u001B[43m        \u001B[49m\u001B[43mkwargs\u001B[49m\u001B[38;5;241;43m=\u001B[39;49m\u001B[43mkwargs\u001B[49m\u001B[43m,\u001B[49m\n\u001B[1;32m-> 4924\u001B[0m \u001B[43m    \u001B[49m\u001B[43m)\u001B[49m\u001B[38;5;241;43m.\u001B[39;49m\u001B[43mapply\u001B[49m\u001B[43m(\u001B[49m\u001B[43m)\u001B[49m\n",
      "File \u001B[1;32m~\\Desktop\\Python\\Projekt Koło Naukowe\\Phishing-url-detection\\.venv\\Lib\\site-packages\\pandas\\core\\apply.py:1427\u001B[0m, in \u001B[0;36mSeriesApply.apply\u001B[1;34m(self)\u001B[0m\n\u001B[0;32m   1424\u001B[0m     \u001B[38;5;28;01mreturn\u001B[39;00m \u001B[38;5;28mself\u001B[39m\u001B[38;5;241m.\u001B[39mapply_compat()\n\u001B[0;32m   1426\u001B[0m \u001B[38;5;66;03m# self.func is Callable\u001B[39;00m\n\u001B[1;32m-> 1427\u001B[0m \u001B[38;5;28;01mreturn\u001B[39;00m \u001B[38;5;28;43mself\u001B[39;49m\u001B[38;5;241;43m.\u001B[39;49m\u001B[43mapply_standard\u001B[49m\u001B[43m(\u001B[49m\u001B[43m)\u001B[49m\n",
      "File \u001B[1;32m~\\Desktop\\Python\\Projekt Koło Naukowe\\Phishing-url-detection\\.venv\\Lib\\site-packages\\pandas\\core\\apply.py:1507\u001B[0m, in \u001B[0;36mSeriesApply.apply_standard\u001B[1;34m(self)\u001B[0m\n\u001B[0;32m   1501\u001B[0m \u001B[38;5;66;03m# row-wise access\u001B[39;00m\n\u001B[0;32m   1502\u001B[0m \u001B[38;5;66;03m# apply doesn't have a `na_action` keyword and for backward compat reasons\u001B[39;00m\n\u001B[0;32m   1503\u001B[0m \u001B[38;5;66;03m# we need to give `na_action=\"ignore\"` for categorical data.\u001B[39;00m\n\u001B[0;32m   1504\u001B[0m \u001B[38;5;66;03m# TODO: remove the `na_action=\"ignore\"` when that default has been changed in\u001B[39;00m\n\u001B[0;32m   1505\u001B[0m \u001B[38;5;66;03m#  Categorical (GH51645).\u001B[39;00m\n\u001B[0;32m   1506\u001B[0m action \u001B[38;5;241m=\u001B[39m \u001B[38;5;124m\"\u001B[39m\u001B[38;5;124mignore\u001B[39m\u001B[38;5;124m\"\u001B[39m \u001B[38;5;28;01mif\u001B[39;00m \u001B[38;5;28misinstance\u001B[39m(obj\u001B[38;5;241m.\u001B[39mdtype, CategoricalDtype) \u001B[38;5;28;01melse\u001B[39;00m \u001B[38;5;28;01mNone\u001B[39;00m\n\u001B[1;32m-> 1507\u001B[0m mapped \u001B[38;5;241m=\u001B[39m \u001B[43mobj\u001B[49m\u001B[38;5;241;43m.\u001B[39;49m\u001B[43m_map_values\u001B[49m\u001B[43m(\u001B[49m\n\u001B[0;32m   1508\u001B[0m \u001B[43m    \u001B[49m\u001B[43mmapper\u001B[49m\u001B[38;5;241;43m=\u001B[39;49m\u001B[43mcurried\u001B[49m\u001B[43m,\u001B[49m\u001B[43m \u001B[49m\u001B[43mna_action\u001B[49m\u001B[38;5;241;43m=\u001B[39;49m\u001B[43maction\u001B[49m\u001B[43m,\u001B[49m\u001B[43m \u001B[49m\u001B[43mconvert\u001B[49m\u001B[38;5;241;43m=\u001B[39;49m\u001B[38;5;28;43mself\u001B[39;49m\u001B[38;5;241;43m.\u001B[39;49m\u001B[43mconvert_dtype\u001B[49m\n\u001B[0;32m   1509\u001B[0m \u001B[43m\u001B[49m\u001B[43m)\u001B[49m\n\u001B[0;32m   1511\u001B[0m \u001B[38;5;28;01mif\u001B[39;00m \u001B[38;5;28mlen\u001B[39m(mapped) \u001B[38;5;129;01mand\u001B[39;00m \u001B[38;5;28misinstance\u001B[39m(mapped[\u001B[38;5;241m0\u001B[39m], ABCSeries):\n\u001B[0;32m   1512\u001B[0m     \u001B[38;5;66;03m# GH#43986 Need to do list(mapped) in order to get treated as nested\u001B[39;00m\n\u001B[0;32m   1513\u001B[0m     \u001B[38;5;66;03m#  See also GH#25959 regarding EA support\u001B[39;00m\n\u001B[0;32m   1514\u001B[0m     \u001B[38;5;28;01mreturn\u001B[39;00m obj\u001B[38;5;241m.\u001B[39m_constructor_expanddim(\u001B[38;5;28mlist\u001B[39m(mapped), index\u001B[38;5;241m=\u001B[39mobj\u001B[38;5;241m.\u001B[39mindex)\n",
      "File \u001B[1;32m~\\Desktop\\Python\\Projekt Koło Naukowe\\Phishing-url-detection\\.venv\\Lib\\site-packages\\pandas\\core\\base.py:921\u001B[0m, in \u001B[0;36mIndexOpsMixin._map_values\u001B[1;34m(self, mapper, na_action, convert)\u001B[0m\n\u001B[0;32m    918\u001B[0m \u001B[38;5;28;01mif\u001B[39;00m \u001B[38;5;28misinstance\u001B[39m(arr, ExtensionArray):\n\u001B[0;32m    919\u001B[0m     \u001B[38;5;28;01mreturn\u001B[39;00m arr\u001B[38;5;241m.\u001B[39mmap(mapper, na_action\u001B[38;5;241m=\u001B[39mna_action)\n\u001B[1;32m--> 921\u001B[0m \u001B[38;5;28;01mreturn\u001B[39;00m \u001B[43malgorithms\u001B[49m\u001B[38;5;241;43m.\u001B[39;49m\u001B[43mmap_array\u001B[49m\u001B[43m(\u001B[49m\u001B[43marr\u001B[49m\u001B[43m,\u001B[49m\u001B[43m \u001B[49m\u001B[43mmapper\u001B[49m\u001B[43m,\u001B[49m\u001B[43m \u001B[49m\u001B[43mna_action\u001B[49m\u001B[38;5;241;43m=\u001B[39;49m\u001B[43mna_action\u001B[49m\u001B[43m,\u001B[49m\u001B[43m \u001B[49m\u001B[43mconvert\u001B[49m\u001B[38;5;241;43m=\u001B[39;49m\u001B[43mconvert\u001B[49m\u001B[43m)\u001B[49m\n",
      "File \u001B[1;32m~\\Desktop\\Python\\Projekt Koło Naukowe\\Phishing-url-detection\\.venv\\Lib\\site-packages\\pandas\\core\\algorithms.py:1743\u001B[0m, in \u001B[0;36mmap_array\u001B[1;34m(arr, mapper, na_action, convert)\u001B[0m\n\u001B[0;32m   1741\u001B[0m values \u001B[38;5;241m=\u001B[39m arr\u001B[38;5;241m.\u001B[39mastype(\u001B[38;5;28mobject\u001B[39m, copy\u001B[38;5;241m=\u001B[39m\u001B[38;5;28;01mFalse\u001B[39;00m)\n\u001B[0;32m   1742\u001B[0m \u001B[38;5;28;01mif\u001B[39;00m na_action \u001B[38;5;129;01mis\u001B[39;00m \u001B[38;5;28;01mNone\u001B[39;00m:\n\u001B[1;32m-> 1743\u001B[0m     \u001B[38;5;28;01mreturn\u001B[39;00m \u001B[43mlib\u001B[49m\u001B[38;5;241;43m.\u001B[39;49m\u001B[43mmap_infer\u001B[49m\u001B[43m(\u001B[49m\u001B[43mvalues\u001B[49m\u001B[43m,\u001B[49m\u001B[43m \u001B[49m\u001B[43mmapper\u001B[49m\u001B[43m,\u001B[49m\u001B[43m \u001B[49m\u001B[43mconvert\u001B[49m\u001B[38;5;241;43m=\u001B[39;49m\u001B[43mconvert\u001B[49m\u001B[43m)\u001B[49m\n\u001B[0;32m   1744\u001B[0m \u001B[38;5;28;01melse\u001B[39;00m:\n\u001B[0;32m   1745\u001B[0m     \u001B[38;5;28;01mreturn\u001B[39;00m lib\u001B[38;5;241m.\u001B[39mmap_infer_mask(\n\u001B[0;32m   1746\u001B[0m         values, mapper, mask\u001B[38;5;241m=\u001B[39misna(values)\u001B[38;5;241m.\u001B[39mview(np\u001B[38;5;241m.\u001B[39muint8), convert\u001B[38;5;241m=\u001B[39mconvert\n\u001B[0;32m   1747\u001B[0m     )\n",
      "File \u001B[1;32mlib.pyx:2972\u001B[0m, in \u001B[0;36mpandas._libs.lib.map_infer\u001B[1;34m()\u001B[0m\n",
      "Cell \u001B[1;32mIn[348], line 1\u001B[0m, in \u001B[0;36m<lambda>\u001B[1;34m(url)\u001B[0m\n\u001B[1;32m----> 1\u001B[0m df_urls[\u001B[38;5;124m'\u001B[39m\u001B[38;5;124mPATH_DEPTH\u001B[39m\u001B[38;5;124m'\u001B[39m] \u001B[38;5;241m=\u001B[39m  df_urls[\u001B[38;5;124m'\u001B[39m\u001B[38;5;124mURL\u001B[39m\u001B[38;5;124m'\u001B[39m]\u001B[38;5;241m.\u001B[39mapply(\u001B[38;5;28;01mlambda\u001B[39;00m url: \u001B[43mFeatureExtraction\u001B[49m\u001B[43m(\u001B[49m\u001B[43murl\u001B[49m\u001B[43m)\u001B[49m\u001B[38;5;241m.\u001B[39mpath_depth())\n",
      "File \u001B[1;32m~\\Desktop\\Python\\Projekt Koło Naukowe\\Phishing-url-detection\\feature_extraction\\feature_extraction.py:22\u001B[0m, in \u001B[0;36mFeatureExtraction.__init__\u001B[1;34m(self, url)\u001B[0m\n\u001B[0;32m     19\u001B[0m \u001B[38;5;28;01melse\u001B[39;00m:\n\u001B[0;32m     20\u001B[0m     \u001B[38;5;28mself\u001B[39m\u001B[38;5;241m.\u001B[39murl: \u001B[38;5;28mstr\u001B[39m \u001B[38;5;241m=\u001B[39m url\u001B[38;5;241m.\u001B[39mstrip()\u001B[38;5;241m.\u001B[39mreplace(\u001B[38;5;124m'\u001B[39m\u001B[38;5;124m \u001B[39m\u001B[38;5;124m'\u001B[39m, \u001B[38;5;124m'\u001B[39m\u001B[38;5;124m+\u001B[39m\u001B[38;5;124m'\u001B[39m)\n\u001B[1;32m---> 22\u001B[0m \u001B[38;5;28mself\u001B[39m\u001B[38;5;241m.\u001B[39murl_params: ParseResult \u001B[38;5;241m=\u001B[39m \u001B[43murlparse\u001B[49m\u001B[43m(\u001B[49m\u001B[38;5;28;43mself\u001B[39;49m\u001B[38;5;241;43m.\u001B[39;49m\u001B[43murl\u001B[49m\u001B[43m)\u001B[49m\n\u001B[0;32m     23\u001B[0m \u001B[38;5;28mself\u001B[39m\u001B[38;5;241m.\u001B[39m_possible_characters \u001B[38;5;241m=\u001B[39m PatternCollector()\u001B[38;5;241m.\u001B[39mchars\n\u001B[0;32m     24\u001B[0m \u001B[38;5;28mself\u001B[39m\u001B[38;5;241m.\u001B[39m_short_domains \u001B[38;5;241m=\u001B[39m PatternCollector()\u001B[38;5;241m.\u001B[39mshort_domains\n",
      "File \u001B[1;32m~\\AppData\\Local\\Programs\\Python\\Python311\\Lib\\urllib\\parse.py:395\u001B[0m, in \u001B[0;36murlparse\u001B[1;34m(url, scheme, allow_fragments)\u001B[0m\n\u001B[0;32m    375\u001B[0m \u001B[38;5;250m\u001B[39m\u001B[38;5;124;03m\"\"\"Parse a URL into 6 components:\u001B[39;00m\n\u001B[0;32m    376\u001B[0m \u001B[38;5;124;03m<scheme>://<netloc>/<path>;<params>?<query>#<fragment>\u001B[39;00m\n\u001B[0;32m    377\u001B[0m \n\u001B[1;32m   (...)\u001B[0m\n\u001B[0;32m    392\u001B[0m \u001B[38;5;124;03mNote that % escapes are not expanded.\u001B[39;00m\n\u001B[0;32m    393\u001B[0m \u001B[38;5;124;03m\"\"\"\u001B[39;00m\n\u001B[0;32m    394\u001B[0m url, scheme, _coerce_result \u001B[38;5;241m=\u001B[39m _coerce_args(url, scheme)\n\u001B[1;32m--> 395\u001B[0m splitresult \u001B[38;5;241m=\u001B[39m \u001B[43murlsplit\u001B[49m\u001B[43m(\u001B[49m\u001B[43murl\u001B[49m\u001B[43m,\u001B[49m\u001B[43m \u001B[49m\u001B[43mscheme\u001B[49m\u001B[43m,\u001B[49m\u001B[43m \u001B[49m\u001B[43mallow_fragments\u001B[49m\u001B[43m)\u001B[49m\n\u001B[0;32m    396\u001B[0m scheme, netloc, url, query, fragment \u001B[38;5;241m=\u001B[39m splitresult\n\u001B[0;32m    397\u001B[0m \u001B[38;5;28;01mif\u001B[39;00m scheme \u001B[38;5;129;01min\u001B[39;00m uses_params \u001B[38;5;129;01mand\u001B[39;00m \u001B[38;5;124m'\u001B[39m\u001B[38;5;124m;\u001B[39m\u001B[38;5;124m'\u001B[39m \u001B[38;5;129;01min\u001B[39;00m url:\n",
      "File \u001B[1;32m~\\AppData\\Local\\Programs\\Python\\Python311\\Lib\\urllib\\parse.py:500\u001B[0m, in \u001B[0;36murlsplit\u001B[1;34m(url, scheme, allow_fragments)\u001B[0m\n\u001B[0;32m    498\u001B[0m     \u001B[38;5;28;01mif\u001B[39;00m \u001B[38;5;124m'\u001B[39m\u001B[38;5;124m[\u001B[39m\u001B[38;5;124m'\u001B[39m \u001B[38;5;129;01min\u001B[39;00m netloc \u001B[38;5;129;01mand\u001B[39;00m \u001B[38;5;124m'\u001B[39m\u001B[38;5;124m]\u001B[39m\u001B[38;5;124m'\u001B[39m \u001B[38;5;129;01min\u001B[39;00m netloc:\n\u001B[0;32m    499\u001B[0m         bracketed_host \u001B[38;5;241m=\u001B[39m netloc\u001B[38;5;241m.\u001B[39mpartition(\u001B[38;5;124m'\u001B[39m\u001B[38;5;124m[\u001B[39m\u001B[38;5;124m'\u001B[39m)[\u001B[38;5;241m2\u001B[39m]\u001B[38;5;241m.\u001B[39mpartition(\u001B[38;5;124m'\u001B[39m\u001B[38;5;124m]\u001B[39m\u001B[38;5;124m'\u001B[39m)[\u001B[38;5;241m0\u001B[39m]\n\u001B[1;32m--> 500\u001B[0m         \u001B[43m_check_bracketed_host\u001B[49m\u001B[43m(\u001B[49m\u001B[43mbracketed_host\u001B[49m\u001B[43m)\u001B[49m\n\u001B[0;32m    501\u001B[0m \u001B[38;5;28;01mif\u001B[39;00m allow_fragments \u001B[38;5;129;01mand\u001B[39;00m \u001B[38;5;124m'\u001B[39m\u001B[38;5;124m#\u001B[39m\u001B[38;5;124m'\u001B[39m \u001B[38;5;129;01min\u001B[39;00m url:\n\u001B[0;32m    502\u001B[0m     url, fragment \u001B[38;5;241m=\u001B[39m url\u001B[38;5;241m.\u001B[39msplit(\u001B[38;5;124m'\u001B[39m\u001B[38;5;124m#\u001B[39m\u001B[38;5;124m'\u001B[39m, \u001B[38;5;241m1\u001B[39m)\n",
      "File \u001B[1;32m~\\AppData\\Local\\Programs\\Python\\Python311\\Lib\\urllib\\parse.py:446\u001B[0m, in \u001B[0;36m_check_bracketed_host\u001B[1;34m(hostname)\u001B[0m\n\u001B[0;32m    444\u001B[0m         \u001B[38;5;28;01mraise\u001B[39;00m \u001B[38;5;167;01mValueError\u001B[39;00m(\u001B[38;5;124mf\u001B[39m\u001B[38;5;124m\"\u001B[39m\u001B[38;5;124mIPvFuture address is invalid\u001B[39m\u001B[38;5;124m\"\u001B[39m)\n\u001B[0;32m    445\u001B[0m \u001B[38;5;28;01melse\u001B[39;00m:\n\u001B[1;32m--> 446\u001B[0m     ip \u001B[38;5;241m=\u001B[39m \u001B[43mipaddress\u001B[49m\u001B[38;5;241;43m.\u001B[39;49m\u001B[43mip_address\u001B[49m\u001B[43m(\u001B[49m\u001B[43mhostname\u001B[49m\u001B[43m)\u001B[49m \u001B[38;5;66;03m# Throws Value Error if not IPv6 or IPv4\u001B[39;00m\n\u001B[0;32m    447\u001B[0m     \u001B[38;5;28;01mif\u001B[39;00m \u001B[38;5;28misinstance\u001B[39m(ip, ipaddress\u001B[38;5;241m.\u001B[39mIPv4Address):\n\u001B[0;32m    448\u001B[0m         \u001B[38;5;28;01mraise\u001B[39;00m \u001B[38;5;167;01mValueError\u001B[39;00m(\u001B[38;5;124mf\u001B[39m\u001B[38;5;124m\"\u001B[39m\u001B[38;5;124mAn IPv4 address cannot be in brackets\u001B[39m\u001B[38;5;124m\"\u001B[39m)\n",
      "File \u001B[1;32m~\\AppData\\Local\\Programs\\Python\\Python311\\Lib\\ipaddress.py:54\u001B[0m, in \u001B[0;36mip_address\u001B[1;34m(address)\u001B[0m\n\u001B[0;32m     51\u001B[0m \u001B[38;5;28;01mexcept\u001B[39;00m (AddressValueError, NetmaskValueError):\n\u001B[0;32m     52\u001B[0m     \u001B[38;5;28;01mpass\u001B[39;00m\n\u001B[1;32m---> 54\u001B[0m \u001B[38;5;28;01mraise\u001B[39;00m \u001B[38;5;167;01mValueError\u001B[39;00m(\u001B[38;5;124mf\u001B[39m\u001B[38;5;124m'\u001B[39m\u001B[38;5;132;01m{\u001B[39;00maddress\u001B[38;5;132;01m!r}\u001B[39;00m\u001B[38;5;124m does not appear to be an IPv4 or IPv6 address\u001B[39m\u001B[38;5;124m'\u001B[39m)\n",
      "\u001B[1;31mValueError\u001B[0m: '.' does not appear to be an IPv4 or IPv6 address"
     ]
    }
   ],
   "source": [
    "df_urls['PATH_DEPTH'] =  df_urls['URL'].apply(lambda url: FeatureExtraction(url).path_depth())"
   ],
   "metadata": {
    "collapsed": false,
    "ExecuteTime": {
     "start_time": "2024-04-28T21:16:09.206460300Z"
    }
   },
   "id": "9f7cdcdfc230e545",
   "execution_count": 348
  },
  {
   "cell_type": "code",
   "outputs": [],
   "source": [
    "# TODO: CREATE BAR PLOT FOR THIS DATA"
   ],
   "metadata": {
    "collapsed": false,
    "ExecuteTime": {
     "end_time": "2024-04-28T21:16:09.913852200Z",
     "start_time": "2024-04-28T21:16:09.897893800Z"
    }
   },
   "id": "ef5d7ef796c1da94",
   "execution_count": null
  },
  {
   "cell_type": "code",
   "outputs": [],
   "source": [
    "df_urls['DOTS_IN_NETLOC'] = df_urls['URL'].apply(lambda url: FeatureExtraction(url).dots_in_netloc())"
   ],
   "metadata": {
    "collapsed": false,
    "ExecuteTime": {
     "start_time": "2024-04-28T21:16:09.899889300Z"
    }
   },
   "id": "e7658467b98829ca",
   "execution_count": null
  },
  {
   "cell_type": "code",
   "outputs": [],
   "source": [
    "# TODO: CREATE BAR PLOT FOR THIS DATA"
   ],
   "metadata": {
    "collapsed": false,
    "ExecuteTime": {
     "start_time": "2024-04-28T21:16:09.901883400Z"
    }
   },
   "id": "72f1e939cae07b17",
   "execution_count": null
  },
  {
   "cell_type": "code",
   "outputs": [],
   "source": [
    "df_urls['NETLOC_LEN'] = df_urls['URL'].apply(lambda url: FeatureExtraction(url).netloc_length())"
   ],
   "metadata": {
    "collapsed": false,
    "ExecuteTime": {
     "start_time": "2024-04-28T21:16:09.903879200Z"
    }
   },
   "id": "658422301cccff78",
   "execution_count": null
  },
  {
   "cell_type": "code",
   "outputs": [],
   "source": [
    "# TODO: CREATE BAR PLOT FOR THIS DATA"
   ],
   "metadata": {
    "collapsed": false,
    "ExecuteTime": {
     "start_time": "2024-04-28T21:16:09.905873400Z"
    }
   },
   "id": "d7d1a49ef9331268",
   "execution_count": null
  },
  {
   "cell_type": "code",
   "outputs": [],
   "source": [
    "df_urls['HAVE_SHORTENING_PATTERNS'] = df_urls['URL'].apply(lambda url: 1 if FeatureExtraction(url).have_shortening_patterns() else 0)"
   ],
   "metadata": {
    "collapsed": false,
    "ExecuteTime": {
     "start_time": "2024-04-28T21:16:09.907867600Z"
    }
   },
   "id": "d85010758f7d5082",
   "execution_count": null
  },
  {
   "cell_type": "code",
   "outputs": [],
   "source": [
    "# TODO: CREATE BAR PLOT FOR THIS DATA"
   ],
   "metadata": {
    "collapsed": false,
    "ExecuteTime": {
     "start_time": "2024-04-28T21:16:09.908864800Z"
    }
   },
   "id": "8b5fd3d5dc0a463",
   "execution_count": null
  },
  {
   "cell_type": "code",
   "outputs": [],
   "source": [
    "df_urls['HAVE_JS_CODE'] = df_urls['URL'].apply(lambda url: 1 if FeatureExtraction(url).have_javascript_code() else 0)"
   ],
   "metadata": {
    "collapsed": false,
    "ExecuteTime": {
     "start_time": "2024-04-28T21:16:09.909862Z"
    }
   },
   "id": "d49fec63eefe1589",
   "execution_count": null
  },
  {
   "cell_type": "code",
   "outputs": [],
   "source": [
    "# TODO: CREATE BAR PLOT FOR THIS DATA"
   ],
   "metadata": {
    "collapsed": false,
    "ExecuteTime": {
     "start_time": "2024-04-28T21:16:09.910859700Z"
    }
   },
   "id": "5cbeb4763b5488d9",
   "execution_count": null
  },
  {
   "cell_type": "code",
   "outputs": [],
   "source": [
    "df_urls"
   ],
   "metadata": {
    "collapsed": false,
    "ExecuteTime": {
     "start_time": "2024-04-28T21:16:09.911856700Z"
    }
   },
   "id": "d0fea6bf7d8e34fe",
   "execution_count": null
  },
  {
   "cell_type": "markdown",
   "source": [
    "#### Learning Models"
   ],
   "metadata": {
    "collapsed": false
   },
   "id": "e73544c0d0594942"
  },
  {
   "cell_type": "code",
   "outputs": [],
   "source": [
    "X = df_urls.drop(['key_0', 'URL', 'label'], axis=1)\n",
    "y = df_urls['label']"
   ],
   "metadata": {
    "collapsed": false,
    "ExecuteTime": {
     "start_time": "2024-04-28T21:16:09.913852200Z"
    }
   },
   "id": "c8d350e86b2b0a10",
   "execution_count": null
  },
  {
   "cell_type": "code",
   "outputs": [
    {
     "data": {
      "text/plain": "   URL_LENGTH  HAVE_@  HAVE_IP  LONGER_THAN_MEAN  !  @  #  $  %  ^  ...  _  \\\n0          37       0        0                 0  0  0  0  0  0  0  ...  0   \n1          65       0        0                 1  0  0  0  0  0  0  ...  0   \n2          45       0        0                 0  0  0  0  0  0  0  ...  0   \n3          33       0        0                 0  0  0  0  0  0  0  ...  0   \n4          31       0        0                 0  0  0  0  0  0  0  ...  0   \n\n   HAVE_HTTPS  ABNORMAL_URL  DIGITS_AMOUNT  LETTERS_AMOUNT  PATH_DEPTH  \\\n0           0             1              0              32           3   \n1           0             1              5              50           1   \n2           1             0             13              25           1   \n3           1             0              7              19           3   \n4           1             0              0              25           1   \n\n   DOTS_IN_NETLOC  NETLOC_LEN  HAVE_SHORTENING_PATTERNS  HAVE_JS_CODE  \n0               0           0                         0             0  \n1               0           0                         0             0  \n2               2          36                         0             0  \n3               1           8                         0             0  \n4               2          22                         0             0  \n\n[5 rows x 43 columns]",
      "text/html": "<div>\n<style scoped>\n    .dataframe tbody tr th:only-of-type {\n        vertical-align: middle;\n    }\n\n    .dataframe tbody tr th {\n        vertical-align: top;\n    }\n\n    .dataframe thead th {\n        text-align: right;\n    }\n</style>\n<table border=\"1\" class=\"dataframe\">\n  <thead>\n    <tr style=\"text-align: right;\">\n      <th></th>\n      <th>URL_LENGTH</th>\n      <th>HAVE_@</th>\n      <th>HAVE_IP</th>\n      <th>LONGER_THAN_MEAN</th>\n      <th>!</th>\n      <th>@</th>\n      <th>#</th>\n      <th>$</th>\n      <th>%</th>\n      <th>^</th>\n      <th>...</th>\n      <th>_</th>\n      <th>HAVE_HTTPS</th>\n      <th>ABNORMAL_URL</th>\n      <th>DIGITS_AMOUNT</th>\n      <th>LETTERS_AMOUNT</th>\n      <th>PATH_DEPTH</th>\n      <th>DOTS_IN_NETLOC</th>\n      <th>NETLOC_LEN</th>\n      <th>HAVE_SHORTENING_PATTERNS</th>\n      <th>HAVE_JS_CODE</th>\n    </tr>\n  </thead>\n  <tbody>\n    <tr>\n      <th>0</th>\n      <td>37</td>\n      <td>0</td>\n      <td>0</td>\n      <td>0</td>\n      <td>0</td>\n      <td>0</td>\n      <td>0</td>\n      <td>0</td>\n      <td>0</td>\n      <td>0</td>\n      <td>...</td>\n      <td>0</td>\n      <td>0</td>\n      <td>1</td>\n      <td>0</td>\n      <td>32</td>\n      <td>3</td>\n      <td>0</td>\n      <td>0</td>\n      <td>0</td>\n      <td>0</td>\n    </tr>\n    <tr>\n      <th>1</th>\n      <td>65</td>\n      <td>0</td>\n      <td>0</td>\n      <td>1</td>\n      <td>0</td>\n      <td>0</td>\n      <td>0</td>\n      <td>0</td>\n      <td>0</td>\n      <td>0</td>\n      <td>...</td>\n      <td>0</td>\n      <td>0</td>\n      <td>1</td>\n      <td>5</td>\n      <td>50</td>\n      <td>1</td>\n      <td>0</td>\n      <td>0</td>\n      <td>0</td>\n      <td>0</td>\n    </tr>\n    <tr>\n      <th>2</th>\n      <td>45</td>\n      <td>0</td>\n      <td>0</td>\n      <td>0</td>\n      <td>0</td>\n      <td>0</td>\n      <td>0</td>\n      <td>0</td>\n      <td>0</td>\n      <td>0</td>\n      <td>...</td>\n      <td>0</td>\n      <td>1</td>\n      <td>0</td>\n      <td>13</td>\n      <td>25</td>\n      <td>1</td>\n      <td>2</td>\n      <td>36</td>\n      <td>0</td>\n      <td>0</td>\n    </tr>\n    <tr>\n      <th>3</th>\n      <td>33</td>\n      <td>0</td>\n      <td>0</td>\n      <td>0</td>\n      <td>0</td>\n      <td>0</td>\n      <td>0</td>\n      <td>0</td>\n      <td>0</td>\n      <td>0</td>\n      <td>...</td>\n      <td>0</td>\n      <td>1</td>\n      <td>0</td>\n      <td>7</td>\n      <td>19</td>\n      <td>3</td>\n      <td>1</td>\n      <td>8</td>\n      <td>0</td>\n      <td>0</td>\n    </tr>\n    <tr>\n      <th>4</th>\n      <td>31</td>\n      <td>0</td>\n      <td>0</td>\n      <td>0</td>\n      <td>0</td>\n      <td>0</td>\n      <td>0</td>\n      <td>0</td>\n      <td>0</td>\n      <td>0</td>\n      <td>...</td>\n      <td>0</td>\n      <td>1</td>\n      <td>0</td>\n      <td>0</td>\n      <td>25</td>\n      <td>1</td>\n      <td>2</td>\n      <td>22</td>\n      <td>0</td>\n      <td>0</td>\n    </tr>\n  </tbody>\n</table>\n<p>5 rows × 43 columns</p>\n</div>"
     },
     "execution_count": 349,
     "metadata": {},
     "output_type": "execute_result"
    }
   ],
   "source": [
    "X.head()"
   ],
   "metadata": {
    "collapsed": false,
    "ExecuteTime": {
     "end_time": "2024-04-28T21:16:10.082276200Z",
     "start_time": "2024-04-28T21:16:09.916843800Z"
    }
   },
   "id": "b4919dfef11c340c",
   "execution_count": 349
  },
  {
   "cell_type": "code",
   "outputs": [
    {
     "data": {
      "text/plain": "0    1\n1    1\n2    1\n3    0\n4    0\nName: label, dtype: int64"
     },
     "execution_count": 350,
     "metadata": {},
     "output_type": "execute_result"
    }
   ],
   "source": [
    "y.head()"
   ],
   "metadata": {
    "collapsed": false,
    "ExecuteTime": {
     "end_time": "2024-04-28T21:16:10.090239700Z",
     "start_time": "2024-04-28T21:16:10.020074300Z"
    }
   },
   "id": "e98b731bb698ee42",
   "execution_count": 350
  },
  {
   "cell_type": "code",
   "outputs": [
    {
     "name": "stdout",
     "output_type": "stream",
     "text": [
      "X_train shape:  (171589, 43)\n",
      "X_test shape:  (73539, 43)\n",
      "y_train shape:  (171589,)\n",
      "y_test shape:  (73539,)\n"
     ]
    }
   ],
   "source": [
    "X_train, X_test, y_train, y_test = train_test_split(X, y, test_size=0.3, random_state=42)\n",
    "\n",
    "print(\"X_train shape: \", X_train.shape)\n",
    "print(\"X_test shape: \", X_test.shape)\n",
    "print(\"y_train shape: \", y_train.shape)\n",
    "print(\"y_test shape: \", y_test.shape)"
   ],
   "metadata": {
    "collapsed": false,
    "ExecuteTime": {
     "end_time": "2024-04-28T21:16:10.258554800Z",
     "start_time": "2024-04-28T21:16:10.091214100Z"
    }
   },
   "id": "25f4b13780b9ab0c",
   "execution_count": 351
  },
  {
   "cell_type": "code",
   "outputs": [
    {
     "data": {
      "text/plain": "RandomForestClassifier(random_state=42)",
      "text/html": "<style>#sk-container-id-9 {\n  /* Definition of color scheme common for light and dark mode */\n  --sklearn-color-text: black;\n  --sklearn-color-line: gray;\n  /* Definition of color scheme for unfitted estimators */\n  --sklearn-color-unfitted-level-0: #fff5e6;\n  --sklearn-color-unfitted-level-1: #f6e4d2;\n  --sklearn-color-unfitted-level-2: #ffe0b3;\n  --sklearn-color-unfitted-level-3: chocolate;\n  /* Definition of color scheme for fitted estimators */\n  --sklearn-color-fitted-level-0: #f0f8ff;\n  --sklearn-color-fitted-level-1: #d4ebff;\n  --sklearn-color-fitted-level-2: #b3dbfd;\n  --sklearn-color-fitted-level-3: cornflowerblue;\n\n  /* Specific color for light theme */\n  --sklearn-color-text-on-default-background: var(--sg-text-color, var(--theme-code-foreground, var(--jp-content-font-color1, black)));\n  --sklearn-color-background: var(--sg-background-color, var(--theme-background, var(--jp-layout-color0, white)));\n  --sklearn-color-border-box: var(--sg-text-color, var(--theme-code-foreground, var(--jp-content-font-color1, black)));\n  --sklearn-color-icon: #696969;\n\n  @media (prefers-color-scheme: dark) {\n    /* Redefinition of color scheme for dark theme */\n    --sklearn-color-text-on-default-background: var(--sg-text-color, var(--theme-code-foreground, var(--jp-content-font-color1, white)));\n    --sklearn-color-background: var(--sg-background-color, var(--theme-background, var(--jp-layout-color0, #111)));\n    --sklearn-color-border-box: var(--sg-text-color, var(--theme-code-foreground, var(--jp-content-font-color1, white)));\n    --sklearn-color-icon: #878787;\n  }\n}\n\n#sk-container-id-9 {\n  color: var(--sklearn-color-text);\n}\n\n#sk-container-id-9 pre {\n  padding: 0;\n}\n\n#sk-container-id-9 input.sk-hidden--visually {\n  border: 0;\n  clip: rect(1px 1px 1px 1px);\n  clip: rect(1px, 1px, 1px, 1px);\n  height: 1px;\n  margin: -1px;\n  overflow: hidden;\n  padding: 0;\n  position: absolute;\n  width: 1px;\n}\n\n#sk-container-id-9 div.sk-dashed-wrapped {\n  border: 1px dashed var(--sklearn-color-line);\n  margin: 0 0.4em 0.5em 0.4em;\n  box-sizing: border-box;\n  padding-bottom: 0.4em;\n  background-color: var(--sklearn-color-background);\n}\n\n#sk-container-id-9 div.sk-container {\n  /* jupyter's `normalize.less` sets `[hidden] { display: none; }`\n     but bootstrap.min.css set `[hidden] { display: none !important; }`\n     so we also need the `!important` here to be able to override the\n     default hidden behavior on the sphinx rendered scikit-learn.org.\n     See: https://github.com/scikit-learn/scikit-learn/issues/21755 */\n  display: inline-block !important;\n  position: relative;\n}\n\n#sk-container-id-9 div.sk-text-repr-fallback {\n  display: none;\n}\n\ndiv.sk-parallel-item,\ndiv.sk-serial,\ndiv.sk-item {\n  /* draw centered vertical line to link estimators */\n  background-image: linear-gradient(var(--sklearn-color-text-on-default-background), var(--sklearn-color-text-on-default-background));\n  background-size: 2px 100%;\n  background-repeat: no-repeat;\n  background-position: center center;\n}\n\n/* Parallel-specific style estimator block */\n\n#sk-container-id-9 div.sk-parallel-item::after {\n  content: \"\";\n  width: 100%;\n  border-bottom: 2px solid var(--sklearn-color-text-on-default-background);\n  flex-grow: 1;\n}\n\n#sk-container-id-9 div.sk-parallel {\n  display: flex;\n  align-items: stretch;\n  justify-content: center;\n  background-color: var(--sklearn-color-background);\n  position: relative;\n}\n\n#sk-container-id-9 div.sk-parallel-item {\n  display: flex;\n  flex-direction: column;\n}\n\n#sk-container-id-9 div.sk-parallel-item:first-child::after {\n  align-self: flex-end;\n  width: 50%;\n}\n\n#sk-container-id-9 div.sk-parallel-item:last-child::after {\n  align-self: flex-start;\n  width: 50%;\n}\n\n#sk-container-id-9 div.sk-parallel-item:only-child::after {\n  width: 0;\n}\n\n/* Serial-specific style estimator block */\n\n#sk-container-id-9 div.sk-serial {\n  display: flex;\n  flex-direction: column;\n  align-items: center;\n  background-color: var(--sklearn-color-background);\n  padding-right: 1em;\n  padding-left: 1em;\n}\n\n\n/* Toggleable style: style used for estimator/Pipeline/ColumnTransformer box that is\nclickable and can be expanded/collapsed.\n- Pipeline and ColumnTransformer use this feature and define the default style\n- Estimators will overwrite some part of the style using the `sk-estimator` class\n*/\n\n/* Pipeline and ColumnTransformer style (default) */\n\n#sk-container-id-9 div.sk-toggleable {\n  /* Default theme specific background. It is overwritten whether we have a\n  specific estimator or a Pipeline/ColumnTransformer */\n  background-color: var(--sklearn-color-background);\n}\n\n/* Toggleable label */\n#sk-container-id-9 label.sk-toggleable__label {\n  cursor: pointer;\n  display: block;\n  width: 100%;\n  margin-bottom: 0;\n  padding: 0.5em;\n  box-sizing: border-box;\n  text-align: center;\n}\n\n#sk-container-id-9 label.sk-toggleable__label-arrow:before {\n  /* Arrow on the left of the label */\n  content: \"▸\";\n  float: left;\n  margin-right: 0.25em;\n  color: var(--sklearn-color-icon);\n}\n\n#sk-container-id-9 label.sk-toggleable__label-arrow:hover:before {\n  color: var(--sklearn-color-text);\n}\n\n/* Toggleable content - dropdown */\n\n#sk-container-id-9 div.sk-toggleable__content {\n  max-height: 0;\n  max-width: 0;\n  overflow: hidden;\n  text-align: left;\n  /* unfitted */\n  background-color: var(--sklearn-color-unfitted-level-0);\n}\n\n#sk-container-id-9 div.sk-toggleable__content.fitted {\n  /* fitted */\n  background-color: var(--sklearn-color-fitted-level-0);\n}\n\n#sk-container-id-9 div.sk-toggleable__content pre {\n  margin: 0.2em;\n  border-radius: 0.25em;\n  color: var(--sklearn-color-text);\n  /* unfitted */\n  background-color: var(--sklearn-color-unfitted-level-0);\n}\n\n#sk-container-id-9 div.sk-toggleable__content.fitted pre {\n  /* unfitted */\n  background-color: var(--sklearn-color-fitted-level-0);\n}\n\n#sk-container-id-9 input.sk-toggleable__control:checked~div.sk-toggleable__content {\n  /* Expand drop-down */\n  max-height: 200px;\n  max-width: 100%;\n  overflow: auto;\n}\n\n#sk-container-id-9 input.sk-toggleable__control:checked~label.sk-toggleable__label-arrow:before {\n  content: \"▾\";\n}\n\n/* Pipeline/ColumnTransformer-specific style */\n\n#sk-container-id-9 div.sk-label input.sk-toggleable__control:checked~label.sk-toggleable__label {\n  color: var(--sklearn-color-text);\n  background-color: var(--sklearn-color-unfitted-level-2);\n}\n\n#sk-container-id-9 div.sk-label.fitted input.sk-toggleable__control:checked~label.sk-toggleable__label {\n  background-color: var(--sklearn-color-fitted-level-2);\n}\n\n/* Estimator-specific style */\n\n/* Colorize estimator box */\n#sk-container-id-9 div.sk-estimator input.sk-toggleable__control:checked~label.sk-toggleable__label {\n  /* unfitted */\n  background-color: var(--sklearn-color-unfitted-level-2);\n}\n\n#sk-container-id-9 div.sk-estimator.fitted input.sk-toggleable__control:checked~label.sk-toggleable__label {\n  /* fitted */\n  background-color: var(--sklearn-color-fitted-level-2);\n}\n\n#sk-container-id-9 div.sk-label label.sk-toggleable__label,\n#sk-container-id-9 div.sk-label label {\n  /* The background is the default theme color */\n  color: var(--sklearn-color-text-on-default-background);\n}\n\n/* On hover, darken the color of the background */\n#sk-container-id-9 div.sk-label:hover label.sk-toggleable__label {\n  color: var(--sklearn-color-text);\n  background-color: var(--sklearn-color-unfitted-level-2);\n}\n\n/* Label box, darken color on hover, fitted */\n#sk-container-id-9 div.sk-label.fitted:hover label.sk-toggleable__label.fitted {\n  color: var(--sklearn-color-text);\n  background-color: var(--sklearn-color-fitted-level-2);\n}\n\n/* Estimator label */\n\n#sk-container-id-9 div.sk-label label {\n  font-family: monospace;\n  font-weight: bold;\n  display: inline-block;\n  line-height: 1.2em;\n}\n\n#sk-container-id-9 div.sk-label-container {\n  text-align: center;\n}\n\n/* Estimator-specific */\n#sk-container-id-9 div.sk-estimator {\n  font-family: monospace;\n  border: 1px dotted var(--sklearn-color-border-box);\n  border-radius: 0.25em;\n  box-sizing: border-box;\n  margin-bottom: 0.5em;\n  /* unfitted */\n  background-color: var(--sklearn-color-unfitted-level-0);\n}\n\n#sk-container-id-9 div.sk-estimator.fitted {\n  /* fitted */\n  background-color: var(--sklearn-color-fitted-level-0);\n}\n\n/* on hover */\n#sk-container-id-9 div.sk-estimator:hover {\n  /* unfitted */\n  background-color: var(--sklearn-color-unfitted-level-2);\n}\n\n#sk-container-id-9 div.sk-estimator.fitted:hover {\n  /* fitted */\n  background-color: var(--sklearn-color-fitted-level-2);\n}\n\n/* Specification for estimator info (e.g. \"i\" and \"?\") */\n\n/* Common style for \"i\" and \"?\" */\n\n.sk-estimator-doc-link,\na:link.sk-estimator-doc-link,\na:visited.sk-estimator-doc-link {\n  float: right;\n  font-size: smaller;\n  line-height: 1em;\n  font-family: monospace;\n  background-color: var(--sklearn-color-background);\n  border-radius: 1em;\n  height: 1em;\n  width: 1em;\n  text-decoration: none !important;\n  margin-left: 1ex;\n  /* unfitted */\n  border: var(--sklearn-color-unfitted-level-1) 1pt solid;\n  color: var(--sklearn-color-unfitted-level-1);\n}\n\n.sk-estimator-doc-link.fitted,\na:link.sk-estimator-doc-link.fitted,\na:visited.sk-estimator-doc-link.fitted {\n  /* fitted */\n  border: var(--sklearn-color-fitted-level-1) 1pt solid;\n  color: var(--sklearn-color-fitted-level-1);\n}\n\n/* On hover */\ndiv.sk-estimator:hover .sk-estimator-doc-link:hover,\n.sk-estimator-doc-link:hover,\ndiv.sk-label-container:hover .sk-estimator-doc-link:hover,\n.sk-estimator-doc-link:hover {\n  /* unfitted */\n  background-color: var(--sklearn-color-unfitted-level-3);\n  color: var(--sklearn-color-background);\n  text-decoration: none;\n}\n\ndiv.sk-estimator.fitted:hover .sk-estimator-doc-link.fitted:hover,\n.sk-estimator-doc-link.fitted:hover,\ndiv.sk-label-container:hover .sk-estimator-doc-link.fitted:hover,\n.sk-estimator-doc-link.fitted:hover {\n  /* fitted */\n  background-color: var(--sklearn-color-fitted-level-3);\n  color: var(--sklearn-color-background);\n  text-decoration: none;\n}\n\n/* Span, style for the box shown on hovering the info icon */\n.sk-estimator-doc-link span {\n  display: none;\n  z-index: 9999;\n  position: relative;\n  font-weight: normal;\n  right: .2ex;\n  padding: .5ex;\n  margin: .5ex;\n  width: min-content;\n  min-width: 20ex;\n  max-width: 50ex;\n  color: var(--sklearn-color-text);\n  box-shadow: 2pt 2pt 4pt #999;\n  /* unfitted */\n  background: var(--sklearn-color-unfitted-level-0);\n  border: .5pt solid var(--sklearn-color-unfitted-level-3);\n}\n\n.sk-estimator-doc-link.fitted span {\n  /* fitted */\n  background: var(--sklearn-color-fitted-level-0);\n  border: var(--sklearn-color-fitted-level-3);\n}\n\n.sk-estimator-doc-link:hover span {\n  display: block;\n}\n\n/* \"?\"-specific style due to the `<a>` HTML tag */\n\n#sk-container-id-9 a.estimator_doc_link {\n  float: right;\n  font-size: 1rem;\n  line-height: 1em;\n  font-family: monospace;\n  background-color: var(--sklearn-color-background);\n  border-radius: 1rem;\n  height: 1rem;\n  width: 1rem;\n  text-decoration: none;\n  /* unfitted */\n  color: var(--sklearn-color-unfitted-level-1);\n  border: var(--sklearn-color-unfitted-level-1) 1pt solid;\n}\n\n#sk-container-id-9 a.estimator_doc_link.fitted {\n  /* fitted */\n  border: var(--sklearn-color-fitted-level-1) 1pt solid;\n  color: var(--sklearn-color-fitted-level-1);\n}\n\n/* On hover */\n#sk-container-id-9 a.estimator_doc_link:hover {\n  /* unfitted */\n  background-color: var(--sklearn-color-unfitted-level-3);\n  color: var(--sklearn-color-background);\n  text-decoration: none;\n}\n\n#sk-container-id-9 a.estimator_doc_link.fitted:hover {\n  /* fitted */\n  background-color: var(--sklearn-color-fitted-level-3);\n}\n</style><div id=\"sk-container-id-9\" class=\"sk-top-container\"><div class=\"sk-text-repr-fallback\"><pre>RandomForestClassifier(random_state=42)</pre><b>In a Jupyter environment, please rerun this cell to show the HTML representation or trust the notebook. <br />On GitHub, the HTML representation is unable to render, please try loading this page with nbviewer.org.</b></div><div class=\"sk-container\" hidden><div class=\"sk-item\"><div class=\"sk-estimator fitted sk-toggleable\"><input class=\"sk-toggleable__control sk-hidden--visually\" id=\"sk-estimator-id-9\" type=\"checkbox\" checked><label for=\"sk-estimator-id-9\" class=\"sk-toggleable__label fitted sk-toggleable__label-arrow fitted\">&nbsp;&nbsp;RandomForestClassifier<a class=\"sk-estimator-doc-link fitted\" rel=\"noreferrer\" target=\"_blank\" href=\"https://scikit-learn.org/1.4/modules/generated/sklearn.ensemble.RandomForestClassifier.html\">?<span>Documentation for RandomForestClassifier</span></a><span class=\"sk-estimator-doc-link fitted\">i<span>Fitted</span></span></label><div class=\"sk-toggleable__content fitted\"><pre>RandomForestClassifier(random_state=42)</pre></div> </div></div></div></div>"
     },
     "execution_count": 352,
     "metadata": {},
     "output_type": "execute_result"
    }
   ],
   "source": [
    "# RandomForestClassifier\n",
    "clf = RandomForestClassifier(random_state=42)\n",
    "clf.fit(X_train, y_train)"
   ],
   "metadata": {
    "collapsed": false,
    "ExecuteTime": {
     "end_time": "2024-04-28T21:16:23.203634400Z",
     "start_time": "2024-04-28T21:16:10.183753600Z"
    }
   },
   "id": "1a980bf893e0e1ee",
   "execution_count": 352
  },
  {
   "cell_type": "code",
   "outputs": [],
   "source": [
    "y_pred = clf.predict(X_test)"
   ],
   "metadata": {
    "collapsed": false,
    "ExecuteTime": {
     "end_time": "2024-04-28T21:16:24.330202900Z",
     "start_time": "2024-04-28T21:16:23.201639600Z"
    }
   },
   "id": "d1c7b7346214df78",
   "execution_count": 353
  },
  {
   "cell_type": "code",
   "outputs": [
    {
     "name": "stdout",
     "output_type": "stream",
     "text": [
      "Accuracy:  0.9319272766831205\n"
     ]
    }
   ],
   "source": [
    "accuracy = accuracy_score(y_test, y_pred)\n",
    "print(\"Accuracy: \", accuracy)"
   ],
   "metadata": {
    "collapsed": false,
    "ExecuteTime": {
     "end_time": "2024-04-28T21:16:24.350330700Z",
     "start_time": "2024-04-28T21:16:24.331229400Z"
    }
   },
   "id": "488b0683f403609a",
   "execution_count": 354
  },
  {
   "cell_type": "code",
   "outputs": [
    {
     "name": "stdout",
     "output_type": "stream",
     "text": [
      "Precision:  0.9371675806762753\n"
     ]
    }
   ],
   "source": [
    "precision = precision_score(y_test, y_pred)\n",
    "print(\"Precision: \", precision)"
   ],
   "metadata": {
    "collapsed": false,
    "ExecuteTime": {
     "end_time": "2024-04-28T21:16:24.391248700Z",
     "start_time": "2024-04-28T21:16:24.341331600Z"
    }
   },
   "id": "d0bcb9b94229e168",
   "execution_count": 355
  },
  {
   "cell_type": "code",
   "outputs": [
    {
     "name": "stdout",
     "output_type": "stream",
     "text": [
      "ExtraTrees Classifier Accuracy: 0.932199241218945\n"
     ]
    }
   ],
   "source": [
    "from sklearn.ensemble import ExtraTreesClassifier\n",
    "\n",
    "# Initialize and train the ExtraTreesClassifier\n",
    "extra_trees_classifier = ExtraTreesClassifier(random_state=42)\n",
    "extra_trees_classifier.fit(X_train, y_train)\n",
    "\n",
    "# Predict the labels for the testing set\n",
    "y_pred_extra_trees = extra_trees_classifier.predict(X_test)\n",
    "\n",
    "# Calculate the accuracy of the ExtraTrees model\n",
    "accuracy_extra_trees = accuracy_score(y_test, y_pred_extra_trees)\n",
    "print(\"ExtraTrees Classifier Accuracy:\", accuracy_extra_trees)"
   ],
   "metadata": {
    "collapsed": false,
    "ExecuteTime": {
     "end_time": "2024-04-28T21:16:41.383064500Z",
     "start_time": "2024-04-28T21:16:24.392231500Z"
    }
   },
   "id": "471472fdc008b1ce",
   "execution_count": 356
  },
  {
   "cell_type": "code",
   "outputs": [],
   "source": [],
   "metadata": {
    "collapsed": false,
    "ExecuteTime": {
     "end_time": "2024-04-28T21:16:41.388048500Z",
     "start_time": "2024-04-28T21:16:41.382555100Z"
    }
   },
   "id": "3acd08e877e7b687",
   "execution_count": 356
  }
 ],
 "metadata": {
  "kernelspec": {
   "display_name": "Python 3 (ipykernel)",
   "language": "python",
   "name": "python3"
  },
  "language_info": {
   "codemirror_mode": {
    "name": "ipython",
    "version": 3
   },
   "file_extension": ".py",
   "mimetype": "text/x-python",
   "name": "python",
   "nbconvert_exporter": "python",
   "pygments_lexer": "ipython3",
   "version": "3.11.5"
  }
 },
 "nbformat": 4,
 "nbformat_minor": 5
}
