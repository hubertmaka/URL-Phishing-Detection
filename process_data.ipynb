{
 "cells": [
  {
   "cell_type": "markdown",
   "source": [
    "# Preprocessing Files "
   ],
   "metadata": {
    "collapsed": false
   },
   "id": "d354e06d4ce741dd"
  },
  {
   "cell_type": "markdown",
   "source": [
    "## In this file, urls from the collected data are cleaned and structured"
   ],
   "metadata": {
    "collapsed": false
   },
   "id": "3fda358511495a6d"
  },
  {
   "cell_type": "markdown",
   "source": [
    "### 1. Import libraries"
   ],
   "metadata": {
    "collapsed": false
   },
   "id": "78327d1874cd1cae"
  },
  {
   "cell_type": "code",
   "outputs": [],
   "source": [
    "import pandas as pd"
   ],
   "metadata": {
    "collapsed": false,
    "ExecuteTime": {
     "end_time": "2024-04-26T20:47:06.277521700Z",
     "start_time": "2024-04-26T20:47:06.269004900Z"
    }
   },
   "id": "51343d58226c8da4",
   "execution_count": 287
  },
  {
   "cell_type": "markdown",
   "source": [
    "### 2. Loading collected data from files"
   ],
   "metadata": {
    "collapsed": false
   },
   "id": "d0055d190a77eead"
  },
  {
   "cell_type": "markdown",
   "source": [
    "The data is mainly collected from Phishtank and URL dataset ISCX-URL-2016 (present on kaggle), but some data is polluted or unnecessary (urls with malware or defacement). Data sources:\n",
    "- https://www.kaggle.com/datasets/sid321axn/malicious-urls-dataset/data (benign data from: https://www.unb.ca/cic/datasets/url-2016.html)\n",
    "- https://phishtank.org/ (online validated and https://phishtank.org/phish_search.php?valid=n&active=All&Search=Search)"
   ],
   "metadata": {
    "collapsed": false
   },
   "id": "14869e26c2ed60cd"
  },
  {
   "cell_type": "code",
   "outputs": [],
   "source": [
    "phish_data_from_phishtank = pd.read_csv('./datasets/verified_online.csv')\n",
    "non_phish_data_from_phishtank_scraped = pd.read_csv('./datasets/non-phishing-urls-phishtank-final.csv')\n",
    "data_from_kaggle = pd.read_csv('./datasets/malicious_phish.csv')"
   ],
   "metadata": {
    "collapsed": false,
    "ExecuteTime": {
     "end_time": "2024-04-26T20:47:07.947012700Z",
     "start_time": "2024-04-26T20:47:06.822601600Z"
    }
   },
   "id": "b3a2dfbc57239227",
   "execution_count": 288
  },
  {
   "cell_type": "markdown",
   "source": [
    "### 3. First look on the data"
   ],
   "metadata": {
    "collapsed": false
   },
   "id": "d3964098879e5be5"
  },
  {
   "cell_type": "code",
   "outputs": [
    {
     "data": {
      "text/plain": "   phish_id                                            url  \\\n0   8546313               https://ollx.1792836.xyz/captcha   \n1   8546314                 https://ufakick456.com/captcha   \n2   8546312              https://keyeseuropean.com/captcha   \n3   8546311   https://allegr0lokalnie.83473636.xyz/captcha   \n4   8546309                 http://ufakick456.com/fb7pl5qw   \n5   8546310               http://ollx.1792836.xyz/fb7pl5qw   \n6   8546308              http://keyeseuropean.com/fb7pl5qw   \n7   8546307   http://allegr0lokalnie.83473636.xyz/fb7pl5qw   \n8   8546279   http://atrgptol.pages.dev/connection-module/   \n9   8546280  https://atrgptol.pages.dev/connection-module/   \n\n                                    phish_detail_url  \\\n0  http://www.phishtank.com/phish_detail.php?phis...   \n1  http://www.phishtank.com/phish_detail.php?phis...   \n2  http://www.phishtank.com/phish_detail.php?phis...   \n3  http://www.phishtank.com/phish_detail.php?phis...   \n4  http://www.phishtank.com/phish_detail.php?phis...   \n5  http://www.phishtank.com/phish_detail.php?phis...   \n6  http://www.phishtank.com/phish_detail.php?phis...   \n7  http://www.phishtank.com/phish_detail.php?phis...   \n8  http://www.phishtank.com/phish_detail.php?phis...   \n9  http://www.phishtank.com/phish_detail.php?phis...   \n\n             submission_time verified          verification_time online target  \n0  2024-04-22T10:55:17+00:00      yes  2024-04-22T11:04:04+00:00    yes  Other  \n1  2024-04-22T10:55:17+00:00      yes  2024-04-22T11:04:04+00:00    yes  Other  \n2  2024-04-22T10:55:16+00:00      yes  2024-04-22T11:04:04+00:00    yes  Other  \n3  2024-04-22T10:55:14+00:00      yes  2024-04-22T11:04:04+00:00    yes  Other  \n4  2024-04-22T10:55:13+00:00      yes  2024-04-22T11:04:04+00:00    yes  Other  \n5  2024-04-22T10:55:13+00:00      yes  2024-04-22T11:04:04+00:00    yes  Other  \n6  2024-04-22T10:55:11+00:00      yes  2024-04-22T11:04:04+00:00    yes  Other  \n7  2024-04-22T10:55:10+00:00      yes  2024-04-22T11:04:04+00:00    yes  Other  \n8  2024-04-22T10:25:50+00:00      yes  2024-04-22T10:33:21+00:00    yes  Other  \n9  2024-04-22T10:25:50+00:00      yes  2024-04-22T10:33:21+00:00    yes  Other  ",
      "text/html": "<div>\n<style scoped>\n    .dataframe tbody tr th:only-of-type {\n        vertical-align: middle;\n    }\n\n    .dataframe tbody tr th {\n        vertical-align: top;\n    }\n\n    .dataframe thead th {\n        text-align: right;\n    }\n</style>\n<table border=\"1\" class=\"dataframe\">\n  <thead>\n    <tr style=\"text-align: right;\">\n      <th></th>\n      <th>phish_id</th>\n      <th>url</th>\n      <th>phish_detail_url</th>\n      <th>submission_time</th>\n      <th>verified</th>\n      <th>verification_time</th>\n      <th>online</th>\n      <th>target</th>\n    </tr>\n  </thead>\n  <tbody>\n    <tr>\n      <th>0</th>\n      <td>8546313</td>\n      <td>https://ollx.1792836.xyz/captcha</td>\n      <td>http://www.phishtank.com/phish_detail.php?phis...</td>\n      <td>2024-04-22T10:55:17+00:00</td>\n      <td>yes</td>\n      <td>2024-04-22T11:04:04+00:00</td>\n      <td>yes</td>\n      <td>Other</td>\n    </tr>\n    <tr>\n      <th>1</th>\n      <td>8546314</td>\n      <td>https://ufakick456.com/captcha</td>\n      <td>http://www.phishtank.com/phish_detail.php?phis...</td>\n      <td>2024-04-22T10:55:17+00:00</td>\n      <td>yes</td>\n      <td>2024-04-22T11:04:04+00:00</td>\n      <td>yes</td>\n      <td>Other</td>\n    </tr>\n    <tr>\n      <th>2</th>\n      <td>8546312</td>\n      <td>https://keyeseuropean.com/captcha</td>\n      <td>http://www.phishtank.com/phish_detail.php?phis...</td>\n      <td>2024-04-22T10:55:16+00:00</td>\n      <td>yes</td>\n      <td>2024-04-22T11:04:04+00:00</td>\n      <td>yes</td>\n      <td>Other</td>\n    </tr>\n    <tr>\n      <th>3</th>\n      <td>8546311</td>\n      <td>https://allegr0lokalnie.83473636.xyz/captcha</td>\n      <td>http://www.phishtank.com/phish_detail.php?phis...</td>\n      <td>2024-04-22T10:55:14+00:00</td>\n      <td>yes</td>\n      <td>2024-04-22T11:04:04+00:00</td>\n      <td>yes</td>\n      <td>Other</td>\n    </tr>\n    <tr>\n      <th>4</th>\n      <td>8546309</td>\n      <td>http://ufakick456.com/fb7pl5qw</td>\n      <td>http://www.phishtank.com/phish_detail.php?phis...</td>\n      <td>2024-04-22T10:55:13+00:00</td>\n      <td>yes</td>\n      <td>2024-04-22T11:04:04+00:00</td>\n      <td>yes</td>\n      <td>Other</td>\n    </tr>\n    <tr>\n      <th>5</th>\n      <td>8546310</td>\n      <td>http://ollx.1792836.xyz/fb7pl5qw</td>\n      <td>http://www.phishtank.com/phish_detail.php?phis...</td>\n      <td>2024-04-22T10:55:13+00:00</td>\n      <td>yes</td>\n      <td>2024-04-22T11:04:04+00:00</td>\n      <td>yes</td>\n      <td>Other</td>\n    </tr>\n    <tr>\n      <th>6</th>\n      <td>8546308</td>\n      <td>http://keyeseuropean.com/fb7pl5qw</td>\n      <td>http://www.phishtank.com/phish_detail.php?phis...</td>\n      <td>2024-04-22T10:55:11+00:00</td>\n      <td>yes</td>\n      <td>2024-04-22T11:04:04+00:00</td>\n      <td>yes</td>\n      <td>Other</td>\n    </tr>\n    <tr>\n      <th>7</th>\n      <td>8546307</td>\n      <td>http://allegr0lokalnie.83473636.xyz/fb7pl5qw</td>\n      <td>http://www.phishtank.com/phish_detail.php?phis...</td>\n      <td>2024-04-22T10:55:10+00:00</td>\n      <td>yes</td>\n      <td>2024-04-22T11:04:04+00:00</td>\n      <td>yes</td>\n      <td>Other</td>\n    </tr>\n    <tr>\n      <th>8</th>\n      <td>8546279</td>\n      <td>http://atrgptol.pages.dev/connection-module/</td>\n      <td>http://www.phishtank.com/phish_detail.php?phis...</td>\n      <td>2024-04-22T10:25:50+00:00</td>\n      <td>yes</td>\n      <td>2024-04-22T10:33:21+00:00</td>\n      <td>yes</td>\n      <td>Other</td>\n    </tr>\n    <tr>\n      <th>9</th>\n      <td>8546280</td>\n      <td>https://atrgptol.pages.dev/connection-module/</td>\n      <td>http://www.phishtank.com/phish_detail.php?phis...</td>\n      <td>2024-04-22T10:25:50+00:00</td>\n      <td>yes</td>\n      <td>2024-04-22T10:33:21+00:00</td>\n      <td>yes</td>\n      <td>Other</td>\n    </tr>\n  </tbody>\n</table>\n</div>"
     },
     "execution_count": 289,
     "metadata": {},
     "output_type": "execute_result"
    }
   ],
   "source": [
    "phish_data_from_phishtank.head(10)"
   ],
   "metadata": {
    "collapsed": false,
    "ExecuteTime": {
     "end_time": "2024-04-26T20:47:07.958218700Z",
     "start_time": "2024-04-26T20:47:07.949008100Z"
    }
   },
   "id": "93d3fdf18dfa1ff7",
   "execution_count": 289
  },
  {
   "cell_type": "code",
   "outputs": [
    {
     "data": {
      "text/plain": "        ID                                          PHISH_URL  \\\n0  8550621  http://login.live.com.office.autooffc29536.eup...   \n1  8535110                       https://releases.jquery.com/   \n2  8535109                           https://code.jquery.com/   \n3  8533875                       https://app.ether.fi/blocked   \n4  8530207  https://fonts.googleapis.com/css2?family=Open+...   \n5  8529188  https://urlscan.io/result/31a21a49-f77d-406d-a...   \n6  8518134  https://buff.163.com/news/?news_game=dota2&sou...   \n7  8511079  https://login.microsoftonline.com/638fcbaf-ba4...   \n8  8511077  https://login.microsoftonline.com/638fcbaf-ba4...   \n9  8511075  https://login.microsoftonline.com/638fcbaf-ba4...   \n\n                                     ADDITIONAL_INFO  \n0  added on Apr 25th 2024 1:01 AM by cleanmx INVA...  \n1  added on Apr 13th 2024 1:57 PM by verifrom INV...  \n2  added on Apr 13th 2024 1:57 PM by verifrom INV...  \n3  added on Apr 12th 2024 3:27 PM by Felix0101 IN...  \n4  added on Apr 10th 2024 8:25 AM by tchatzi INVA...  \n5  added on Apr 9th 2024 8:09 PM by lhernandez IN...  \n6  added on Apr 3rd 2024 2:40 AM by Felix0101 INV...  \n7  added on Mar 30th 2024 7:03 PM by cleanmx INVA...  \n8  added on Mar 30th 2024 7:03 PM by cleanmx INVA...  \n9  added on Mar 30th 2024 7:03 PM by cleanmx INVA...  ",
      "text/html": "<div>\n<style scoped>\n    .dataframe tbody tr th:only-of-type {\n        vertical-align: middle;\n    }\n\n    .dataframe tbody tr th {\n        vertical-align: top;\n    }\n\n    .dataframe thead th {\n        text-align: right;\n    }\n</style>\n<table border=\"1\" class=\"dataframe\">\n  <thead>\n    <tr style=\"text-align: right;\">\n      <th></th>\n      <th>ID</th>\n      <th>PHISH_URL</th>\n      <th>ADDITIONAL_INFO</th>\n    </tr>\n  </thead>\n  <tbody>\n    <tr>\n      <th>0</th>\n      <td>8550621</td>\n      <td>http://login.live.com.office.autooffc29536.eup...</td>\n      <td>added on Apr 25th 2024 1:01 AM by cleanmx INVA...</td>\n    </tr>\n    <tr>\n      <th>1</th>\n      <td>8535110</td>\n      <td>https://releases.jquery.com/</td>\n      <td>added on Apr 13th 2024 1:57 PM by verifrom INV...</td>\n    </tr>\n    <tr>\n      <th>2</th>\n      <td>8535109</td>\n      <td>https://code.jquery.com/</td>\n      <td>added on Apr 13th 2024 1:57 PM by verifrom INV...</td>\n    </tr>\n    <tr>\n      <th>3</th>\n      <td>8533875</td>\n      <td>https://app.ether.fi/blocked</td>\n      <td>added on Apr 12th 2024 3:27 PM by Felix0101 IN...</td>\n    </tr>\n    <tr>\n      <th>4</th>\n      <td>8530207</td>\n      <td>https://fonts.googleapis.com/css2?family=Open+...</td>\n      <td>added on Apr 10th 2024 8:25 AM by tchatzi INVA...</td>\n    </tr>\n    <tr>\n      <th>5</th>\n      <td>8529188</td>\n      <td>https://urlscan.io/result/31a21a49-f77d-406d-a...</td>\n      <td>added on Apr 9th 2024 8:09 PM by lhernandez IN...</td>\n    </tr>\n    <tr>\n      <th>6</th>\n      <td>8518134</td>\n      <td>https://buff.163.com/news/?news_game=dota2&amp;sou...</td>\n      <td>added on Apr 3rd 2024 2:40 AM by Felix0101 INV...</td>\n    </tr>\n    <tr>\n      <th>7</th>\n      <td>8511079</td>\n      <td>https://login.microsoftonline.com/638fcbaf-ba4...</td>\n      <td>added on Mar 30th 2024 7:03 PM by cleanmx INVA...</td>\n    </tr>\n    <tr>\n      <th>8</th>\n      <td>8511077</td>\n      <td>https://login.microsoftonline.com/638fcbaf-ba4...</td>\n      <td>added on Mar 30th 2024 7:03 PM by cleanmx INVA...</td>\n    </tr>\n    <tr>\n      <th>9</th>\n      <td>8511075</td>\n      <td>https://login.microsoftonline.com/638fcbaf-ba4...</td>\n      <td>added on Mar 30th 2024 7:03 PM by cleanmx INVA...</td>\n    </tr>\n  </tbody>\n</table>\n</div>"
     },
     "execution_count": 290,
     "metadata": {},
     "output_type": "execute_result"
    }
   ],
   "source": [
    "non_phish_data_from_phishtank_scraped.head(10)"
   ],
   "metadata": {
    "collapsed": false,
    "ExecuteTime": {
     "end_time": "2024-04-26T20:47:07.970031900Z",
     "start_time": "2024-04-26T20:47:07.958218700Z"
    }
   },
   "id": "44f874e74f78d4c8",
   "execution_count": 290
  },
  {
   "cell_type": "code",
   "outputs": [
    {
     "data": {
      "text/plain": "                                                 url        type\n0                                   br-icloud.com.br    phishing\n1                mp3raid.com/music/krizz_kaliko.html      benign\n2                    bopsecrets.org/rexroth/cr/1.htm      benign\n3  http://www.garage-pirenne.be/index.php?option=...  defacement\n4  http://adventure-nicaragua.net/index.php?optio...  defacement\n5  http://buzzfil.net/m/show-art/ils-etaient-loin...      benign\n6      espn.go.com/nba/player/_/id/3457/brandon-rush      benign\n7     yourbittorrent.com/?q=anthony-hamilton-soulife      benign\n8       http://www.pashminaonline.com/pure-pashminas  defacement\n9      allmusic.com/album/crazy-from-the-heat-r16990      benign",
      "text/html": "<div>\n<style scoped>\n    .dataframe tbody tr th:only-of-type {\n        vertical-align: middle;\n    }\n\n    .dataframe tbody tr th {\n        vertical-align: top;\n    }\n\n    .dataframe thead th {\n        text-align: right;\n    }\n</style>\n<table border=\"1\" class=\"dataframe\">\n  <thead>\n    <tr style=\"text-align: right;\">\n      <th></th>\n      <th>url</th>\n      <th>type</th>\n    </tr>\n  </thead>\n  <tbody>\n    <tr>\n      <th>0</th>\n      <td>br-icloud.com.br</td>\n      <td>phishing</td>\n    </tr>\n    <tr>\n      <th>1</th>\n      <td>mp3raid.com/music/krizz_kaliko.html</td>\n      <td>benign</td>\n    </tr>\n    <tr>\n      <th>2</th>\n      <td>bopsecrets.org/rexroth/cr/1.htm</td>\n      <td>benign</td>\n    </tr>\n    <tr>\n      <th>3</th>\n      <td>http://www.garage-pirenne.be/index.php?option=...</td>\n      <td>defacement</td>\n    </tr>\n    <tr>\n      <th>4</th>\n      <td>http://adventure-nicaragua.net/index.php?optio...</td>\n      <td>defacement</td>\n    </tr>\n    <tr>\n      <th>5</th>\n      <td>http://buzzfil.net/m/show-art/ils-etaient-loin...</td>\n      <td>benign</td>\n    </tr>\n    <tr>\n      <th>6</th>\n      <td>espn.go.com/nba/player/_/id/3457/brandon-rush</td>\n      <td>benign</td>\n    </tr>\n    <tr>\n      <th>7</th>\n      <td>yourbittorrent.com/?q=anthony-hamilton-soulife</td>\n      <td>benign</td>\n    </tr>\n    <tr>\n      <th>8</th>\n      <td>http://www.pashminaonline.com/pure-pashminas</td>\n      <td>defacement</td>\n    </tr>\n    <tr>\n      <th>9</th>\n      <td>allmusic.com/album/crazy-from-the-heat-r16990</td>\n      <td>benign</td>\n    </tr>\n  </tbody>\n</table>\n</div>"
     },
     "execution_count": 291,
     "metadata": {},
     "output_type": "execute_result"
    }
   ],
   "source": [
    "data_from_kaggle.head(10)"
   ],
   "metadata": {
    "collapsed": false,
    "ExecuteTime": {
     "end_time": "2024-04-26T20:47:07.998971Z",
     "start_time": "2024-04-26T20:47:07.965976200Z"
    }
   },
   "id": "ad0abe0f2481d4ca",
   "execution_count": 291
  },
  {
   "cell_type": "markdown",
   "source": [
    "##### Length of these datasets:"
   ],
   "metadata": {
    "collapsed": false
   },
   "id": "77dd03e9f7a1bb3e"
  },
  {
   "cell_type": "code",
   "outputs": [
    {
     "data": {
      "text/plain": "60804"
     },
     "execution_count": 292,
     "metadata": {},
     "output_type": "execute_result"
    }
   ],
   "source": [
    "len(phish_data_from_phishtank)"
   ],
   "metadata": {
    "collapsed": false,
    "ExecuteTime": {
     "end_time": "2024-04-26T20:47:08.160994300Z",
     "start_time": "2024-04-26T20:47:08.101385200Z"
    }
   },
   "id": "d28a448c1cb8975e",
   "execution_count": 292
  },
  {
   "cell_type": "code",
   "outputs": [
    {
     "data": {
      "text/plain": "127320"
     },
     "execution_count": 293,
     "metadata": {},
     "output_type": "execute_result"
    }
   ],
   "source": [
    "len(non_phish_data_from_phishtank_scraped)"
   ],
   "metadata": {
    "collapsed": false,
    "ExecuteTime": {
     "end_time": "2024-04-26T20:47:08.369509200Z",
     "start_time": "2024-04-26T20:47:08.299263900Z"
    }
   },
   "id": "5005e33a405a4046",
   "execution_count": 293
  },
  {
   "cell_type": "code",
   "outputs": [
    {
     "data": {
      "text/plain": "651191"
     },
     "execution_count": 294,
     "metadata": {},
     "output_type": "execute_result"
    }
   ],
   "source": [
    "len(data_from_kaggle)"
   ],
   "metadata": {
    "collapsed": false,
    "ExecuteTime": {
     "end_time": "2024-04-26T20:47:08.506744500Z",
     "start_time": "2024-04-26T20:47:08.495168600Z"
    }
   },
   "id": "f701bf7866ca1068",
   "execution_count": 294
  },
  {
   "cell_type": "code",
   "outputs": [
    {
     "data": {
      "text/plain": "(60804, 8)"
     },
     "execution_count": 295,
     "metadata": {},
     "output_type": "execute_result"
    }
   ],
   "source": [
    "phish_data_from_phishtank.shape"
   ],
   "metadata": {
    "collapsed": false,
    "ExecuteTime": {
     "end_time": "2024-04-26T20:47:08.678350200Z",
     "start_time": "2024-04-26T20:47:08.649381Z"
    }
   },
   "id": "c52e2a1459b1fdf9",
   "execution_count": 295
  },
  {
   "cell_type": "code",
   "outputs": [
    {
     "data": {
      "text/plain": "(127320, 3)"
     },
     "execution_count": 296,
     "metadata": {},
     "output_type": "execute_result"
    }
   ],
   "source": [
    "non_phish_data_from_phishtank_scraped.shape"
   ],
   "metadata": {
    "collapsed": false,
    "ExecuteTime": {
     "end_time": "2024-04-26T20:47:08.818585200Z",
     "start_time": "2024-04-26T20:47:08.809181900Z"
    }
   },
   "id": "3fee88aec0f0b149",
   "execution_count": 296
  },
  {
   "cell_type": "code",
   "outputs": [
    {
     "data": {
      "text/plain": "(651191, 2)"
     },
     "execution_count": 297,
     "metadata": {},
     "output_type": "execute_result"
    }
   ],
   "source": [
    "data_from_kaggle.shape"
   ],
   "metadata": {
    "collapsed": false,
    "ExecuteTime": {
     "end_time": "2024-04-26T20:47:09.026036200Z",
     "start_time": "2024-04-26T20:47:09.012678700Z"
    }
   },
   "id": "caabfc2793989a60",
   "execution_count": 297
  },
  {
   "cell_type": "markdown",
   "source": [
    "### 4. Prepare data to save in new files"
   ],
   "metadata": {
    "collapsed": false
   },
   "id": "3ed0e8f4de3c8d89"
  },
  {
   "cell_type": "markdown",
   "source": [
    "#### 4.1 Preprocessing phish urls from phishtank\n",
    "##### In this part the index is being reset urls are saved to new DataFrame."
   ],
   "metadata": {
    "collapsed": false
   },
   "id": "563c8f20f5bfc911"
  },
  {
   "cell_type": "code",
   "outputs": [
    {
     "data": {
      "text/plain": "   phish_id                                           url  \\\n0   8546313              https://ollx.1792836.xyz/captcha   \n1   8546314                https://ufakick456.com/captcha   \n2   8546312             https://keyeseuropean.com/captcha   \n3   8546311  https://allegr0lokalnie.83473636.xyz/captcha   \n4   8546309                http://ufakick456.com/fb7pl5qw   \n\n                                    phish_detail_url  \\\n0  http://www.phishtank.com/phish_detail.php?phis...   \n1  http://www.phishtank.com/phish_detail.php?phis...   \n2  http://www.phishtank.com/phish_detail.php?phis...   \n3  http://www.phishtank.com/phish_detail.php?phis...   \n4  http://www.phishtank.com/phish_detail.php?phis...   \n\n             submission_time verified          verification_time online target  \n0  2024-04-22T10:55:17+00:00      yes  2024-04-22T11:04:04+00:00    yes  Other  \n1  2024-04-22T10:55:17+00:00      yes  2024-04-22T11:04:04+00:00    yes  Other  \n2  2024-04-22T10:55:16+00:00      yes  2024-04-22T11:04:04+00:00    yes  Other  \n3  2024-04-22T10:55:14+00:00      yes  2024-04-22T11:04:04+00:00    yes  Other  \n4  2024-04-22T10:55:13+00:00      yes  2024-04-22T11:04:04+00:00    yes  Other  ",
      "text/html": "<div>\n<style scoped>\n    .dataframe tbody tr th:only-of-type {\n        vertical-align: middle;\n    }\n\n    .dataframe tbody tr th {\n        vertical-align: top;\n    }\n\n    .dataframe thead th {\n        text-align: right;\n    }\n</style>\n<table border=\"1\" class=\"dataframe\">\n  <thead>\n    <tr style=\"text-align: right;\">\n      <th></th>\n      <th>phish_id</th>\n      <th>url</th>\n      <th>phish_detail_url</th>\n      <th>submission_time</th>\n      <th>verified</th>\n      <th>verification_time</th>\n      <th>online</th>\n      <th>target</th>\n    </tr>\n  </thead>\n  <tbody>\n    <tr>\n      <th>0</th>\n      <td>8546313</td>\n      <td>https://ollx.1792836.xyz/captcha</td>\n      <td>http://www.phishtank.com/phish_detail.php?phis...</td>\n      <td>2024-04-22T10:55:17+00:00</td>\n      <td>yes</td>\n      <td>2024-04-22T11:04:04+00:00</td>\n      <td>yes</td>\n      <td>Other</td>\n    </tr>\n    <tr>\n      <th>1</th>\n      <td>8546314</td>\n      <td>https://ufakick456.com/captcha</td>\n      <td>http://www.phishtank.com/phish_detail.php?phis...</td>\n      <td>2024-04-22T10:55:17+00:00</td>\n      <td>yes</td>\n      <td>2024-04-22T11:04:04+00:00</td>\n      <td>yes</td>\n      <td>Other</td>\n    </tr>\n    <tr>\n      <th>2</th>\n      <td>8546312</td>\n      <td>https://keyeseuropean.com/captcha</td>\n      <td>http://www.phishtank.com/phish_detail.php?phis...</td>\n      <td>2024-04-22T10:55:16+00:00</td>\n      <td>yes</td>\n      <td>2024-04-22T11:04:04+00:00</td>\n      <td>yes</td>\n      <td>Other</td>\n    </tr>\n    <tr>\n      <th>3</th>\n      <td>8546311</td>\n      <td>https://allegr0lokalnie.83473636.xyz/captcha</td>\n      <td>http://www.phishtank.com/phish_detail.php?phis...</td>\n      <td>2024-04-22T10:55:14+00:00</td>\n      <td>yes</td>\n      <td>2024-04-22T11:04:04+00:00</td>\n      <td>yes</td>\n      <td>Other</td>\n    </tr>\n    <tr>\n      <th>4</th>\n      <td>8546309</td>\n      <td>http://ufakick456.com/fb7pl5qw</td>\n      <td>http://www.phishtank.com/phish_detail.php?phis...</td>\n      <td>2024-04-22T10:55:13+00:00</td>\n      <td>yes</td>\n      <td>2024-04-22T11:04:04+00:00</td>\n      <td>yes</td>\n      <td>Other</td>\n    </tr>\n  </tbody>\n</table>\n</div>"
     },
     "execution_count": 298,
     "metadata": {},
     "output_type": "execute_result"
    }
   ],
   "source": [
    "phish_data_from_phishtank.head()"
   ],
   "metadata": {
    "collapsed": false,
    "ExecuteTime": {
     "end_time": "2024-04-26T20:47:10.028491600Z",
     "start_time": "2024-04-26T20:47:10.016484700Z"
    }
   },
   "id": "8708223e03d009bf",
   "execution_count": 298
  },
  {
   "cell_type": "code",
   "outputs": [
    {
     "data": {
      "text/plain": "0                         https://ollx.1792836.xyz/captcha\n1                           https://ufakick456.com/captcha\n2                        https://keyeseuropean.com/captcha\n3             https://allegr0lokalnie.83473636.xyz/captcha\n4                           http://ufakick456.com/fb7pl5qw\n                               ...                        \n60799     http://www.ezblox.site/free/jennifer111/helpdesk\n60800    http://www.formbuddy.com/cgi-bin/formdisp.pl?u...\n60801    http://www.formbuddy.com/cgi-bin/formdisp.pl?u...\n60802         http://www.habbocreditosparati.blogspot.com/\n60803    http://creditiperhabbogratissicuro100.blogspot...\nName: url, Length: 60804, dtype: object"
     },
     "execution_count": 299,
     "metadata": {},
     "output_type": "execute_result"
    }
   ],
   "source": [
    "phish_data_df1 = phish_data_from_phishtank['url']\n",
    "phish_data_df1"
   ],
   "metadata": {
    "collapsed": false,
    "ExecuteTime": {
     "end_time": "2024-04-26T20:47:10.247503900Z",
     "start_time": "2024-04-26T20:47:10.212000300Z"
    }
   },
   "id": "85e559d99aa5cff6",
   "execution_count": 299
  },
  {
   "cell_type": "markdown",
   "source": [
    "#### 4.2 Preprocessing non phish urls from phishtank (scraped)\n",
    "##### In this part the index is being reset urls are saved to new DataFrame. Data is saved to two DataFrames. Df2 contains urls with deleted dots '...' occurring on the end of url (not all url scraped). Df3 contains urls without this urls (they are dropped)."
   ],
   "metadata": {
    "collapsed": false
   },
   "id": "f8a09e24cf1f08f4"
  },
  {
   "cell_type": "markdown",
   "source": [
    "##### Shortening data to not to old (oldest November 2015)"
   ],
   "metadata": {
    "collapsed": false
   },
   "id": "52dfb863ee6f7cac"
  },
  {
   "cell_type": "code",
   "outputs": [],
   "source": [
    "non_phish_data_from_phishtank_scraped = non_phish_data_from_phishtank_scraped[:(len(non_phish_data_from_phishtank_scraped)//4)]"
   ],
   "metadata": {
    "collapsed": false,
    "ExecuteTime": {
     "end_time": "2024-04-26T20:47:11.051477500Z",
     "start_time": "2024-04-26T20:47:11.038004500Z"
    }
   },
   "id": "d0d8d684df763a00",
   "execution_count": 300
  },
  {
   "cell_type": "markdown",
   "source": [
    "#### Dropping dots: "
   ],
   "metadata": {
    "collapsed": false
   },
   "id": "ed5abd91be192e74"
  },
  {
   "cell_type": "code",
   "execution_count": 301,
   "outputs": [
    {
     "data": {
      "text/plain": "0    http://login.live.com.office.autooffc29536.eup...\n1                         https://releases.jquery.com/\n2                             https://code.jquery.com/\n3                         https://app.ether.fi/blocked\n4    https://fonts.googleapis.com/css2?family=Open+...\nName: PHISH_URL, dtype: object"
     },
     "execution_count": 301,
     "metadata": {},
     "output_type": "execute_result"
    }
   ],
   "source": [
    "non_phish_data_df2 = non_phish_data_from_phishtank_scraped['PHISH_URL'].apply(lambda x: x[:-3] if x.endswith('...') else x).reset_index(drop=True)\n",
    "non_phish_data_df2.head()"
   ],
   "metadata": {
    "collapsed": false,
    "ExecuteTime": {
     "end_time": "2024-04-26T20:47:11.851309Z",
     "start_time": "2024-04-26T20:47:11.792470900Z"
    }
   },
   "id": "a7db50c5bc43bfe7"
  },
  {
   "cell_type": "markdown",
   "source": [
    "#### Deleting urls with dots"
   ],
   "metadata": {
    "collapsed": false
   },
   "id": "e61f136ec7b891c3"
  },
  {
   "cell_type": "code",
   "execution_count": 302,
   "outputs": [
    {
     "data": {
      "text/plain": "0                https://releases.jquery.com/\n1                    https://code.jquery.com/\n2                https://app.ether.fi/blocked\n3    https://efty.com/d/2zfr2/NeonClaims.com/\n4           https://www.yahoo.com/?&sid=74508\nName: PHISH_URL, dtype: object"
     },
     "execution_count": 302,
     "metadata": {},
     "output_type": "execute_result"
    }
   ],
   "source": [
    "full_url_filter = ~non_phish_data_from_phishtank_scraped['PHISH_URL'].str.endswith('...')\n",
    "non_phish_data_df3 = non_phish_data_from_phishtank_scraped['PHISH_URL'].where(full_url_filter).dropna().reset_index(drop=True)\n",
    "non_phish_data_df3.head()"
   ],
   "metadata": {
    "collapsed": false,
    "ExecuteTime": {
     "end_time": "2024-04-26T20:47:29.153348600Z",
     "start_time": "2024-04-26T20:47:29.130939700Z"
    }
   },
   "id": "508f7459e119e2e4"
  },
  {
   "cell_type": "markdown",
   "source": [
    "#### 4.3 Preprocessing urls from kaggle\n",
    "##### In this part the index is being reset urls are saved to new DataFrame, adding missing scheme and filtering the only benign data.\n"
   ],
   "metadata": {
    "collapsed": false
   },
   "id": "1d77fb2241d9262c"
  },
  {
   "cell_type": "code",
   "execution_count": 303,
   "outputs": [
    {
     "data": {
      "text/plain": "                                                 url        type\n0                                   br-icloud.com.br    phishing\n1                mp3raid.com/music/krizz_kaliko.html      benign\n2                    bopsecrets.org/rexroth/cr/1.htm      benign\n3  http://www.garage-pirenne.be/index.php?option=...  defacement\n4  http://adventure-nicaragua.net/index.php?optio...  defacement",
      "text/html": "<div>\n<style scoped>\n    .dataframe tbody tr th:only-of-type {\n        vertical-align: middle;\n    }\n\n    .dataframe tbody tr th {\n        vertical-align: top;\n    }\n\n    .dataframe thead th {\n        text-align: right;\n    }\n</style>\n<table border=\"1\" class=\"dataframe\">\n  <thead>\n    <tr style=\"text-align: right;\">\n      <th></th>\n      <th>url</th>\n      <th>type</th>\n    </tr>\n  </thead>\n  <tbody>\n    <tr>\n      <th>0</th>\n      <td>br-icloud.com.br</td>\n      <td>phishing</td>\n    </tr>\n    <tr>\n      <th>1</th>\n      <td>mp3raid.com/music/krizz_kaliko.html</td>\n      <td>benign</td>\n    </tr>\n    <tr>\n      <th>2</th>\n      <td>bopsecrets.org/rexroth/cr/1.htm</td>\n      <td>benign</td>\n    </tr>\n    <tr>\n      <th>3</th>\n      <td>http://www.garage-pirenne.be/index.php?option=...</td>\n      <td>defacement</td>\n    </tr>\n    <tr>\n      <th>4</th>\n      <td>http://adventure-nicaragua.net/index.php?optio...</td>\n      <td>defacement</td>\n    </tr>\n  </tbody>\n</table>\n</div>"
     },
     "execution_count": 303,
     "metadata": {},
     "output_type": "execute_result"
    }
   ],
   "source": [
    "data_from_kaggle.head()"
   ],
   "metadata": {
    "collapsed": false,
    "ExecuteTime": {
     "end_time": "2024-04-26T20:47:30.976857300Z",
     "start_time": "2024-04-26T20:47:30.962360900Z"
    }
   },
   "id": "6cb810b50b52763e"
  },
  {
   "cell_type": "code",
   "execution_count": 304,
   "outputs": [
    {
     "data": {
      "text/plain": "                                                      url    type\n0                     mp3raid.com/music/krizz_kaliko.html  benign\n1                         bopsecrets.org/rexroth/cr/1.htm  benign\n2       http://buzzfil.net/m/show-art/ils-etaient-loin...  benign\n3           espn.go.com/nba/player/_/id/3457/brandon-rush  benign\n4          yourbittorrent.com/?q=anthony-hamilton-soulife  benign\n...                                                   ...     ...\n428098                                  imetrica.net/css/  benign\n428099          www.idxband.com/telin/images/e-online.php  benign\n428100  www.coffeewithsophieinc.com/media/system/js/ca...  benign\n428101                         conseguircreditos.webs.tl/  benign\n428102  www.vbacreation.fr/includes/Archive/Connect/Si...  benign\n\n[428103 rows x 2 columns]",
      "text/html": "<div>\n<style scoped>\n    .dataframe tbody tr th:only-of-type {\n        vertical-align: middle;\n    }\n\n    .dataframe tbody tr th {\n        vertical-align: top;\n    }\n\n    .dataframe thead th {\n        text-align: right;\n    }\n</style>\n<table border=\"1\" class=\"dataframe\">\n  <thead>\n    <tr style=\"text-align: right;\">\n      <th></th>\n      <th>url</th>\n      <th>type</th>\n    </tr>\n  </thead>\n  <tbody>\n    <tr>\n      <th>0</th>\n      <td>mp3raid.com/music/krizz_kaliko.html</td>\n      <td>benign</td>\n    </tr>\n    <tr>\n      <th>1</th>\n      <td>bopsecrets.org/rexroth/cr/1.htm</td>\n      <td>benign</td>\n    </tr>\n    <tr>\n      <th>2</th>\n      <td>http://buzzfil.net/m/show-art/ils-etaient-loin...</td>\n      <td>benign</td>\n    </tr>\n    <tr>\n      <th>3</th>\n      <td>espn.go.com/nba/player/_/id/3457/brandon-rush</td>\n      <td>benign</td>\n    </tr>\n    <tr>\n      <th>4</th>\n      <td>yourbittorrent.com/?q=anthony-hamilton-soulife</td>\n      <td>benign</td>\n    </tr>\n    <tr>\n      <th>...</th>\n      <td>...</td>\n      <td>...</td>\n    </tr>\n    <tr>\n      <th>428098</th>\n      <td>imetrica.net/css/</td>\n      <td>benign</td>\n    </tr>\n    <tr>\n      <th>428099</th>\n      <td>www.idxband.com/telin/images/e-online.php</td>\n      <td>benign</td>\n    </tr>\n    <tr>\n      <th>428100</th>\n      <td>www.coffeewithsophieinc.com/media/system/js/ca...</td>\n      <td>benign</td>\n    </tr>\n    <tr>\n      <th>428101</th>\n      <td>conseguircreditos.webs.tl/</td>\n      <td>benign</td>\n    </tr>\n    <tr>\n      <th>428102</th>\n      <td>www.vbacreation.fr/includes/Archive/Connect/Si...</td>\n      <td>benign</td>\n    </tr>\n  </tbody>\n</table>\n<p>428103 rows × 2 columns</p>\n</div>"
     },
     "execution_count": 304,
     "metadata": {},
     "output_type": "execute_result"
    }
   ],
   "source": [
    "filter_benign_data = data_from_kaggle['type'] == 'benign'\n",
    "benign_data = data_from_kaggle.where(filter_benign_data).dropna().reset_index(drop=True)\n",
    "benign_data"
   ],
   "metadata": {
    "collapsed": false,
    "ExecuteTime": {
     "end_time": "2024-04-26T20:47:31.951964Z",
     "start_time": "2024-04-26T20:47:31.834266700Z"
    }
   },
   "id": "74509f5ea1dcbe6b"
  },
  {
   "cell_type": "markdown",
   "source": [
    "##### Adding missing https scheme:"
   ],
   "metadata": {
    "collapsed": false
   },
   "id": "78a2dff0f1c2be99"
  },
  {
   "cell_type": "code",
   "execution_count": 305,
   "outputs": [],
   "source": [
    "benign_data_from_kaggle_df4 = benign_data['url'].apply(lambda x: 'https://' + x if not x.startswith('https://') else x)"
   ],
   "metadata": {
    "collapsed": false,
    "ExecuteTime": {
     "end_time": "2024-04-26T20:47:35.923618400Z",
     "start_time": "2024-04-26T20:47:35.807536100Z"
    }
   },
   "id": "7f3135e07c384f12"
  },
  {
   "cell_type": "code",
   "execution_count": 306,
   "outputs": [
    {
     "data": {
      "text/plain": "0          https://mp3raid.com/music/krizz_kaliko.html\n1              https://bopsecrets.org/rexroth/cr/1.htm\n2    https://http://buzzfil.net/m/show-art/ils-etai...\n3    https://espn.go.com/nba/player/_/id/3457/brand...\n4    https://yourbittorrent.com/?q=anthony-hamilton...\nName: url, dtype: object"
     },
     "execution_count": 306,
     "metadata": {},
     "output_type": "execute_result"
    }
   ],
   "source": [
    "benign_data_from_kaggle_df4.head()"
   ],
   "metadata": {
    "collapsed": false,
    "ExecuteTime": {
     "end_time": "2024-04-26T20:47:36.215127200Z",
     "start_time": "2024-04-26T20:47:36.194545100Z"
    }
   },
   "id": "712160d41f15941b"
  },
  {
   "cell_type": "markdown",
   "source": [
    "### 5. Save data to files"
   ],
   "metadata": {
    "collapsed": false
   },
   "id": "7bd2ceee262d54aa"
  },
  {
   "cell_type": "code",
   "outputs": [
    {
     "data": {
      "text/plain": "                                      PHISH_URL\n0              https://ollx.1792836.xyz/captcha\n1                https://ufakick456.com/captcha\n2             https://keyeseuropean.com/captcha\n3  https://allegr0lokalnie.83473636.xyz/captcha\n4                http://ufakick456.com/fb7pl5qw",
      "text/html": "<div>\n<style scoped>\n    .dataframe tbody tr th:only-of-type {\n        vertical-align: middle;\n    }\n\n    .dataframe tbody tr th {\n        vertical-align: top;\n    }\n\n    .dataframe thead th {\n        text-align: right;\n    }\n</style>\n<table border=\"1\" class=\"dataframe\">\n  <thead>\n    <tr style=\"text-align: right;\">\n      <th></th>\n      <th>PHISH_URL</th>\n    </tr>\n  </thead>\n  <tbody>\n    <tr>\n      <th>0</th>\n      <td>https://ollx.1792836.xyz/captcha</td>\n    </tr>\n    <tr>\n      <th>1</th>\n      <td>https://ufakick456.com/captcha</td>\n    </tr>\n    <tr>\n      <th>2</th>\n      <td>https://keyeseuropean.com/captcha</td>\n    </tr>\n    <tr>\n      <th>3</th>\n      <td>https://allegr0lokalnie.83473636.xyz/captcha</td>\n    </tr>\n    <tr>\n      <th>4</th>\n      <td>http://ufakick456.com/fb7pl5qw</td>\n    </tr>\n  </tbody>\n</table>\n</div>"
     },
     "execution_count": 307,
     "metadata": {},
     "output_type": "execute_result"
    }
   ],
   "source": [
    "phish_data_df1 = pd.DataFrame(phish_data_df1)\n",
    "phish_data_df1.rename({'': 'ID', 'url': 'PHISH_URL'}, axis=1, inplace=True)\n",
    "phish_data_df1.head()"
   ],
   "metadata": {
    "collapsed": false,
    "ExecuteTime": {
     "end_time": "2024-04-26T20:47:36.786189400Z",
     "start_time": "2024-04-26T20:47:36.774086300Z"
    }
   },
   "id": "201613da4c869220",
   "execution_count": 307
  },
  {
   "cell_type": "code",
   "outputs": [
    {
     "data": {
      "text/plain": "                                       NON_PHISH_URL\n0  http://login.live.com.office.autooffc29536.eup...\n1                       https://releases.jquery.com/\n2                           https://code.jquery.com/\n3                       https://app.ether.fi/blocked\n4  https://fonts.googleapis.com/css2?family=Open+...",
      "text/html": "<div>\n<style scoped>\n    .dataframe tbody tr th:only-of-type {\n        vertical-align: middle;\n    }\n\n    .dataframe tbody tr th {\n        vertical-align: top;\n    }\n\n    .dataframe thead th {\n        text-align: right;\n    }\n</style>\n<table border=\"1\" class=\"dataframe\">\n  <thead>\n    <tr style=\"text-align: right;\">\n      <th></th>\n      <th>NON_PHISH_URL</th>\n    </tr>\n  </thead>\n  <tbody>\n    <tr>\n      <th>0</th>\n      <td>http://login.live.com.office.autooffc29536.eup...</td>\n    </tr>\n    <tr>\n      <th>1</th>\n      <td>https://releases.jquery.com/</td>\n    </tr>\n    <tr>\n      <th>2</th>\n      <td>https://code.jquery.com/</td>\n    </tr>\n    <tr>\n      <th>3</th>\n      <td>https://app.ether.fi/blocked</td>\n    </tr>\n    <tr>\n      <th>4</th>\n      <td>https://fonts.googleapis.com/css2?family=Open+...</td>\n    </tr>\n  </tbody>\n</table>\n</div>"
     },
     "execution_count": 309,
     "metadata": {},
     "output_type": "execute_result"
    }
   ],
   "source": [
    "non_phish_data_df2 = pd.DataFrame(non_phish_data_df2)\n",
    "non_phish_data_df2.rename({'': 'ID', 'PHISH_URL': 'NON_PHISH_URL'}, axis=1, inplace=True)\n",
    "non_phish_data_df2.head()"
   ],
   "metadata": {
    "collapsed": false,
    "ExecuteTime": {
     "end_time": "2024-04-26T20:48:04.433511Z",
     "start_time": "2024-04-26T20:48:04.414415600Z"
    }
   },
   "id": "de1a9a7814e7e06c",
   "execution_count": 309
  },
  {
   "cell_type": "code",
   "outputs": [
    {
     "data": {
      "text/plain": "                              NON_PHISH_URL\n0              https://releases.jquery.com/\n1                  https://code.jquery.com/\n2              https://app.ether.fi/blocked\n3  https://efty.com/d/2zfr2/NeonClaims.com/\n4         https://www.yahoo.com/?&sid=74508",
      "text/html": "<div>\n<style scoped>\n    .dataframe tbody tr th:only-of-type {\n        vertical-align: middle;\n    }\n\n    .dataframe tbody tr th {\n        vertical-align: top;\n    }\n\n    .dataframe thead th {\n        text-align: right;\n    }\n</style>\n<table border=\"1\" class=\"dataframe\">\n  <thead>\n    <tr style=\"text-align: right;\">\n      <th></th>\n      <th>NON_PHISH_URL</th>\n    </tr>\n  </thead>\n  <tbody>\n    <tr>\n      <th>0</th>\n      <td>https://releases.jquery.com/</td>\n    </tr>\n    <tr>\n      <th>1</th>\n      <td>https://code.jquery.com/</td>\n    </tr>\n    <tr>\n      <th>2</th>\n      <td>https://app.ether.fi/blocked</td>\n    </tr>\n    <tr>\n      <th>3</th>\n      <td>https://efty.com/d/2zfr2/NeonClaims.com/</td>\n    </tr>\n    <tr>\n      <th>4</th>\n      <td>https://www.yahoo.com/?&amp;sid=74508</td>\n    </tr>\n  </tbody>\n</table>\n</div>"
     },
     "execution_count": 310,
     "metadata": {},
     "output_type": "execute_result"
    }
   ],
   "source": [
    "non_phish_data_df3 = pd.DataFrame(non_phish_data_df3)\n",
    "non_phish_data_df3.rename({'': 'ID', 'PHISH_URL': 'NON_PHISH_URL'}, axis=1, inplace=True)\n",
    "non_phish_data_df3.head()"
   ],
   "metadata": {
    "collapsed": false,
    "ExecuteTime": {
     "end_time": "2024-04-26T20:48:14.588297100Z",
     "start_time": "2024-04-26T20:48:14.570353100Z"
    }
   },
   "id": "dd0517ddccd791e8",
   "execution_count": 310
  },
  {
   "cell_type": "code",
   "outputs": [
    {
     "data": {
      "text/plain": "                                       NON_PHISH_URL\n0        https://mp3raid.com/music/krizz_kaliko.html\n1            https://bopsecrets.org/rexroth/cr/1.htm\n2  https://http://buzzfil.net/m/show-art/ils-etai...\n3  https://espn.go.com/nba/player/_/id/3457/brand...\n4  https://yourbittorrent.com/?q=anthony-hamilton...",
      "text/html": "<div>\n<style scoped>\n    .dataframe tbody tr th:only-of-type {\n        vertical-align: middle;\n    }\n\n    .dataframe tbody tr th {\n        vertical-align: top;\n    }\n\n    .dataframe thead th {\n        text-align: right;\n    }\n</style>\n<table border=\"1\" class=\"dataframe\">\n  <thead>\n    <tr style=\"text-align: right;\">\n      <th></th>\n      <th>NON_PHISH_URL</th>\n    </tr>\n  </thead>\n  <tbody>\n    <tr>\n      <th>0</th>\n      <td>https://mp3raid.com/music/krizz_kaliko.html</td>\n    </tr>\n    <tr>\n      <th>1</th>\n      <td>https://bopsecrets.org/rexroth/cr/1.htm</td>\n    </tr>\n    <tr>\n      <th>2</th>\n      <td>https://http://buzzfil.net/m/show-art/ils-etai...</td>\n    </tr>\n    <tr>\n      <th>3</th>\n      <td>https://espn.go.com/nba/player/_/id/3457/brand...</td>\n    </tr>\n    <tr>\n      <th>4</th>\n      <td>https://yourbittorrent.com/?q=anthony-hamilton...</td>\n    </tr>\n  </tbody>\n</table>\n</div>"
     },
     "execution_count": 311,
     "metadata": {},
     "output_type": "execute_result"
    }
   ],
   "source": [
    "benign_data_from_kaggle_df4 = pd.DataFrame(benign_data_from_kaggle_df4)\n",
    "benign_data_from_kaggle_df4.rename({'': 'ID', 'url': 'NON_PHISH_URL'}, axis=1, inplace=True)\n",
    "benign_data_from_kaggle_df4.head()"
   ],
   "metadata": {
    "collapsed": false,
    "ExecuteTime": {
     "end_time": "2024-04-26T20:48:22.756648600Z",
     "start_time": "2024-04-26T20:48:22.715392600Z"
    }
   },
   "id": "28e241e098626a14",
   "execution_count": 311
  },
  {
   "cell_type": "code",
   "outputs": [
    {
     "data": {
      "text/plain": "                                       NON_PHISH_URL\n0  http://login.live.com.office.autooffc29536.eup...\n1                       https://releases.jquery.com/\n2                           https://code.jquery.com/\n3                       https://app.ether.fi/blocked\n4  https://fonts.googleapis.com/css2?family=Open+...",
      "text/html": "<div>\n<style scoped>\n    .dataframe tbody tr th:only-of-type {\n        vertical-align: middle;\n    }\n\n    .dataframe tbody tr th {\n        vertical-align: top;\n    }\n\n    .dataframe thead th {\n        text-align: right;\n    }\n</style>\n<table border=\"1\" class=\"dataframe\">\n  <thead>\n    <tr style=\"text-align: right;\">\n      <th></th>\n      <th>NON_PHISH_URL</th>\n    </tr>\n  </thead>\n  <tbody>\n    <tr>\n      <th>0</th>\n      <td>http://login.live.com.office.autooffc29536.eup...</td>\n    </tr>\n    <tr>\n      <th>1</th>\n      <td>https://releases.jquery.com/</td>\n    </tr>\n    <tr>\n      <th>2</th>\n      <td>https://code.jquery.com/</td>\n    </tr>\n    <tr>\n      <th>3</th>\n      <td>https://app.ether.fi/blocked</td>\n    </tr>\n    <tr>\n      <th>4</th>\n      <td>https://fonts.googleapis.com/css2?family=Open+...</td>\n    </tr>\n  </tbody>\n</table>\n</div>"
     },
     "execution_count": 312,
     "metadata": {},
     "output_type": "execute_result"
    }
   ],
   "source": [
    "legitimate_concatenated_with_deleted_dots_df5 = pd.concat([non_phish_data_df2, benign_data_from_kaggle_df4])\n",
    "legitimate_concatenated_with_deleted_dots_df5.head()"
   ],
   "metadata": {
    "collapsed": false,
    "ExecuteTime": {
     "end_time": "2024-04-26T20:48:26.353676400Z",
     "start_time": "2024-04-26T20:48:26.339101400Z"
    }
   },
   "id": "7289eb48214344aa",
   "execution_count": 312
  },
  {
   "cell_type": "code",
   "outputs": [
    {
     "data": {
      "text/plain": "                                            NON_PHISH_URL\n0                            https://releases.jquery.com/\n1                                https://code.jquery.com/\n2                            https://app.ether.fi/blocked\n3                https://efty.com/d/2zfr2/NeonClaims.com/\n4                       https://www.yahoo.com/?&sid=74508\n...                                                   ...\n428098                          https://imetrica.net/css/\n428099  https://www.idxband.com/telin/images/e-online.php\n428100  https://www.coffeewithsophieinc.com/media/syst...\n428101                 https://conseguircreditos.webs.tl/\n428102  https://www.vbacreation.fr/includes/Archive/Co...\n\n[443572 rows x 1 columns]",
      "text/html": "<div>\n<style scoped>\n    .dataframe tbody tr th:only-of-type {\n        vertical-align: middle;\n    }\n\n    .dataframe tbody tr th {\n        vertical-align: top;\n    }\n\n    .dataframe thead th {\n        text-align: right;\n    }\n</style>\n<table border=\"1\" class=\"dataframe\">\n  <thead>\n    <tr style=\"text-align: right;\">\n      <th></th>\n      <th>NON_PHISH_URL</th>\n    </tr>\n  </thead>\n  <tbody>\n    <tr>\n      <th>0</th>\n      <td>https://releases.jquery.com/</td>\n    </tr>\n    <tr>\n      <th>1</th>\n      <td>https://code.jquery.com/</td>\n    </tr>\n    <tr>\n      <th>2</th>\n      <td>https://app.ether.fi/blocked</td>\n    </tr>\n    <tr>\n      <th>3</th>\n      <td>https://efty.com/d/2zfr2/NeonClaims.com/</td>\n    </tr>\n    <tr>\n      <th>4</th>\n      <td>https://www.yahoo.com/?&amp;sid=74508</td>\n    </tr>\n    <tr>\n      <th>...</th>\n      <td>...</td>\n    </tr>\n    <tr>\n      <th>428098</th>\n      <td>https://imetrica.net/css/</td>\n    </tr>\n    <tr>\n      <th>428099</th>\n      <td>https://www.idxband.com/telin/images/e-online.php</td>\n    </tr>\n    <tr>\n      <th>428100</th>\n      <td>https://www.coffeewithsophieinc.com/media/syst...</td>\n    </tr>\n    <tr>\n      <th>428101</th>\n      <td>https://conseguircreditos.webs.tl/</td>\n    </tr>\n    <tr>\n      <th>428102</th>\n      <td>https://www.vbacreation.fr/includes/Archive/Co...</td>\n    </tr>\n  </tbody>\n</table>\n<p>443572 rows × 1 columns</p>\n</div>"
     },
     "execution_count": 313,
     "metadata": {},
     "output_type": "execute_result"
    }
   ],
   "source": [
    "legitimate_concatenated_with_doped_urls_with_dots_df6 = pd.concat([non_phish_data_df3, benign_data_from_kaggle_df4])\n",
    "legitimate_concatenated_with_doped_urls_with_dots_df6"
   ],
   "metadata": {
    "collapsed": false,
    "ExecuteTime": {
     "end_time": "2024-04-26T20:48:29.141203600Z",
     "start_time": "2024-04-26T20:48:29.097860100Z"
    }
   },
   "id": "32da7b7bb61c8bad",
   "execution_count": 313
  },
  {
   "cell_type": "markdown",
   "source": [
    "##### Length of concatenated DataFrames:"
   ],
   "metadata": {
    "collapsed": false
   },
   "id": "2e594ce07ab7a228"
  },
  {
   "cell_type": "code",
   "outputs": [
    {
     "data": {
      "text/plain": "(60804, 1)"
     },
     "execution_count": 314,
     "metadata": {},
     "output_type": "execute_result"
    }
   ],
   "source": [
    "phish_data_df1.shape"
   ],
   "metadata": {
    "collapsed": false,
    "ExecuteTime": {
     "end_time": "2024-04-26T20:48:34.858494700Z",
     "start_time": "2024-04-26T20:48:34.850392700Z"
    }
   },
   "id": "364e0a3a18b4ff35",
   "execution_count": 314
  },
  {
   "cell_type": "code",
   "outputs": [
    {
     "data": {
      "text/plain": "(459933, 1)"
     },
     "execution_count": 315,
     "metadata": {},
     "output_type": "execute_result"
    }
   ],
   "source": [
    "legitimate_concatenated_with_deleted_dots_df5.shape"
   ],
   "metadata": {
    "collapsed": false,
    "ExecuteTime": {
     "end_time": "2024-04-26T20:48:35.278606200Z",
     "start_time": "2024-04-26T20:48:35.271976200Z"
    }
   },
   "id": "1bfa50613aa3bc6d",
   "execution_count": 315
  },
  {
   "cell_type": "code",
   "outputs": [
    {
     "data": {
      "text/plain": "(443572, 1)"
     },
     "execution_count": 316,
     "metadata": {},
     "output_type": "execute_result"
    }
   ],
   "source": [
    "legitimate_concatenated_with_doped_urls_with_dots_df6.shape"
   ],
   "metadata": {
    "collapsed": false,
    "ExecuteTime": {
     "end_time": "2024-04-26T20:48:35.839593900Z",
     "start_time": "2024-04-26T20:48:35.823128700Z"
    }
   },
   "id": "b9e80f7dca8abcdc",
   "execution_count": 316
  },
  {
   "cell_type": "markdown",
   "source": [
    "#### Saving into files"
   ],
   "metadata": {
    "collapsed": false
   },
   "id": "58f3cbb025637d04"
  },
  {
   "cell_type": "code",
   "outputs": [],
   "source": [
    "phish_data_df1.to_csv('preprocessed_data/phish_data.csv')"
   ],
   "metadata": {
    "collapsed": false,
    "ExecuteTime": {
     "end_time": "2024-04-26T20:55:32.084673Z",
     "start_time": "2024-04-26T20:55:31.983677800Z"
    }
   },
   "id": "8061b025c056b71",
   "execution_count": 330
  },
  {
   "cell_type": "code",
   "outputs": [],
   "source": [
    "legitimate_concatenated_with_deleted_dots_df5.to_csv('preprocessed_data/non_phish_data_longer.csv')"
   ],
   "metadata": {
    "collapsed": false,
    "ExecuteTime": {
     "end_time": "2024-04-26T20:55:33.904420200Z",
     "start_time": "2024-04-26T20:55:33.095328400Z"
    }
   },
   "id": "cdf52b673883b8fd",
   "execution_count": 331
  },
  {
   "cell_type": "code",
   "outputs": [],
   "source": [
    "legitimate_concatenated_with_doped_urls_with_dots_df6.to_csv('preprocessed_data/non_phish_data_shorter.csv')"
   ],
   "metadata": {
    "collapsed": false,
    "ExecuteTime": {
     "end_time": "2024-04-26T20:55:35.425801600Z",
     "start_time": "2024-04-26T20:55:34.682300100Z"
    }
   },
   "id": "9b207719d10cb44",
   "execution_count": 332
  },
  {
   "cell_type": "markdown",
   "source": [
    "### 6. Data prepared for analysis and ML"
   ],
   "metadata": {
    "collapsed": false
   },
   "id": "43d16d9c6e9b2c9"
  },
  {
   "cell_type": "code",
   "outputs": [],
   "source": [],
   "metadata": {
    "collapsed": false
   },
   "id": "ff238eab2a616754"
  }
 ],
 "metadata": {
  "kernelspec": {
   "display_name": "Python 3",
   "language": "python",
   "name": "python3"
  },
  "language_info": {
   "codemirror_mode": {
    "name": "ipython",
    "version": 2
   },
   "file_extension": ".py",
   "mimetype": "text/x-python",
   "name": "python",
   "nbconvert_exporter": "python",
   "pygments_lexer": "ipython2",
   "version": "2.7.6"
  }
 },
 "nbformat": 4,
 "nbformat_minor": 5
}
