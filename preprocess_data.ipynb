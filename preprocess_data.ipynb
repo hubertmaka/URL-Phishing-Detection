{
 "cells": [
  {
   "cell_type": "markdown",
   "id": "d354e06d4ce741dd",
   "metadata": {
    "collapsed": false
   },
   "source": [
    "# Preprocessing Files "
   ]
  },
  {
   "cell_type": "markdown",
   "id": "3fda358511495a6d",
   "metadata": {
    "collapsed": false
   },
   "source": [
    "## In this file, urls from the collected data are cleaned and structured"
   ]
  },
  {
   "cell_type": "markdown",
   "id": "78327d1874cd1cae",
   "metadata": {
    "collapsed": false
   },
   "source": [
    "### 1. Import libraries"
   ]
  },
  {
   "cell_type": "code",
   "execution_count": 41,
   "id": "51343d58226c8da4",
   "metadata": {
    "collapsed": false,
    "ExecuteTime": {
     "end_time": "2024-04-27T17:15:14.978410700Z",
     "start_time": "2024-04-27T17:15:14.965901100Z"
    }
   },
   "outputs": [],
   "source": [
    "import pandas as pd"
   ]
  },
  {
   "cell_type": "markdown",
   "id": "d0055d190a77eead",
   "metadata": {
    "collapsed": false
   },
   "source": [
    "### 2. Loading collected data from files"
   ]
  },
  {
   "cell_type": "markdown",
   "id": "14869e26c2ed60cd",
   "metadata": {
    "collapsed": false
   },
   "source": [
    "The data is mainly collected from Phishtank and URL dataset ISCX-URL-2016 (present on kaggle), but some data is polluted or unnecessary (urls with malware or defacement). Data sources:\n",
    "- https://www.kaggle.com/datasets/sid321axn/malicious-urls-dataset/data (benign data from: https://www.unb.ca/cic/datasets/url-2016.html)\n",
    "- https://phishtank.org/ (online validated and https://phishtank.org/phish_search.php?valid=n&active=All&Search=Search)"
   ]
  },
  {
   "cell_type": "code",
   "execution_count": 42,
   "id": "b3a2dfbc57239227",
   "metadata": {
    "collapsed": false,
    "ExecuteTime": {
     "end_time": "2024-04-27T17:15:16.795869100Z",
     "start_time": "2024-04-27T17:15:15.647361200Z"
    }
   },
   "outputs": [],
   "source": [
    "phish_data_from_phishtank = pd.read_csv('./datasets/verified_online.csv')\n",
    "non_phish_data_from_phishtank_scraped = pd.read_csv('./datasets/non-phishing-urls-phishtank-final.csv')\n",
    "data_from_kaggle = pd.read_csv('./datasets/malicious_phish.csv')"
   ]
  },
  {
   "cell_type": "markdown",
   "id": "d3964098879e5be5",
   "metadata": {
    "collapsed": false
   },
   "source": [
    "### 3. First look on the data"
   ]
  },
  {
   "cell_type": "code",
   "execution_count": 43,
   "id": "93d3fdf18dfa1ff7",
   "metadata": {
    "collapsed": false,
    "ExecuteTime": {
     "end_time": "2024-04-27T17:15:16.806498600Z",
     "start_time": "2024-04-27T17:15:16.795869100Z"
    }
   },
   "outputs": [
    {
     "data": {
      "text/plain": "   phish_id                                            url  \\\n0   8546313               https://ollx.1792836.xyz/captcha   \n1   8546314                 https://ufakick456.com/captcha   \n2   8546312              https://keyeseuropean.com/captcha   \n3   8546311   https://allegr0lokalnie.83473636.xyz/captcha   \n4   8546309                 http://ufakick456.com/fb7pl5qw   \n5   8546310               http://ollx.1792836.xyz/fb7pl5qw   \n6   8546308              http://keyeseuropean.com/fb7pl5qw   \n7   8546307   http://allegr0lokalnie.83473636.xyz/fb7pl5qw   \n8   8546279   http://atrgptol.pages.dev/connection-module/   \n9   8546280  https://atrgptol.pages.dev/connection-module/   \n\n                                    phish_detail_url  \\\n0  http://www.phishtank.com/phish_detail.php?phis...   \n1  http://www.phishtank.com/phish_detail.php?phis...   \n2  http://www.phishtank.com/phish_detail.php?phis...   \n3  http://www.phishtank.com/phish_detail.php?phis...   \n4  http://www.phishtank.com/phish_detail.php?phis...   \n5  http://www.phishtank.com/phish_detail.php?phis...   \n6  http://www.phishtank.com/phish_detail.php?phis...   \n7  http://www.phishtank.com/phish_detail.php?phis...   \n8  http://www.phishtank.com/phish_detail.php?phis...   \n9  http://www.phishtank.com/phish_detail.php?phis...   \n\n             submission_time verified          verification_time online target  \n0  2024-04-22T10:55:17+00:00      yes  2024-04-22T11:04:04+00:00    yes  Other  \n1  2024-04-22T10:55:17+00:00      yes  2024-04-22T11:04:04+00:00    yes  Other  \n2  2024-04-22T10:55:16+00:00      yes  2024-04-22T11:04:04+00:00    yes  Other  \n3  2024-04-22T10:55:14+00:00      yes  2024-04-22T11:04:04+00:00    yes  Other  \n4  2024-04-22T10:55:13+00:00      yes  2024-04-22T11:04:04+00:00    yes  Other  \n5  2024-04-22T10:55:13+00:00      yes  2024-04-22T11:04:04+00:00    yes  Other  \n6  2024-04-22T10:55:11+00:00      yes  2024-04-22T11:04:04+00:00    yes  Other  \n7  2024-04-22T10:55:10+00:00      yes  2024-04-22T11:04:04+00:00    yes  Other  \n8  2024-04-22T10:25:50+00:00      yes  2024-04-22T10:33:21+00:00    yes  Other  \n9  2024-04-22T10:25:50+00:00      yes  2024-04-22T10:33:21+00:00    yes  Other  ",
      "text/html": "<div>\n<style scoped>\n    .dataframe tbody tr th:only-of-type {\n        vertical-align: middle;\n    }\n\n    .dataframe tbody tr th {\n        vertical-align: top;\n    }\n\n    .dataframe thead th {\n        text-align: right;\n    }\n</style>\n<table border=\"1\" class=\"dataframe\">\n  <thead>\n    <tr style=\"text-align: right;\">\n      <th></th>\n      <th>phish_id</th>\n      <th>url</th>\n      <th>phish_detail_url</th>\n      <th>submission_time</th>\n      <th>verified</th>\n      <th>verification_time</th>\n      <th>online</th>\n      <th>target</th>\n    </tr>\n  </thead>\n  <tbody>\n    <tr>\n      <th>0</th>\n      <td>8546313</td>\n      <td>https://ollx.1792836.xyz/captcha</td>\n      <td>http://www.phishtank.com/phish_detail.php?phis...</td>\n      <td>2024-04-22T10:55:17+00:00</td>\n      <td>yes</td>\n      <td>2024-04-22T11:04:04+00:00</td>\n      <td>yes</td>\n      <td>Other</td>\n    </tr>\n    <tr>\n      <th>1</th>\n      <td>8546314</td>\n      <td>https://ufakick456.com/captcha</td>\n      <td>http://www.phishtank.com/phish_detail.php?phis...</td>\n      <td>2024-04-22T10:55:17+00:00</td>\n      <td>yes</td>\n      <td>2024-04-22T11:04:04+00:00</td>\n      <td>yes</td>\n      <td>Other</td>\n    </tr>\n    <tr>\n      <th>2</th>\n      <td>8546312</td>\n      <td>https://keyeseuropean.com/captcha</td>\n      <td>http://www.phishtank.com/phish_detail.php?phis...</td>\n      <td>2024-04-22T10:55:16+00:00</td>\n      <td>yes</td>\n      <td>2024-04-22T11:04:04+00:00</td>\n      <td>yes</td>\n      <td>Other</td>\n    </tr>\n    <tr>\n      <th>3</th>\n      <td>8546311</td>\n      <td>https://allegr0lokalnie.83473636.xyz/captcha</td>\n      <td>http://www.phishtank.com/phish_detail.php?phis...</td>\n      <td>2024-04-22T10:55:14+00:00</td>\n      <td>yes</td>\n      <td>2024-04-22T11:04:04+00:00</td>\n      <td>yes</td>\n      <td>Other</td>\n    </tr>\n    <tr>\n      <th>4</th>\n      <td>8546309</td>\n      <td>http://ufakick456.com/fb7pl5qw</td>\n      <td>http://www.phishtank.com/phish_detail.php?phis...</td>\n      <td>2024-04-22T10:55:13+00:00</td>\n      <td>yes</td>\n      <td>2024-04-22T11:04:04+00:00</td>\n      <td>yes</td>\n      <td>Other</td>\n    </tr>\n    <tr>\n      <th>5</th>\n      <td>8546310</td>\n      <td>http://ollx.1792836.xyz/fb7pl5qw</td>\n      <td>http://www.phishtank.com/phish_detail.php?phis...</td>\n      <td>2024-04-22T10:55:13+00:00</td>\n      <td>yes</td>\n      <td>2024-04-22T11:04:04+00:00</td>\n      <td>yes</td>\n      <td>Other</td>\n    </tr>\n    <tr>\n      <th>6</th>\n      <td>8546308</td>\n      <td>http://keyeseuropean.com/fb7pl5qw</td>\n      <td>http://www.phishtank.com/phish_detail.php?phis...</td>\n      <td>2024-04-22T10:55:11+00:00</td>\n      <td>yes</td>\n      <td>2024-04-22T11:04:04+00:00</td>\n      <td>yes</td>\n      <td>Other</td>\n    </tr>\n    <tr>\n      <th>7</th>\n      <td>8546307</td>\n      <td>http://allegr0lokalnie.83473636.xyz/fb7pl5qw</td>\n      <td>http://www.phishtank.com/phish_detail.php?phis...</td>\n      <td>2024-04-22T10:55:10+00:00</td>\n      <td>yes</td>\n      <td>2024-04-22T11:04:04+00:00</td>\n      <td>yes</td>\n      <td>Other</td>\n    </tr>\n    <tr>\n      <th>8</th>\n      <td>8546279</td>\n      <td>http://atrgptol.pages.dev/connection-module/</td>\n      <td>http://www.phishtank.com/phish_detail.php?phis...</td>\n      <td>2024-04-22T10:25:50+00:00</td>\n      <td>yes</td>\n      <td>2024-04-22T10:33:21+00:00</td>\n      <td>yes</td>\n      <td>Other</td>\n    </tr>\n    <tr>\n      <th>9</th>\n      <td>8546280</td>\n      <td>https://atrgptol.pages.dev/connection-module/</td>\n      <td>http://www.phishtank.com/phish_detail.php?phis...</td>\n      <td>2024-04-22T10:25:50+00:00</td>\n      <td>yes</td>\n      <td>2024-04-22T10:33:21+00:00</td>\n      <td>yes</td>\n      <td>Other</td>\n    </tr>\n  </tbody>\n</table>\n</div>"
     },
     "execution_count": 43,
     "metadata": {},
     "output_type": "execute_result"
    }
   ],
   "source": [
    "phish_data_from_phishtank.head(10)"
   ]
  },
  {
   "cell_type": "code",
   "execution_count": 44,
   "id": "44f874e74f78d4c8",
   "metadata": {
    "collapsed": false,
    "ExecuteTime": {
     "end_time": "2024-04-27T17:15:16.819958800Z",
     "start_time": "2024-04-27T17:15:16.805501300Z"
    }
   },
   "outputs": [
    {
     "data": {
      "text/plain": "        ID                                          PHISH_URL  \\\n0  8550621  http://login.live.com.office.autooffc29536.eup...   \n1  8535110                       https://releases.jquery.com/   \n2  8535109                           https://code.jquery.com/   \n3  8533875                       https://app.ether.fi/blocked   \n4  8530207  https://fonts.googleapis.com/css2?family=Open+...   \n5  8529188  https://urlscan.io/result/31a21a49-f77d-406d-a...   \n6  8518134  https://buff.163.com/news/?news_game=dota2&sou...   \n7  8511079  https://login.microsoftonline.com/638fcbaf-ba4...   \n8  8511077  https://login.microsoftonline.com/638fcbaf-ba4...   \n9  8511075  https://login.microsoftonline.com/638fcbaf-ba4...   \n\n                                     ADDITIONAL_INFO  \n0  added on Apr 25th 2024 1:01 AM by cleanmx INVA...  \n1  added on Apr 13th 2024 1:57 PM by verifrom INV...  \n2  added on Apr 13th 2024 1:57 PM by verifrom INV...  \n3  added on Apr 12th 2024 3:27 PM by Felix0101 IN...  \n4  added on Apr 10th 2024 8:25 AM by tchatzi INVA...  \n5  added on Apr 9th 2024 8:09 PM by lhernandez IN...  \n6  added on Apr 3rd 2024 2:40 AM by Felix0101 INV...  \n7  added on Mar 30th 2024 7:03 PM by cleanmx INVA...  \n8  added on Mar 30th 2024 7:03 PM by cleanmx INVA...  \n9  added on Mar 30th 2024 7:03 PM by cleanmx INVA...  ",
      "text/html": "<div>\n<style scoped>\n    .dataframe tbody tr th:only-of-type {\n        vertical-align: middle;\n    }\n\n    .dataframe tbody tr th {\n        vertical-align: top;\n    }\n\n    .dataframe thead th {\n        text-align: right;\n    }\n</style>\n<table border=\"1\" class=\"dataframe\">\n  <thead>\n    <tr style=\"text-align: right;\">\n      <th></th>\n      <th>ID</th>\n      <th>PHISH_URL</th>\n      <th>ADDITIONAL_INFO</th>\n    </tr>\n  </thead>\n  <tbody>\n    <tr>\n      <th>0</th>\n      <td>8550621</td>\n      <td>http://login.live.com.office.autooffc29536.eup...</td>\n      <td>added on Apr 25th 2024 1:01 AM by cleanmx INVA...</td>\n    </tr>\n    <tr>\n      <th>1</th>\n      <td>8535110</td>\n      <td>https://releases.jquery.com/</td>\n      <td>added on Apr 13th 2024 1:57 PM by verifrom INV...</td>\n    </tr>\n    <tr>\n      <th>2</th>\n      <td>8535109</td>\n      <td>https://code.jquery.com/</td>\n      <td>added on Apr 13th 2024 1:57 PM by verifrom INV...</td>\n    </tr>\n    <tr>\n      <th>3</th>\n      <td>8533875</td>\n      <td>https://app.ether.fi/blocked</td>\n      <td>added on Apr 12th 2024 3:27 PM by Felix0101 IN...</td>\n    </tr>\n    <tr>\n      <th>4</th>\n      <td>8530207</td>\n      <td>https://fonts.googleapis.com/css2?family=Open+...</td>\n      <td>added on Apr 10th 2024 8:25 AM by tchatzi INVA...</td>\n    </tr>\n    <tr>\n      <th>5</th>\n      <td>8529188</td>\n      <td>https://urlscan.io/result/31a21a49-f77d-406d-a...</td>\n      <td>added on Apr 9th 2024 8:09 PM by lhernandez IN...</td>\n    </tr>\n    <tr>\n      <th>6</th>\n      <td>8518134</td>\n      <td>https://buff.163.com/news/?news_game=dota2&amp;sou...</td>\n      <td>added on Apr 3rd 2024 2:40 AM by Felix0101 INV...</td>\n    </tr>\n    <tr>\n      <th>7</th>\n      <td>8511079</td>\n      <td>https://login.microsoftonline.com/638fcbaf-ba4...</td>\n      <td>added on Mar 30th 2024 7:03 PM by cleanmx INVA...</td>\n    </tr>\n    <tr>\n      <th>8</th>\n      <td>8511077</td>\n      <td>https://login.microsoftonline.com/638fcbaf-ba4...</td>\n      <td>added on Mar 30th 2024 7:03 PM by cleanmx INVA...</td>\n    </tr>\n    <tr>\n      <th>9</th>\n      <td>8511075</td>\n      <td>https://login.microsoftonline.com/638fcbaf-ba4...</td>\n      <td>added on Mar 30th 2024 7:03 PM by cleanmx INVA...</td>\n    </tr>\n  </tbody>\n</table>\n</div>"
     },
     "execution_count": 44,
     "metadata": {},
     "output_type": "execute_result"
    }
   ],
   "source": [
    "non_phish_data_from_phishtank_scraped.head(10)"
   ]
  },
  {
   "cell_type": "code",
   "execution_count": 45,
   "id": "ad0abe0f2481d4ca",
   "metadata": {
    "collapsed": false,
    "ExecuteTime": {
     "end_time": "2024-04-27T17:15:16.843695800Z",
     "start_time": "2024-04-27T17:15:16.815221600Z"
    }
   },
   "outputs": [
    {
     "data": {
      "text/plain": "                                                 url        type\n0                                   br-icloud.com.br    phishing\n1                mp3raid.com/music/krizz_kaliko.html      benign\n2                    bopsecrets.org/rexroth/cr/1.htm      benign\n3  http://www.garage-pirenne.be/index.php?option=...  defacement\n4  http://adventure-nicaragua.net/index.php?optio...  defacement\n5  http://buzzfil.net/m/show-art/ils-etaient-loin...      benign\n6      espn.go.com/nba/player/_/id/3457/brandon-rush      benign\n7     yourbittorrent.com/?q=anthony-hamilton-soulife      benign\n8       http://www.pashminaonline.com/pure-pashminas  defacement\n9      allmusic.com/album/crazy-from-the-heat-r16990      benign",
      "text/html": "<div>\n<style scoped>\n    .dataframe tbody tr th:only-of-type {\n        vertical-align: middle;\n    }\n\n    .dataframe tbody tr th {\n        vertical-align: top;\n    }\n\n    .dataframe thead th {\n        text-align: right;\n    }\n</style>\n<table border=\"1\" class=\"dataframe\">\n  <thead>\n    <tr style=\"text-align: right;\">\n      <th></th>\n      <th>url</th>\n      <th>type</th>\n    </tr>\n  </thead>\n  <tbody>\n    <tr>\n      <th>0</th>\n      <td>br-icloud.com.br</td>\n      <td>phishing</td>\n    </tr>\n    <tr>\n      <th>1</th>\n      <td>mp3raid.com/music/krizz_kaliko.html</td>\n      <td>benign</td>\n    </tr>\n    <tr>\n      <th>2</th>\n      <td>bopsecrets.org/rexroth/cr/1.htm</td>\n      <td>benign</td>\n    </tr>\n    <tr>\n      <th>3</th>\n      <td>http://www.garage-pirenne.be/index.php?option=...</td>\n      <td>defacement</td>\n    </tr>\n    <tr>\n      <th>4</th>\n      <td>http://adventure-nicaragua.net/index.php?optio...</td>\n      <td>defacement</td>\n    </tr>\n    <tr>\n      <th>5</th>\n      <td>http://buzzfil.net/m/show-art/ils-etaient-loin...</td>\n      <td>benign</td>\n    </tr>\n    <tr>\n      <th>6</th>\n      <td>espn.go.com/nba/player/_/id/3457/brandon-rush</td>\n      <td>benign</td>\n    </tr>\n    <tr>\n      <th>7</th>\n      <td>yourbittorrent.com/?q=anthony-hamilton-soulife</td>\n      <td>benign</td>\n    </tr>\n    <tr>\n      <th>8</th>\n      <td>http://www.pashminaonline.com/pure-pashminas</td>\n      <td>defacement</td>\n    </tr>\n    <tr>\n      <th>9</th>\n      <td>allmusic.com/album/crazy-from-the-heat-r16990</td>\n      <td>benign</td>\n    </tr>\n  </tbody>\n</table>\n</div>"
     },
     "execution_count": 45,
     "metadata": {},
     "output_type": "execute_result"
    }
   ],
   "source": [
    "data_from_kaggle.head(10)"
   ]
  },
  {
   "cell_type": "markdown",
   "id": "77dd03e9f7a1bb3e",
   "metadata": {
    "collapsed": false
   },
   "source": [
    "##### Length of these datasets:"
   ]
  },
  {
   "cell_type": "code",
   "execution_count": 46,
   "id": "d28a448c1cb8975e",
   "metadata": {
    "collapsed": false,
    "ExecuteTime": {
     "end_time": "2024-04-27T17:15:16.844693600Z",
     "start_time": "2024-04-27T17:15:16.821951800Z"
    }
   },
   "outputs": [
    {
     "data": {
      "text/plain": "60804"
     },
     "execution_count": 46,
     "metadata": {},
     "output_type": "execute_result"
    }
   ],
   "source": [
    "len(phish_data_from_phishtank)"
   ]
  },
  {
   "cell_type": "code",
   "execution_count": 47,
   "id": "5005e33a405a4046",
   "metadata": {
    "collapsed": false,
    "ExecuteTime": {
     "end_time": "2024-04-27T17:15:17.182462500Z",
     "start_time": "2024-04-27T17:15:17.073806300Z"
    }
   },
   "outputs": [
    {
     "data": {
      "text/plain": "127320"
     },
     "execution_count": 47,
     "metadata": {},
     "output_type": "execute_result"
    }
   ],
   "source": [
    "len(non_phish_data_from_phishtank_scraped)"
   ]
  },
  {
   "cell_type": "code",
   "execution_count": 48,
   "id": "f701bf7866ca1068",
   "metadata": {
    "collapsed": false,
    "ExecuteTime": {
     "end_time": "2024-04-27T17:15:17.358318300Z",
     "start_time": "2024-04-27T17:15:17.276200600Z"
    }
   },
   "outputs": [
    {
     "data": {
      "text/plain": "651191"
     },
     "execution_count": 48,
     "metadata": {},
     "output_type": "execute_result"
    }
   ],
   "source": [
    "len(data_from_kaggle)"
   ]
  },
  {
   "cell_type": "code",
   "execution_count": 49,
   "id": "c52e2a1459b1fdf9",
   "metadata": {
    "collapsed": false,
    "ExecuteTime": {
     "end_time": "2024-04-27T17:15:17.457297700Z",
     "start_time": "2024-04-27T17:15:17.411392200Z"
    }
   },
   "outputs": [
    {
     "data": {
      "text/plain": "(60804, 8)"
     },
     "execution_count": 49,
     "metadata": {},
     "output_type": "execute_result"
    }
   ],
   "source": [
    "phish_data_from_phishtank.shape"
   ]
  },
  {
   "cell_type": "code",
   "execution_count": 50,
   "id": "3fee88aec0f0b149",
   "metadata": {
    "collapsed": false,
    "ExecuteTime": {
     "end_time": "2024-04-27T17:15:17.598884300Z",
     "start_time": "2024-04-27T17:15:17.557347200Z"
    }
   },
   "outputs": [
    {
     "data": {
      "text/plain": "(127320, 3)"
     },
     "execution_count": 50,
     "metadata": {},
     "output_type": "execute_result"
    }
   ],
   "source": [
    "non_phish_data_from_phishtank_scraped.shape"
   ]
  },
  {
   "cell_type": "code",
   "execution_count": 51,
   "id": "caabfc2793989a60",
   "metadata": {
    "collapsed": false,
    "ExecuteTime": {
     "end_time": "2024-04-27T17:15:18.209520300Z",
     "start_time": "2024-04-27T17:15:18.170717700Z"
    }
   },
   "outputs": [
    {
     "data": {
      "text/plain": "(651191, 2)"
     },
     "execution_count": 51,
     "metadata": {},
     "output_type": "execute_result"
    }
   ],
   "source": [
    "data_from_kaggle.shape"
   ]
  },
  {
   "cell_type": "markdown",
   "id": "3ed0e8f4de3c8d89",
   "metadata": {
    "collapsed": false
   },
   "source": [
    "### 4. Prepare data to save in new files"
   ]
  },
  {
   "cell_type": "markdown",
   "id": "563c8f20f5bfc911",
   "metadata": {
    "collapsed": false
   },
   "source": [
    "#### 4.1 Preprocessing phish urls from phishtank\n",
    "##### In this part the index is being reset urls are saved to new DataFrame."
   ]
  },
  {
   "cell_type": "code",
   "execution_count": 52,
   "id": "8708223e03d009bf",
   "metadata": {
    "collapsed": false,
    "ExecuteTime": {
     "end_time": "2024-04-27T17:15:18.990317600Z",
     "start_time": "2024-04-27T17:15:18.975340200Z"
    }
   },
   "outputs": [
    {
     "data": {
      "text/plain": "   phish_id                                           url  \\\n0   8546313              https://ollx.1792836.xyz/captcha   \n1   8546314                https://ufakick456.com/captcha   \n2   8546312             https://keyeseuropean.com/captcha   \n3   8546311  https://allegr0lokalnie.83473636.xyz/captcha   \n4   8546309                http://ufakick456.com/fb7pl5qw   \n\n                                    phish_detail_url  \\\n0  http://www.phishtank.com/phish_detail.php?phis...   \n1  http://www.phishtank.com/phish_detail.php?phis...   \n2  http://www.phishtank.com/phish_detail.php?phis...   \n3  http://www.phishtank.com/phish_detail.php?phis...   \n4  http://www.phishtank.com/phish_detail.php?phis...   \n\n             submission_time verified          verification_time online target  \n0  2024-04-22T10:55:17+00:00      yes  2024-04-22T11:04:04+00:00    yes  Other  \n1  2024-04-22T10:55:17+00:00      yes  2024-04-22T11:04:04+00:00    yes  Other  \n2  2024-04-22T10:55:16+00:00      yes  2024-04-22T11:04:04+00:00    yes  Other  \n3  2024-04-22T10:55:14+00:00      yes  2024-04-22T11:04:04+00:00    yes  Other  \n4  2024-04-22T10:55:13+00:00      yes  2024-04-22T11:04:04+00:00    yes  Other  ",
      "text/html": "<div>\n<style scoped>\n    .dataframe tbody tr th:only-of-type {\n        vertical-align: middle;\n    }\n\n    .dataframe tbody tr th {\n        vertical-align: top;\n    }\n\n    .dataframe thead th {\n        text-align: right;\n    }\n</style>\n<table border=\"1\" class=\"dataframe\">\n  <thead>\n    <tr style=\"text-align: right;\">\n      <th></th>\n      <th>phish_id</th>\n      <th>url</th>\n      <th>phish_detail_url</th>\n      <th>submission_time</th>\n      <th>verified</th>\n      <th>verification_time</th>\n      <th>online</th>\n      <th>target</th>\n    </tr>\n  </thead>\n  <tbody>\n    <tr>\n      <th>0</th>\n      <td>8546313</td>\n      <td>https://ollx.1792836.xyz/captcha</td>\n      <td>http://www.phishtank.com/phish_detail.php?phis...</td>\n      <td>2024-04-22T10:55:17+00:00</td>\n      <td>yes</td>\n      <td>2024-04-22T11:04:04+00:00</td>\n      <td>yes</td>\n      <td>Other</td>\n    </tr>\n    <tr>\n      <th>1</th>\n      <td>8546314</td>\n      <td>https://ufakick456.com/captcha</td>\n      <td>http://www.phishtank.com/phish_detail.php?phis...</td>\n      <td>2024-04-22T10:55:17+00:00</td>\n      <td>yes</td>\n      <td>2024-04-22T11:04:04+00:00</td>\n      <td>yes</td>\n      <td>Other</td>\n    </tr>\n    <tr>\n      <th>2</th>\n      <td>8546312</td>\n      <td>https://keyeseuropean.com/captcha</td>\n      <td>http://www.phishtank.com/phish_detail.php?phis...</td>\n      <td>2024-04-22T10:55:16+00:00</td>\n      <td>yes</td>\n      <td>2024-04-22T11:04:04+00:00</td>\n      <td>yes</td>\n      <td>Other</td>\n    </tr>\n    <tr>\n      <th>3</th>\n      <td>8546311</td>\n      <td>https://allegr0lokalnie.83473636.xyz/captcha</td>\n      <td>http://www.phishtank.com/phish_detail.php?phis...</td>\n      <td>2024-04-22T10:55:14+00:00</td>\n      <td>yes</td>\n      <td>2024-04-22T11:04:04+00:00</td>\n      <td>yes</td>\n      <td>Other</td>\n    </tr>\n    <tr>\n      <th>4</th>\n      <td>8546309</td>\n      <td>http://ufakick456.com/fb7pl5qw</td>\n      <td>http://www.phishtank.com/phish_detail.php?phis...</td>\n      <td>2024-04-22T10:55:13+00:00</td>\n      <td>yes</td>\n      <td>2024-04-22T11:04:04+00:00</td>\n      <td>yes</td>\n      <td>Other</td>\n    </tr>\n  </tbody>\n</table>\n</div>"
     },
     "execution_count": 52,
     "metadata": {},
     "output_type": "execute_result"
    }
   ],
   "source": [
    "phish_data_from_phishtank.head()"
   ]
  },
  {
   "cell_type": "code",
   "execution_count": 53,
   "id": "85e559d99aa5cff6",
   "metadata": {
    "collapsed": false,
    "ExecuteTime": {
     "end_time": "2024-04-27T17:15:19.593885300Z",
     "start_time": "2024-04-27T17:15:19.567340700Z"
    }
   },
   "outputs": [
    {
     "data": {
      "text/plain": "0                         https://ollx.1792836.xyz/captcha\n1                           https://ufakick456.com/captcha\n2                        https://keyeseuropean.com/captcha\n3             https://allegr0lokalnie.83473636.xyz/captcha\n4                           http://ufakick456.com/fb7pl5qw\n                               ...                        \n60799     http://www.ezblox.site/free/jennifer111/helpdesk\n60800    http://www.formbuddy.com/cgi-bin/formdisp.pl?u...\n60801    http://www.formbuddy.com/cgi-bin/formdisp.pl?u...\n60802         http://www.habbocreditosparati.blogspot.com/\n60803    http://creditiperhabbogratissicuro100.blogspot...\nName: url, Length: 60804, dtype: object"
     },
     "execution_count": 53,
     "metadata": {},
     "output_type": "execute_result"
    }
   ],
   "source": [
    "phish_data_df1 = phish_data_from_phishtank['url']\n",
    "phish_data_df1"
   ]
  },
  {
   "cell_type": "markdown",
   "id": "f8a09e24cf1f08f4",
   "metadata": {
    "collapsed": false
   },
   "source": [
    "#### 4.2 Preprocessing non phish urls from phishtank (scraped)\n",
    "##### In this part the index is being reset urls are saved to new DataFrame. Data is saved to two DataFrames. Df2 contains urls with deleted dots '...' occurring on the end of url (not all url scraped). Df3 contains urls without this urls (they are dropped)."
   ]
  },
  {
   "cell_type": "markdown",
   "id": "52dfb863ee6f7cac",
   "metadata": {
    "collapsed": false
   },
   "source": [
    "##### Shortening data to not to old (oldest November 2015)"
   ]
  },
  {
   "cell_type": "code",
   "execution_count": 54,
   "id": "d0d8d684df763a00",
   "metadata": {
    "collapsed": false,
    "ExecuteTime": {
     "end_time": "2024-04-27T17:15:21.308182300Z",
     "start_time": "2024-04-27T17:15:21.294133200Z"
    }
   },
   "outputs": [],
   "source": [
    "non_phish_data_from_phishtank_scraped = non_phish_data_from_phishtank_scraped[:(len(non_phish_data_from_phishtank_scraped)//4)]"
   ]
  },
  {
   "cell_type": "markdown",
   "id": "ed5abd91be192e74",
   "metadata": {
    "collapsed": false
   },
   "source": [
    "#### Dropping dots: "
   ]
  },
  {
   "cell_type": "code",
   "execution_count": 55,
   "id": "a7db50c5bc43bfe7",
   "metadata": {
    "collapsed": false,
    "ExecuteTime": {
     "end_time": "2024-04-27T17:15:22.534217800Z",
     "start_time": "2024-04-27T17:15:22.511262800Z"
    }
   },
   "outputs": [
    {
     "data": {
      "text/plain": "0    http://login.live.com.office.autooffc29536.eup...\n1                         https://releases.jquery.com/\n2                             https://code.jquery.com/\n3                         https://app.ether.fi/blocked\n4    https://fonts.googleapis.com/css2?family=Open+...\nName: PHISH_URL, dtype: object"
     },
     "execution_count": 55,
     "metadata": {},
     "output_type": "execute_result"
    }
   ],
   "source": [
    "non_phish_data_df2 = non_phish_data_from_phishtank_scraped['PHISH_URL'].apply(lambda x: x[:-3] if x.endswith('...') else x).reset_index(drop=True)\n",
    "non_phish_data_df2.head()"
   ]
  },
  {
   "cell_type": "markdown",
   "id": "e61f136ec7b891c3",
   "metadata": {
    "collapsed": false
   },
   "source": [
    "#### Deleting urls with dots"
   ]
  },
  {
   "cell_type": "code",
   "execution_count": 56,
   "id": "508f7459e119e2e4",
   "metadata": {
    "collapsed": false,
    "ExecuteTime": {
     "end_time": "2024-04-27T17:15:25.094978500Z",
     "start_time": "2024-04-27T17:15:25.071281300Z"
    }
   },
   "outputs": [
    {
     "data": {
      "text/plain": "0                https://releases.jquery.com/\n1                    https://code.jquery.com/\n2                https://app.ether.fi/blocked\n3    https://efty.com/d/2zfr2/NeonClaims.com/\n4           https://www.yahoo.com/?&sid=74508\nName: PHISH_URL, dtype: object"
     },
     "execution_count": 56,
     "metadata": {},
     "output_type": "execute_result"
    }
   ],
   "source": [
    "full_url_filter = ~non_phish_data_from_phishtank_scraped['PHISH_URL'].str.endswith('...')\n",
    "non_phish_data_df3 = non_phish_data_from_phishtank_scraped['PHISH_URL'].where(full_url_filter).dropna().reset_index(drop=True)\n",
    "non_phish_data_df3.head()"
   ]
  },
  {
   "cell_type": "markdown",
   "id": "1d77fb2241d9262c",
   "metadata": {
    "collapsed": false
   },
   "source": [
    "#### 4.3 Preprocessing urls from kaggle\n",
    "##### In this part the index is being reset urls are saved to new DataFrame, adding missing scheme and filtering the only benign data.\n"
   ]
  },
  {
   "cell_type": "code",
   "execution_count": 57,
   "id": "6cb810b50b52763e",
   "metadata": {
    "collapsed": false,
    "ExecuteTime": {
     "end_time": "2024-04-27T17:15:26.099519300Z",
     "start_time": "2024-04-27T17:15:26.084343500Z"
    }
   },
   "outputs": [
    {
     "data": {
      "text/plain": "                                                 url        type\n0                                   br-icloud.com.br    phishing\n1                mp3raid.com/music/krizz_kaliko.html      benign\n2                    bopsecrets.org/rexroth/cr/1.htm      benign\n3  http://www.garage-pirenne.be/index.php?option=...  defacement\n4  http://adventure-nicaragua.net/index.php?optio...  defacement",
      "text/html": "<div>\n<style scoped>\n    .dataframe tbody tr th:only-of-type {\n        vertical-align: middle;\n    }\n\n    .dataframe tbody tr th {\n        vertical-align: top;\n    }\n\n    .dataframe thead th {\n        text-align: right;\n    }\n</style>\n<table border=\"1\" class=\"dataframe\">\n  <thead>\n    <tr style=\"text-align: right;\">\n      <th></th>\n      <th>url</th>\n      <th>type</th>\n    </tr>\n  </thead>\n  <tbody>\n    <tr>\n      <th>0</th>\n      <td>br-icloud.com.br</td>\n      <td>phishing</td>\n    </tr>\n    <tr>\n      <th>1</th>\n      <td>mp3raid.com/music/krizz_kaliko.html</td>\n      <td>benign</td>\n    </tr>\n    <tr>\n      <th>2</th>\n      <td>bopsecrets.org/rexroth/cr/1.htm</td>\n      <td>benign</td>\n    </tr>\n    <tr>\n      <th>3</th>\n      <td>http://www.garage-pirenne.be/index.php?option=...</td>\n      <td>defacement</td>\n    </tr>\n    <tr>\n      <th>4</th>\n      <td>http://adventure-nicaragua.net/index.php?optio...</td>\n      <td>defacement</td>\n    </tr>\n  </tbody>\n</table>\n</div>"
     },
     "execution_count": 57,
     "metadata": {},
     "output_type": "execute_result"
    }
   ],
   "source": [
    "data_from_kaggle.head()"
   ]
  },
  {
   "cell_type": "code",
   "execution_count": 58,
   "id": "74509f5ea1dcbe6b",
   "metadata": {
    "collapsed": false,
    "ExecuteTime": {
     "end_time": "2024-04-27T17:15:26.483173200Z",
     "start_time": "2024-04-27T17:15:26.354317Z"
    }
   },
   "outputs": [
    {
     "data": {
      "text/plain": "                                                 url    type\n0                mp3raid.com/music/krizz_kaliko.html  benign\n1                    bopsecrets.org/rexroth/cr/1.htm  benign\n2  http://buzzfil.net/m/show-art/ils-etaient-loin...  benign\n3      espn.go.com/nba/player/_/id/3457/brandon-rush  benign\n4     yourbittorrent.com/?q=anthony-hamilton-soulife  benign",
      "text/html": "<div>\n<style scoped>\n    .dataframe tbody tr th:only-of-type {\n        vertical-align: middle;\n    }\n\n    .dataframe tbody tr th {\n        vertical-align: top;\n    }\n\n    .dataframe thead th {\n        text-align: right;\n    }\n</style>\n<table border=\"1\" class=\"dataframe\">\n  <thead>\n    <tr style=\"text-align: right;\">\n      <th></th>\n      <th>url</th>\n      <th>type</th>\n    </tr>\n  </thead>\n  <tbody>\n    <tr>\n      <th>0</th>\n      <td>mp3raid.com/music/krizz_kaliko.html</td>\n      <td>benign</td>\n    </tr>\n    <tr>\n      <th>1</th>\n      <td>bopsecrets.org/rexroth/cr/1.htm</td>\n      <td>benign</td>\n    </tr>\n    <tr>\n      <th>2</th>\n      <td>http://buzzfil.net/m/show-art/ils-etaient-loin...</td>\n      <td>benign</td>\n    </tr>\n    <tr>\n      <th>3</th>\n      <td>espn.go.com/nba/player/_/id/3457/brandon-rush</td>\n      <td>benign</td>\n    </tr>\n    <tr>\n      <th>4</th>\n      <td>yourbittorrent.com/?q=anthony-hamilton-soulife</td>\n      <td>benign</td>\n    </tr>\n  </tbody>\n</table>\n</div>"
     },
     "execution_count": 58,
     "metadata": {},
     "output_type": "execute_result"
    }
   ],
   "source": [
    "filter_benign_data = data_from_kaggle['type'] == 'benign'\n",
    "benign_data = data_from_kaggle.where(filter_benign_data).dropna().reset_index(drop=True)\n",
    "benign_data.head()"
   ]
  },
  {
   "cell_type": "code",
   "outputs": [
    {
     "data": {
      "text/plain": "                                                 url      type\n0                                   br-icloud.com.br  phishing\n1         signin.eby.de.zukruygxctzmmqi.civpro.co.za  phishing\n2  http://www.marketingbyinternet.com/mo/e56508df...  phishing\n3  https://docs.google.com/spreadsheet/viewform?f...  phishing\n4                               retajconsultancy.com  phishing",
      "text/html": "<div>\n<style scoped>\n    .dataframe tbody tr th:only-of-type {\n        vertical-align: middle;\n    }\n\n    .dataframe tbody tr th {\n        vertical-align: top;\n    }\n\n    .dataframe thead th {\n        text-align: right;\n    }\n</style>\n<table border=\"1\" class=\"dataframe\">\n  <thead>\n    <tr style=\"text-align: right;\">\n      <th></th>\n      <th>url</th>\n      <th>type</th>\n    </tr>\n  </thead>\n  <tbody>\n    <tr>\n      <th>0</th>\n      <td>br-icloud.com.br</td>\n      <td>phishing</td>\n    </tr>\n    <tr>\n      <th>1</th>\n      <td>signin.eby.de.zukruygxctzmmqi.civpro.co.za</td>\n      <td>phishing</td>\n    </tr>\n    <tr>\n      <th>2</th>\n      <td>http://www.marketingbyinternet.com/mo/e56508df...</td>\n      <td>phishing</td>\n    </tr>\n    <tr>\n      <th>3</th>\n      <td>https://docs.google.com/spreadsheet/viewform?f...</td>\n      <td>phishing</td>\n    </tr>\n    <tr>\n      <th>4</th>\n      <td>retajconsultancy.com</td>\n      <td>phishing</td>\n    </tr>\n  </tbody>\n</table>\n</div>"
     },
     "execution_count": 59,
     "metadata": {},
     "output_type": "execute_result"
    }
   ],
   "source": [
    "filter_phish_data = data_from_kaggle['type'] =='phishing'\n",
    "phish_data = data_from_kaggle.where(filter_phish_data).dropna().reset_index(drop=True)\n",
    "phish_data.head()"
   ],
   "metadata": {
    "collapsed": false,
    "ExecuteTime": {
     "end_time": "2024-04-27T17:15:26.723208100Z",
     "start_time": "2024-04-27T17:15:26.640378300Z"
    }
   },
   "id": "2d3834bdcc2344b1",
   "execution_count": 59
  },
  {
   "cell_type": "markdown",
   "id": "78a2dff0f1c2be99",
   "metadata": {
    "collapsed": false
   },
   "source": [
    "##### Adding missing https scheme:"
   ]
  },
  {
   "cell_type": "code",
   "execution_count": 60,
   "id": "7f3135e07c384f12",
   "metadata": {
    "collapsed": false,
    "ExecuteTime": {
     "end_time": "2024-04-27T17:15:27.506347Z",
     "start_time": "2024-04-27T17:15:27.375735400Z"
    }
   },
   "outputs": [],
   "source": [
    "benign_data_from_kaggle_df4 = benign_data['url'].apply(lambda x: 'https://' + x if not x.startswith('https://') else x)"
   ]
  },
  {
   "cell_type": "code",
   "outputs": [],
   "source": [
    "phish_data_from_kaggle_df4_1 = phish_data['url']"
   ],
   "metadata": {
    "collapsed": false,
    "ExecuteTime": {
     "end_time": "2024-04-27T17:15:27.716244100Z",
     "start_time": "2024-04-27T17:15:27.699413400Z"
    }
   },
   "id": "93300fc59aa5beb1",
   "execution_count": 61
  },
  {
   "cell_type": "code",
   "execution_count": 62,
   "id": "712160d41f15941b",
   "metadata": {
    "collapsed": false,
    "ExecuteTime": {
     "end_time": "2024-04-27T17:15:28.103997700Z",
     "start_time": "2024-04-27T17:15:28.088038300Z"
    }
   },
   "outputs": [
    {
     "data": {
      "text/plain": "0          https://mp3raid.com/music/krizz_kaliko.html\n1              https://bopsecrets.org/rexroth/cr/1.htm\n2    https://http://buzzfil.net/m/show-art/ils-etai...\n3    https://espn.go.com/nba/player/_/id/3457/brand...\n4    https://yourbittorrent.com/?q=anthony-hamilton...\nName: url, dtype: object"
     },
     "execution_count": 62,
     "metadata": {},
     "output_type": "execute_result"
    }
   ],
   "source": [
    "benign_data_from_kaggle_df4.head()"
   ]
  },
  {
   "cell_type": "code",
   "outputs": [
    {
     "data": {
      "text/plain": "0                                     br-icloud.com.br\n1           signin.eby.de.zukruygxctzmmqi.civpro.co.za\n2    http://www.marketingbyinternet.com/mo/e56508df...\n3    https://docs.google.com/spreadsheet/viewform?f...\n4                                 retajconsultancy.com\nName: url, dtype: object"
     },
     "execution_count": 63,
     "metadata": {},
     "output_type": "execute_result"
    }
   ],
   "source": [
    "phish_data_from_kaggle_df4_1.head()"
   ],
   "metadata": {
    "collapsed": false,
    "ExecuteTime": {
     "end_time": "2024-04-27T17:15:28.428815500Z",
     "start_time": "2024-04-27T17:15:28.404212100Z"
    }
   },
   "id": "42974fc02840c299",
   "execution_count": 63
  },
  {
   "cell_type": "markdown",
   "id": "7bd2ceee262d54aa",
   "metadata": {
    "collapsed": false
   },
   "source": [
    "### 5. Save data to files"
   ]
  },
  {
   "cell_type": "code",
   "execution_count": 64,
   "id": "201613da4c869220",
   "metadata": {
    "collapsed": false,
    "ExecuteTime": {
     "end_time": "2024-04-27T17:15:35.662503700Z",
     "start_time": "2024-04-27T17:15:35.648509500Z"
    }
   },
   "outputs": [
    {
     "data": {
      "text/plain": "                                      PHISH_URL\n0              https://ollx.1792836.xyz/captcha\n1                https://ufakick456.com/captcha\n2             https://keyeseuropean.com/captcha\n3  https://allegr0lokalnie.83473636.xyz/captcha\n4                http://ufakick456.com/fb7pl5qw",
      "text/html": "<div>\n<style scoped>\n    .dataframe tbody tr th:only-of-type {\n        vertical-align: middle;\n    }\n\n    .dataframe tbody tr th {\n        vertical-align: top;\n    }\n\n    .dataframe thead th {\n        text-align: right;\n    }\n</style>\n<table border=\"1\" class=\"dataframe\">\n  <thead>\n    <tr style=\"text-align: right;\">\n      <th></th>\n      <th>PHISH_URL</th>\n    </tr>\n  </thead>\n  <tbody>\n    <tr>\n      <th>0</th>\n      <td>https://ollx.1792836.xyz/captcha</td>\n    </tr>\n    <tr>\n      <th>1</th>\n      <td>https://ufakick456.com/captcha</td>\n    </tr>\n    <tr>\n      <th>2</th>\n      <td>https://keyeseuropean.com/captcha</td>\n    </tr>\n    <tr>\n      <th>3</th>\n      <td>https://allegr0lokalnie.83473636.xyz/captcha</td>\n    </tr>\n    <tr>\n      <th>4</th>\n      <td>http://ufakick456.com/fb7pl5qw</td>\n    </tr>\n  </tbody>\n</table>\n</div>"
     },
     "execution_count": 64,
     "metadata": {},
     "output_type": "execute_result"
    }
   ],
   "source": [
    "phish_data_df1 = pd.DataFrame(phish_data_df1)\n",
    "phish_data_df1.rename({'': 'ID', 'url': 'PHISH_URL'}, axis=1, inplace=True)\n",
    "phish_data_df1.head()"
   ]
  },
  {
   "cell_type": "code",
   "execution_count": 65,
   "id": "de1a9a7814e7e06c",
   "metadata": {
    "collapsed": false,
    "ExecuteTime": {
     "end_time": "2024-04-27T17:15:37.037137Z",
     "start_time": "2024-04-27T17:15:37.025353900Z"
    }
   },
   "outputs": [
    {
     "data": {
      "text/plain": "                                       NON_PHISH_URL\n0  http://login.live.com.office.autooffc29536.eup...\n1                       https://releases.jquery.com/\n2                           https://code.jquery.com/\n3                       https://app.ether.fi/blocked\n4  https://fonts.googleapis.com/css2?family=Open+...",
      "text/html": "<div>\n<style scoped>\n    .dataframe tbody tr th:only-of-type {\n        vertical-align: middle;\n    }\n\n    .dataframe tbody tr th {\n        vertical-align: top;\n    }\n\n    .dataframe thead th {\n        text-align: right;\n    }\n</style>\n<table border=\"1\" class=\"dataframe\">\n  <thead>\n    <tr style=\"text-align: right;\">\n      <th></th>\n      <th>NON_PHISH_URL</th>\n    </tr>\n  </thead>\n  <tbody>\n    <tr>\n      <th>0</th>\n      <td>http://login.live.com.office.autooffc29536.eup...</td>\n    </tr>\n    <tr>\n      <th>1</th>\n      <td>https://releases.jquery.com/</td>\n    </tr>\n    <tr>\n      <th>2</th>\n      <td>https://code.jquery.com/</td>\n    </tr>\n    <tr>\n      <th>3</th>\n      <td>https://app.ether.fi/blocked</td>\n    </tr>\n    <tr>\n      <th>4</th>\n      <td>https://fonts.googleapis.com/css2?family=Open+...</td>\n    </tr>\n  </tbody>\n</table>\n</div>"
     },
     "execution_count": 65,
     "metadata": {},
     "output_type": "execute_result"
    }
   ],
   "source": [
    "non_phish_data_df2 = pd.DataFrame(non_phish_data_df2)\n",
    "non_phish_data_df2.rename({'': 'ID', 'PHISH_URL': 'NON_PHISH_URL'}, axis=1, inplace=True)\n",
    "non_phish_data_df2.head()"
   ]
  },
  {
   "cell_type": "code",
   "execution_count": 66,
   "id": "dd0517ddccd791e8",
   "metadata": {
    "collapsed": false,
    "ExecuteTime": {
     "end_time": "2024-04-27T17:15:37.782342Z",
     "start_time": "2024-04-27T17:15:37.768599300Z"
    }
   },
   "outputs": [
    {
     "data": {
      "text/plain": "                              NON_PHISH_URL\n0              https://releases.jquery.com/\n1                  https://code.jquery.com/\n2              https://app.ether.fi/blocked\n3  https://efty.com/d/2zfr2/NeonClaims.com/\n4         https://www.yahoo.com/?&sid=74508",
      "text/html": "<div>\n<style scoped>\n    .dataframe tbody tr th:only-of-type {\n        vertical-align: middle;\n    }\n\n    .dataframe tbody tr th {\n        vertical-align: top;\n    }\n\n    .dataframe thead th {\n        text-align: right;\n    }\n</style>\n<table border=\"1\" class=\"dataframe\">\n  <thead>\n    <tr style=\"text-align: right;\">\n      <th></th>\n      <th>NON_PHISH_URL</th>\n    </tr>\n  </thead>\n  <tbody>\n    <tr>\n      <th>0</th>\n      <td>https://releases.jquery.com/</td>\n    </tr>\n    <tr>\n      <th>1</th>\n      <td>https://code.jquery.com/</td>\n    </tr>\n    <tr>\n      <th>2</th>\n      <td>https://app.ether.fi/blocked</td>\n    </tr>\n    <tr>\n      <th>3</th>\n      <td>https://efty.com/d/2zfr2/NeonClaims.com/</td>\n    </tr>\n    <tr>\n      <th>4</th>\n      <td>https://www.yahoo.com/?&amp;sid=74508</td>\n    </tr>\n  </tbody>\n</table>\n</div>"
     },
     "execution_count": 66,
     "metadata": {},
     "output_type": "execute_result"
    }
   ],
   "source": [
    "non_phish_data_df3 = pd.DataFrame(non_phish_data_df3)\n",
    "non_phish_data_df3.rename({'': 'ID', 'PHISH_URL': 'NON_PHISH_URL'}, axis=1, inplace=True)\n",
    "non_phish_data_df3.head()"
   ]
  },
  {
   "cell_type": "code",
   "execution_count": 67,
   "id": "28e241e098626a14",
   "metadata": {
    "collapsed": false,
    "ExecuteTime": {
     "end_time": "2024-04-27T17:15:38.817110200Z",
     "start_time": "2024-04-27T17:15:38.790658900Z"
    }
   },
   "outputs": [
    {
     "data": {
      "text/plain": "                                       NON_PHISH_URL\n0        https://mp3raid.com/music/krizz_kaliko.html\n1            https://bopsecrets.org/rexroth/cr/1.htm\n2  https://http://buzzfil.net/m/show-art/ils-etai...\n3  https://espn.go.com/nba/player/_/id/3457/brand...\n4  https://yourbittorrent.com/?q=anthony-hamilton...",
      "text/html": "<div>\n<style scoped>\n    .dataframe tbody tr th:only-of-type {\n        vertical-align: middle;\n    }\n\n    .dataframe tbody tr th {\n        vertical-align: top;\n    }\n\n    .dataframe thead th {\n        text-align: right;\n    }\n</style>\n<table border=\"1\" class=\"dataframe\">\n  <thead>\n    <tr style=\"text-align: right;\">\n      <th></th>\n      <th>NON_PHISH_URL</th>\n    </tr>\n  </thead>\n  <tbody>\n    <tr>\n      <th>0</th>\n      <td>https://mp3raid.com/music/krizz_kaliko.html</td>\n    </tr>\n    <tr>\n      <th>1</th>\n      <td>https://bopsecrets.org/rexroth/cr/1.htm</td>\n    </tr>\n    <tr>\n      <th>2</th>\n      <td>https://http://buzzfil.net/m/show-art/ils-etai...</td>\n    </tr>\n    <tr>\n      <th>3</th>\n      <td>https://espn.go.com/nba/player/_/id/3457/brand...</td>\n    </tr>\n    <tr>\n      <th>4</th>\n      <td>https://yourbittorrent.com/?q=anthony-hamilton...</td>\n    </tr>\n  </tbody>\n</table>\n</div>"
     },
     "execution_count": 67,
     "metadata": {},
     "output_type": "execute_result"
    }
   ],
   "source": [
    "benign_data_from_kaggle_df4 = pd.DataFrame(benign_data_from_kaggle_df4)\n",
    "benign_data_from_kaggle_df4.rename({'': 'ID', 'url': 'NON_PHISH_URL'}, axis=1, inplace=True)\n",
    "benign_data_from_kaggle_df4.head()"
   ]
  },
  {
   "cell_type": "code",
   "outputs": [
    {
     "data": {
      "text/plain": "                                           PHISH_URL\n0                                   br-icloud.com.br\n1         signin.eby.de.zukruygxctzmmqi.civpro.co.za\n2  http://www.marketingbyinternet.com/mo/e56508df...\n3  https://docs.google.com/spreadsheet/viewform?f...\n4                               retajconsultancy.com",
      "text/html": "<div>\n<style scoped>\n    .dataframe tbody tr th:only-of-type {\n        vertical-align: middle;\n    }\n\n    .dataframe tbody tr th {\n        vertical-align: top;\n    }\n\n    .dataframe thead th {\n        text-align: right;\n    }\n</style>\n<table border=\"1\" class=\"dataframe\">\n  <thead>\n    <tr style=\"text-align: right;\">\n      <th></th>\n      <th>PHISH_URL</th>\n    </tr>\n  </thead>\n  <tbody>\n    <tr>\n      <th>0</th>\n      <td>br-icloud.com.br</td>\n    </tr>\n    <tr>\n      <th>1</th>\n      <td>signin.eby.de.zukruygxctzmmqi.civpro.co.za</td>\n    </tr>\n    <tr>\n      <th>2</th>\n      <td>http://www.marketingbyinternet.com/mo/e56508df...</td>\n    </tr>\n    <tr>\n      <th>3</th>\n      <td>https://docs.google.com/spreadsheet/viewform?f...</td>\n    </tr>\n    <tr>\n      <th>4</th>\n      <td>retajconsultancy.com</td>\n    </tr>\n  </tbody>\n</table>\n</div>"
     },
     "execution_count": 68,
     "metadata": {},
     "output_type": "execute_result"
    }
   ],
   "source": [
    "phish_data_from_kaggle_df4_1 = pd.DataFrame(phish_data_from_kaggle_df4_1)\n",
    "phish_data_from_kaggle_df4_1.rename({'': 'ID', 'url': 'PHISH_URL'}, axis=1, inplace=True)\n",
    "phish_data_from_kaggle_df4_1.head()"
   ],
   "metadata": {
    "collapsed": false,
    "ExecuteTime": {
     "end_time": "2024-04-27T17:15:41.287771200Z",
     "start_time": "2024-04-27T17:15:41.274114400Z"
    }
   },
   "id": "73bb61aa26e31ce0",
   "execution_count": 68
  },
  {
   "cell_type": "code",
   "execution_count": 69,
   "id": "7289eb48214344aa",
   "metadata": {
    "collapsed": false,
    "ExecuteTime": {
     "end_time": "2024-04-27T17:15:52.397978500Z",
     "start_time": "2024-04-27T17:15:52.383884100Z"
    }
   },
   "outputs": [
    {
     "data": {
      "text/plain": "                                       NON_PHISH_URL\n0  http://login.live.com.office.autooffc29536.eup...\n1                       https://releases.jquery.com/\n2                           https://code.jquery.com/\n3                       https://app.ether.fi/blocked\n4  https://fonts.googleapis.com/css2?family=Open+...",
      "text/html": "<div>\n<style scoped>\n    .dataframe tbody tr th:only-of-type {\n        vertical-align: middle;\n    }\n\n    .dataframe tbody tr th {\n        vertical-align: top;\n    }\n\n    .dataframe thead th {\n        text-align: right;\n    }\n</style>\n<table border=\"1\" class=\"dataframe\">\n  <thead>\n    <tr style=\"text-align: right;\">\n      <th></th>\n      <th>NON_PHISH_URL</th>\n    </tr>\n  </thead>\n  <tbody>\n    <tr>\n      <th>0</th>\n      <td>http://login.live.com.office.autooffc29536.eup...</td>\n    </tr>\n    <tr>\n      <th>1</th>\n      <td>https://releases.jquery.com/</td>\n    </tr>\n    <tr>\n      <th>2</th>\n      <td>https://code.jquery.com/</td>\n    </tr>\n    <tr>\n      <th>3</th>\n      <td>https://app.ether.fi/blocked</td>\n    </tr>\n    <tr>\n      <th>4</th>\n      <td>https://fonts.googleapis.com/css2?family=Open+...</td>\n    </tr>\n  </tbody>\n</table>\n</div>"
     },
     "execution_count": 69,
     "metadata": {},
     "output_type": "execute_result"
    }
   ],
   "source": [
    "legitimate_concatenated_with_deleted_dots_df5 = pd.concat([non_phish_data_df2, benign_data_from_kaggle_df4])\n",
    "legitimate_concatenated_with_deleted_dots_df5.head()"
   ]
  },
  {
   "cell_type": "code",
   "execution_count": 75,
   "id": "32da7b7bb61c8bad",
   "metadata": {
    "collapsed": false,
    "ExecuteTime": {
     "end_time": "2024-04-27T17:18:14.850821Z",
     "start_time": "2024-04-27T17:18:14.751129800Z"
    }
   },
   "outputs": [
    {
     "data": {
      "text/plain": "                              NON_PHISH_URL\n0              https://releases.jquery.com/\n1                  https://code.jquery.com/\n2              https://app.ether.fi/blocked\n3  https://efty.com/d/2zfr2/NeonClaims.com/\n4         https://www.yahoo.com/?&sid=74508",
      "text/html": "<div>\n<style scoped>\n    .dataframe tbody tr th:only-of-type {\n        vertical-align: middle;\n    }\n\n    .dataframe tbody tr th {\n        vertical-align: top;\n    }\n\n    .dataframe thead th {\n        text-align: right;\n    }\n</style>\n<table border=\"1\" class=\"dataframe\">\n  <thead>\n    <tr style=\"text-align: right;\">\n      <th></th>\n      <th>NON_PHISH_URL</th>\n    </tr>\n  </thead>\n  <tbody>\n    <tr>\n      <th>0</th>\n      <td>https://releases.jquery.com/</td>\n    </tr>\n    <tr>\n      <th>1</th>\n      <td>https://code.jquery.com/</td>\n    </tr>\n    <tr>\n      <th>2</th>\n      <td>https://app.ether.fi/blocked</td>\n    </tr>\n    <tr>\n      <th>3</th>\n      <td>https://efty.com/d/2zfr2/NeonClaims.com/</td>\n    </tr>\n    <tr>\n      <th>4</th>\n      <td>https://www.yahoo.com/?&amp;sid=74508</td>\n    </tr>\n  </tbody>\n</table>\n</div>"
     },
     "execution_count": 75,
     "metadata": {},
     "output_type": "execute_result"
    }
   ],
   "source": [
    "legitimate_concatenated_with_doped_urls_with_dots_df6 = pd.concat([non_phish_data_df3, benign_data_from_kaggle_df4]).reset_index(drop=True)\n",
    "legitimate_concatenated_with_doped_urls_with_dots_df6.head()"
   ]
  },
  {
   "cell_type": "code",
   "outputs": [
    {
     "data": {
      "text/plain": "                                            PHISH_URL\n154910        xbox360.ign.com/objects/850/850402.html\n154911   games.teamxbox.com/xbox-360/1860/Dead-Space/\n154912     www.gamespot.com/xbox360/action/deadspace/\n154913  en.wikipedia.org/wiki/Dead_Space_(video_game)\n154914      www.angelfire.com/goth/devilmaycrytonite/",
      "text/html": "<div>\n<style scoped>\n    .dataframe tbody tr th:only-of-type {\n        vertical-align: middle;\n    }\n\n    .dataframe tbody tr th {\n        vertical-align: top;\n    }\n\n    .dataframe thead th {\n        text-align: right;\n    }\n</style>\n<table border=\"1\" class=\"dataframe\">\n  <thead>\n    <tr style=\"text-align: right;\">\n      <th></th>\n      <th>PHISH_URL</th>\n    </tr>\n  </thead>\n  <tbody>\n    <tr>\n      <th>154910</th>\n      <td>xbox360.ign.com/objects/850/850402.html</td>\n    </tr>\n    <tr>\n      <th>154911</th>\n      <td>games.teamxbox.com/xbox-360/1860/Dead-Space/</td>\n    </tr>\n    <tr>\n      <th>154912</th>\n      <td>www.gamespot.com/xbox360/action/deadspace/</td>\n    </tr>\n    <tr>\n      <th>154913</th>\n      <td>en.wikipedia.org/wiki/Dead_Space_(video_game)</td>\n    </tr>\n    <tr>\n      <th>154914</th>\n      <td>www.angelfire.com/goth/devilmaycrytonite/</td>\n    </tr>\n  </tbody>\n</table>\n</div>"
     },
     "execution_count": 76,
     "metadata": {},
     "output_type": "execute_result"
    }
   ],
   "source": [
    "phish_concatenated_urls_df7 = pd.concat([phish_data_df1, phish_data_from_kaggle_df4_1]).reset_index(drop=True)\n",
    "phish_concatenated_urls_df7.tail()"
   ],
   "metadata": {
    "collapsed": false,
    "ExecuteTime": {
     "end_time": "2024-04-27T17:18:27.220279800Z",
     "start_time": "2024-04-27T17:18:27.176015100Z"
    }
   },
   "id": "9dfd78f72f643e85",
   "execution_count": 76
  },
  {
   "cell_type": "markdown",
   "id": "2e594ce07ab7a228",
   "metadata": {
    "collapsed": false
   },
   "source": [
    "##### Length of concatenated DataFrames:"
   ]
  },
  {
   "cell_type": "code",
   "execution_count": 83,
   "id": "364e0a3a18b4ff35",
   "metadata": {
    "collapsed": false,
    "ExecuteTime": {
     "end_time": "2024-04-27T17:20:22.635775900Z",
     "start_time": "2024-04-27T17:20:22.627678Z"
    }
   },
   "outputs": [
    {
     "data": {
      "text/plain": "(154832, 1)"
     },
     "execution_count": 83,
     "metadata": {},
     "output_type": "execute_result"
    }
   ],
   "source": [
    "phish_concatenated_urls_df7.shape"
   ]
  },
  {
   "cell_type": "code",
   "execution_count": 92,
   "id": "aa336c55d5bf941",
   "metadata": {
    "collapsed": false,
    "ExecuteTime": {
     "end_time": "2024-04-27T19:59:17.564897200Z",
     "start_time": "2024-04-27T19:59:17.477902400Z"
    }
   },
   "outputs": [
    {
     "data": {
      "text/plain": "(154832, 2)"
     },
     "execution_count": 92,
     "metadata": {},
     "output_type": "execute_result"
    }
   ],
   "source": [
    "phish_concatenated_urls_df7 = pd.DataFrame(phish_concatenated_urls_df7['PHISH_URL'].drop_duplicates())\n",
    "phish_concatenated_urls_df7 = phish_concatenated_urls_df7.assign(label=pd.Series([1]*len(phish_concatenated_urls_df7), index=phish_concatenated_urls_df7.index))\n",
    "phish_concatenated_urls_df7.shape"
   ]
  },
  {
   "cell_type": "code",
   "outputs": [
    {
     "data": {
      "text/plain": "                                      PHISH_URL  label\n0              https://ollx.1792836.xyz/captcha      1\n1                https://ufakick456.com/captcha      1\n2             https://keyeseuropean.com/captcha      1\n3  https://allegr0lokalnie.83473636.xyz/captcha      1\n4                http://ufakick456.com/fb7pl5qw      1",
      "text/html": "<div>\n<style scoped>\n    .dataframe tbody tr th:only-of-type {\n        vertical-align: middle;\n    }\n\n    .dataframe tbody tr th {\n        vertical-align: top;\n    }\n\n    .dataframe thead th {\n        text-align: right;\n    }\n</style>\n<table border=\"1\" class=\"dataframe\">\n  <thead>\n    <tr style=\"text-align: right;\">\n      <th></th>\n      <th>PHISH_URL</th>\n      <th>label</th>\n    </tr>\n  </thead>\n  <tbody>\n    <tr>\n      <th>0</th>\n      <td>https://ollx.1792836.xyz/captcha</td>\n      <td>1</td>\n    </tr>\n    <tr>\n      <th>1</th>\n      <td>https://ufakick456.com/captcha</td>\n      <td>1</td>\n    </tr>\n    <tr>\n      <th>2</th>\n      <td>https://keyeseuropean.com/captcha</td>\n      <td>1</td>\n    </tr>\n    <tr>\n      <th>3</th>\n      <td>https://allegr0lokalnie.83473636.xyz/captcha</td>\n      <td>1</td>\n    </tr>\n    <tr>\n      <th>4</th>\n      <td>http://ufakick456.com/fb7pl5qw</td>\n      <td>1</td>\n    </tr>\n  </tbody>\n</table>\n</div>"
     },
     "execution_count": 93,
     "metadata": {},
     "output_type": "execute_result"
    }
   ],
   "source": [
    "phish_concatenated_urls_df7.head()"
   ],
   "metadata": {
    "collapsed": false,
    "ExecuteTime": {
     "end_time": "2024-04-27T19:59:27.619048400Z",
     "start_time": "2024-04-27T19:59:27.606084400Z"
    }
   },
   "id": "dad0c531323e2d9",
   "execution_count": 93
  },
  {
   "cell_type": "code",
   "execution_count": 85,
   "id": "1bfa50613aa3bc6d",
   "metadata": {
    "collapsed": false,
    "ExecuteTime": {
     "end_time": "2024-04-27T17:20:29.667755300Z",
     "start_time": "2024-04-27T17:20:29.659433700Z"
    }
   },
   "outputs": [
    {
     "data": {
      "text/plain": "(457807, 1)"
     },
     "execution_count": 85,
     "metadata": {},
     "output_type": "execute_result"
    }
   ],
   "source": [
    "legitimate_concatenated_with_deleted_dots_df5.shape"
   ]
  },
  {
   "cell_type": "code",
   "execution_count": 94,
   "id": "ed184a7212fe27ab",
   "metadata": {
    "collapsed": false,
    "ExecuteTime": {
     "end_time": "2024-04-27T20:01:04.062531900Z",
     "start_time": "2024-04-27T20:01:03.881017800Z"
    }
   },
   "outputs": [
    {
     "data": {
      "text/plain": "(457807, 2)"
     },
     "execution_count": 94,
     "metadata": {},
     "output_type": "execute_result"
    }
   ],
   "source": [
    "legitimate_concatenated_with_deleted_dots_df5 = pd.DataFrame(legitimate_concatenated_with_deleted_dots_df5['NON_PHISH_URL'].drop_duplicates())\n",
    "legitimate_concatenated_with_deleted_dots_df5 = legitimate_concatenated_with_deleted_dots_df5.assign(\n",
    "    label=pd.Series([0]*len(legitimate_concatenated_with_deleted_dots_df5), index=legitimate_concatenated_with_deleted_dots_df5.index))\n",
    "legitimate_concatenated_with_deleted_dots_df5.shape"
   ]
  },
  {
   "cell_type": "code",
   "outputs": [
    {
     "data": {
      "text/plain": "                                       NON_PHISH_URL  label\n0  http://login.live.com.office.autooffc29536.eup...      0\n1                       https://releases.jquery.com/      0\n2                           https://code.jquery.com/      0\n3                       https://app.ether.fi/blocked      0\n4  https://fonts.googleapis.com/css2?family=Open+...      0",
      "text/html": "<div>\n<style scoped>\n    .dataframe tbody tr th:only-of-type {\n        vertical-align: middle;\n    }\n\n    .dataframe tbody tr th {\n        vertical-align: top;\n    }\n\n    .dataframe thead th {\n        text-align: right;\n    }\n</style>\n<table border=\"1\" class=\"dataframe\">\n  <thead>\n    <tr style=\"text-align: right;\">\n      <th></th>\n      <th>NON_PHISH_URL</th>\n      <th>label</th>\n    </tr>\n  </thead>\n  <tbody>\n    <tr>\n      <th>0</th>\n      <td>http://login.live.com.office.autooffc29536.eup...</td>\n      <td>0</td>\n    </tr>\n    <tr>\n      <th>1</th>\n      <td>https://releases.jquery.com/</td>\n      <td>0</td>\n    </tr>\n    <tr>\n      <th>2</th>\n      <td>https://code.jquery.com/</td>\n      <td>0</td>\n    </tr>\n    <tr>\n      <th>3</th>\n      <td>https://app.ether.fi/blocked</td>\n      <td>0</td>\n    </tr>\n    <tr>\n      <th>4</th>\n      <td>https://fonts.googleapis.com/css2?family=Open+...</td>\n      <td>0</td>\n    </tr>\n  </tbody>\n</table>\n</div>"
     },
     "execution_count": 95,
     "metadata": {},
     "output_type": "execute_result"
    }
   ],
   "source": [
    "legitimate_concatenated_with_deleted_dots_df5.head()"
   ],
   "metadata": {
    "collapsed": false,
    "ExecuteTime": {
     "end_time": "2024-04-27T20:01:04.798161100Z",
     "start_time": "2024-04-27T20:01:04.785975700Z"
    }
   },
   "id": "1b179c2447806838",
   "execution_count": 95
  },
  {
   "cell_type": "code",
   "execution_count": 87,
   "id": "b9e80f7dca8abcdc",
   "metadata": {
    "collapsed": false,
    "ExecuteTime": {
     "end_time": "2024-04-27T17:20:30.259047200Z",
     "start_time": "2024-04-27T17:20:30.247568100Z"
    }
   },
   "outputs": [
    {
     "data": {
      "text/plain": "(443531, 1)"
     },
     "execution_count": 87,
     "metadata": {},
     "output_type": "execute_result"
    }
   ],
   "source": [
    "legitimate_concatenated_with_doped_urls_with_dots_df6.shape"
   ]
  },
  {
   "cell_type": "code",
   "execution_count": 98,
   "id": "fbd7f285e5696cbe",
   "metadata": {
    "collapsed": false,
    "ExecuteTime": {
     "end_time": "2024-04-27T20:03:44.354603800Z",
     "start_time": "2024-04-27T20:03:44.210160600Z"
    }
   },
   "outputs": [
    {
     "data": {
      "text/plain": "(443531, 2)"
     },
     "execution_count": 98,
     "metadata": {},
     "output_type": "execute_result"
    }
   ],
   "source": [
    "legitimate_concatenated_with_doped_urls_with_dots_df6 = pd.DataFrame(legitimate_concatenated_with_doped_urls_with_dots_df6['NON_PHISH_URL'].drop_duplicates())\n",
    "legitimate_concatenated_with_doped_urls_with_dots_df6 = legitimate_concatenated_with_doped_urls_with_dots_df6.assign(\n",
    "    label=pd.Series([0]*len(legitimate_concatenated_with_doped_urls_with_dots_df6), index=legitimate_concatenated_with_doped_urls_with_dots_df6.index))\n",
    "legitimate_concatenated_with_doped_urls_with_dots_df6.shape"
   ]
  },
  {
   "cell_type": "code",
   "outputs": [
    {
     "data": {
      "text/plain": "                              NON_PHISH_URL  label\n0              https://releases.jquery.com/      0\n1                  https://code.jquery.com/      0\n2              https://app.ether.fi/blocked      0\n3  https://efty.com/d/2zfr2/NeonClaims.com/      0\n4         https://www.yahoo.com/?&sid=74508      0",
      "text/html": "<div>\n<style scoped>\n    .dataframe tbody tr th:only-of-type {\n        vertical-align: middle;\n    }\n\n    .dataframe tbody tr th {\n        vertical-align: top;\n    }\n\n    .dataframe thead th {\n        text-align: right;\n    }\n</style>\n<table border=\"1\" class=\"dataframe\">\n  <thead>\n    <tr style=\"text-align: right;\">\n      <th></th>\n      <th>NON_PHISH_URL</th>\n      <th>label</th>\n    </tr>\n  </thead>\n  <tbody>\n    <tr>\n      <th>0</th>\n      <td>https://releases.jquery.com/</td>\n      <td>0</td>\n    </tr>\n    <tr>\n      <th>1</th>\n      <td>https://code.jquery.com/</td>\n      <td>0</td>\n    </tr>\n    <tr>\n      <th>2</th>\n      <td>https://app.ether.fi/blocked</td>\n      <td>0</td>\n    </tr>\n    <tr>\n      <th>3</th>\n      <td>https://efty.com/d/2zfr2/NeonClaims.com/</td>\n      <td>0</td>\n    </tr>\n    <tr>\n      <th>4</th>\n      <td>https://www.yahoo.com/?&amp;sid=74508</td>\n      <td>0</td>\n    </tr>\n  </tbody>\n</table>\n</div>"
     },
     "execution_count": 99,
     "metadata": {},
     "output_type": "execute_result"
    }
   ],
   "source": [
    "legitimate_concatenated_with_doped_urls_with_dots_df6.head()"
   ],
   "metadata": {
    "collapsed": false,
    "ExecuteTime": {
     "end_time": "2024-04-27T20:03:45.795297900Z",
     "start_time": "2024-04-27T20:03:45.780310900Z"
    }
   },
   "id": "d3ee3032faa729e5",
   "execution_count": 99
  },
  {
   "cell_type": "markdown",
   "id": "58f3cbb025637d04",
   "metadata": {
    "collapsed": false
   },
   "source": [
    "#### Saving into files"
   ]
  },
  {
   "cell_type": "code",
   "execution_count": 100,
   "id": "8061b025c056b71",
   "metadata": {
    "collapsed": false,
    "ExecuteTime": {
     "end_time": "2024-04-27T20:04:23.503454500Z",
     "start_time": "2024-04-27T20:04:23.246080400Z"
    }
   },
   "outputs": [],
   "source": [
    "phish_concatenated_urls_df7.to_csv('preprocessed_data/phish_data.csv')"
   ]
  },
  {
   "cell_type": "code",
   "execution_count": 101,
   "id": "cdf52b673883b8fd",
   "metadata": {
    "collapsed": false,
    "ExecuteTime": {
     "end_time": "2024-04-27T20:04:25.293374900Z",
     "start_time": "2024-04-27T20:04:24.131872400Z"
    }
   },
   "outputs": [],
   "source": [
    "legitimate_concatenated_with_deleted_dots_df5.to_csv('preprocessed_data/non_phish_data_longer.csv')"
   ]
  },
  {
   "cell_type": "code",
   "execution_count": 102,
   "id": "9b207719d10cb44",
   "metadata": {
    "collapsed": false,
    "ExecuteTime": {
     "end_time": "2024-04-27T20:04:26.781490100Z",
     "start_time": "2024-04-27T20:04:25.894119300Z"
    }
   },
   "outputs": [],
   "source": [
    "legitimate_concatenated_with_doped_urls_with_dots_df6.to_csv('preprocessed_data/non_phish_data_shorter.csv')"
   ]
  },
  {
   "cell_type": "markdown",
   "id": "43d16d9c6e9b2c9",
   "metadata": {
    "collapsed": false
   },
   "source": [
    "### 6. Data are prepared for analysis and ML"
   ]
  },
  {
   "cell_type": "markdown",
   "source": [],
   "metadata": {
    "collapsed": false
   },
   "id": "c0b7436b45bd263e"
  }
 ],
 "metadata": {
  "kernelspec": {
   "display_name": "Python 3 (ipykernel)",
   "language": "python",
   "name": "python3"
  },
  "language_info": {
   "codemirror_mode": {
    "name": "ipython",
    "version": 3
   },
   "file_extension": ".py",
   "mimetype": "text/x-python",
   "name": "python",
   "nbconvert_exporter": "python",
   "pygments_lexer": "ipython3",
   "version": "3.11.5"
  }
 },
 "nbformat": 4,
 "nbformat_minor": 5
}
