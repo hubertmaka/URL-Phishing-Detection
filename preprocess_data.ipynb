{
 "cells": [
  {
   "cell_type": "markdown",
   "id": "d354e06d4ce741dd",
   "metadata": {
    "collapsed": false,
    "jupyter": {
     "outputs_hidden": false
    }
   },
   "source": [
    "# Preprocessing Files "
   ]
  },
  {
   "cell_type": "markdown",
   "id": "3fda358511495a6d",
   "metadata": {
    "collapsed": false,
    "jupyter": {
     "outputs_hidden": false
    }
   },
   "source": [
    "## In this file, urls from the collected data are cleaned and structured"
   ]
  },
  {
   "cell_type": "markdown",
   "id": "78327d1874cd1cae",
   "metadata": {
    "collapsed": false,
    "jupyter": {
     "outputs_hidden": false
    }
   },
   "source": [
    "### 1. Import libraries"
   ]
  },
  {
   "cell_type": "code",
   "execution_count": null,
   "id": "51343d58226c8da4",
   "metadata": {
    "ExecuteTime": {
     "end_time": "2024-04-26T21:07:23.743049500Z",
     "start_time": "2024-04-26T21:07:23.734936500Z"
    },
    "collapsed": false,
    "jupyter": {
     "outputs_hidden": false
    }
   },
   "outputs": [],
   "source": [
    "import pandas as pd"
   ]
  },
  {
   "cell_type": "markdown",
   "id": "d0055d190a77eead",
   "metadata": {
    "collapsed": false,
    "jupyter": {
     "outputs_hidden": false
    }
   },
   "source": [
    "### 2. Loading collected data from files"
   ]
  },
  {
   "cell_type": "markdown",
   "id": "14869e26c2ed60cd",
   "metadata": {
    "collapsed": false,
    "jupyter": {
     "outputs_hidden": false
    }
   },
   "source": [
    "The data is mainly collected from Phishtank and URL dataset ISCX-URL-2016 (present on kaggle), but some data is polluted or unnecessary (urls with malware or defacement). Data sources:\n",
    "- https://www.kaggle.com/datasets/sid321axn/malicious-urls-dataset/data (benign data from: https://www.unb.ca/cic/datasets/url-2016.html)\n",
    "- https://phishtank.org/ (online validated and https://phishtank.org/phish_search.php?valid=n&active=All&Search=Search)"
   ]
  },
  {
   "cell_type": "code",
   "execution_count": null,
   "id": "b3a2dfbc57239227",
   "metadata": {
    "ExecuteTime": {
     "end_time": "2024-04-26T21:07:25.364124400Z",
     "start_time": "2024-04-26T21:07:24.311641800Z"
    },
    "collapsed": false,
    "jupyter": {
     "outputs_hidden": false
    }
   },
   "outputs": [],
   "source": [
    "phish_data_from_phishtank = pd.read_csv('./datasets/verified_online.csv')\n",
    "non_phish_data_from_phishtank_scraped = pd.read_csv('./datasets/non-phishing-urls-phishtank-final.csv')\n",
    "data_from_kaggle = pd.read_csv('./datasets/malicious_phish.csv')"
   ]
  },
  {
   "cell_type": "markdown",
   "id": "d3964098879e5be5",
   "metadata": {
    "collapsed": false,
    "jupyter": {
     "outputs_hidden": false
    }
   },
   "source": [
    "### 3. First look on the data"
   ]
  },
  {
   "cell_type": "code",
   "execution_count": null,
   "id": "93d3fdf18dfa1ff7",
   "metadata": {
    "ExecuteTime": {
     "end_time": "2024-04-26T21:07:25.376575200Z",
     "start_time": "2024-04-26T21:07:25.364124400Z"
    },
    "collapsed": false,
    "jupyter": {
     "outputs_hidden": false
    }
   },
   "outputs": [],
   "source": [
    "phish_data_from_phishtank.head(10)"
   ]
  },
  {
   "cell_type": "code",
   "execution_count": null,
   "id": "44f874e74f78d4c8",
   "metadata": {
    "ExecuteTime": {
     "end_time": "2024-04-26T21:07:25.380953200Z",
     "start_time": "2024-04-26T21:07:25.373582200Z"
    },
    "collapsed": false,
    "jupyter": {
     "outputs_hidden": false
    }
   },
   "outputs": [],
   "source": [
    "non_phish_data_from_phishtank_scraped.head(10)"
   ]
  },
  {
   "cell_type": "code",
   "execution_count": null,
   "id": "ad0abe0f2481d4ca",
   "metadata": {
    "ExecuteTime": {
     "end_time": "2024-04-26T21:07:25.407773300Z",
     "start_time": "2024-04-26T21:07:25.381950600Z"
    },
    "collapsed": false,
    "jupyter": {
     "outputs_hidden": false
    }
   },
   "outputs": [],
   "source": [
    "data_from_kaggle.head(10)"
   ]
  },
  {
   "cell_type": "markdown",
   "id": "77dd03e9f7a1bb3e",
   "metadata": {
    "collapsed": false,
    "jupyter": {
     "outputs_hidden": false
    }
   },
   "source": [
    "##### Length of these datasets:"
   ]
  },
  {
   "cell_type": "code",
   "execution_count": null,
   "id": "d28a448c1cb8975e",
   "metadata": {
    "ExecuteTime": {
     "end_time": "2024-04-26T21:07:25.688144800Z",
     "start_time": "2024-04-26T21:07:25.576468500Z"
    },
    "collapsed": false,
    "jupyter": {
     "outputs_hidden": false
    }
   },
   "outputs": [],
   "source": [
    "len(phish_data_from_phishtank)"
   ]
  },
  {
   "cell_type": "code",
   "execution_count": null,
   "id": "5005e33a405a4046",
   "metadata": {
    "ExecuteTime": {
     "end_time": "2024-04-26T21:07:25.838722800Z",
     "start_time": "2024-04-26T21:07:25.822089400Z"
    },
    "collapsed": false,
    "jupyter": {
     "outputs_hidden": false
    }
   },
   "outputs": [],
   "source": [
    "len(non_phish_data_from_phishtank_scraped)"
   ]
  },
  {
   "cell_type": "code",
   "execution_count": null,
   "id": "f701bf7866ca1068",
   "metadata": {
    "ExecuteTime": {
     "end_time": "2024-04-26T21:07:26.033704Z",
     "start_time": "2024-04-26T21:07:25.986587Z"
    },
    "collapsed": false,
    "jupyter": {
     "outputs_hidden": false
    }
   },
   "outputs": [],
   "source": [
    "len(data_from_kaggle)"
   ]
  },
  {
   "cell_type": "code",
   "execution_count": null,
   "id": "c52e2a1459b1fdf9",
   "metadata": {
    "ExecuteTime": {
     "end_time": "2024-04-26T21:07:26.150842100Z",
     "start_time": "2024-04-26T21:07:26.140004700Z"
    },
    "collapsed": false,
    "jupyter": {
     "outputs_hidden": false
    }
   },
   "outputs": [],
   "source": [
    "phish_data_from_phishtank.shape"
   ]
  },
  {
   "cell_type": "code",
   "execution_count": null,
   "id": "3fee88aec0f0b149",
   "metadata": {
    "ExecuteTime": {
     "end_time": "2024-04-26T21:07:26.364098600Z",
     "start_time": "2024-04-26T21:07:26.341477800Z"
    },
    "collapsed": false,
    "jupyter": {
     "outputs_hidden": false
    }
   },
   "outputs": [],
   "source": [
    "non_phish_data_from_phishtank_scraped.shape"
   ]
  },
  {
   "cell_type": "code",
   "execution_count": null,
   "id": "caabfc2793989a60",
   "metadata": {
    "ExecuteTime": {
     "end_time": "2024-04-26T21:07:26.583909100Z",
     "start_time": "2024-04-26T21:07:26.569875600Z"
    },
    "collapsed": false,
    "jupyter": {
     "outputs_hidden": false
    }
   },
   "outputs": [],
   "source": [
    "data_from_kaggle.shape"
   ]
  },
  {
   "cell_type": "markdown",
   "id": "3ed0e8f4de3c8d89",
   "metadata": {
    "collapsed": false,
    "jupyter": {
     "outputs_hidden": false
    }
   },
   "source": [
    "### 4. Prepare data to save in new files"
   ]
  },
  {
   "cell_type": "markdown",
   "id": "563c8f20f5bfc911",
   "metadata": {
    "collapsed": false,
    "jupyter": {
     "outputs_hidden": false
    }
   },
   "source": [
    "#### 4.1 Preprocessing phish urls from phishtank\n",
    "##### In this part the index is being reset urls are saved to new DataFrame."
   ]
  },
  {
   "cell_type": "code",
   "execution_count": null,
   "id": "8708223e03d009bf",
   "metadata": {
    "ExecuteTime": {
     "end_time": "2024-04-26T21:07:28.049876400Z",
     "start_time": "2024-04-26T21:07:28.037140700Z"
    },
    "collapsed": false,
    "jupyter": {
     "outputs_hidden": false
    }
   },
   "outputs": [],
   "source": [
    "phish_data_from_phishtank.head()"
   ]
  },
  {
   "cell_type": "code",
   "execution_count": null,
   "id": "85e559d99aa5cff6",
   "metadata": {
    "ExecuteTime": {
     "end_time": "2024-04-26T21:07:29.985918Z",
     "start_time": "2024-04-26T21:07:29.949173200Z"
    },
    "collapsed": false,
    "jupyter": {
     "outputs_hidden": false
    }
   },
   "outputs": [],
   "source": [
    "phish_data_df1 = phish_data_from_phishtank['url']\n",
    "phish_data_df1"
   ]
  },
  {
   "cell_type": "markdown",
   "id": "f8a09e24cf1f08f4",
   "metadata": {
    "collapsed": false,
    "jupyter": {
     "outputs_hidden": false
    }
   },
   "source": [
    "#### 4.2 Preprocessing non phish urls from phishtank (scraped)\n",
    "##### In this part the index is being reset urls are saved to new DataFrame. Data is saved to two DataFrames. Df2 contains urls with deleted dots '...' occurring on the end of url (not all url scraped). Df3 contains urls without this urls (they are dropped)."
   ]
  },
  {
   "cell_type": "markdown",
   "id": "52dfb863ee6f7cac",
   "metadata": {
    "collapsed": false,
    "jupyter": {
     "outputs_hidden": false
    }
   },
   "source": [
    "##### Shortening data to not to old (oldest November 2015)"
   ]
  },
  {
   "cell_type": "code",
   "execution_count": null,
   "id": "d0d8d684df763a00",
   "metadata": {
    "ExecuteTime": {
     "end_time": "2024-04-26T21:07:31.593827400Z",
     "start_time": "2024-04-26T21:07:31.582297Z"
    },
    "collapsed": false,
    "jupyter": {
     "outputs_hidden": false
    }
   },
   "outputs": [],
   "source": [
    "non_phish_data_from_phishtank_scraped = non_phish_data_from_phishtank_scraped[:(len(non_phish_data_from_phishtank_scraped)//4)]"
   ]
  },
  {
   "cell_type": "markdown",
   "id": "ed5abd91be192e74",
   "metadata": {
    "collapsed": false,
    "jupyter": {
     "outputs_hidden": false
    }
   },
   "source": [
    "#### Dropping dots: "
   ]
  },
  {
   "cell_type": "code",
   "execution_count": null,
   "id": "a7db50c5bc43bfe7",
   "metadata": {
    "ExecuteTime": {
     "end_time": "2024-04-26T21:07:32.443275600Z",
     "start_time": "2024-04-26T21:07:32.411364Z"
    },
    "collapsed": false,
    "jupyter": {
     "outputs_hidden": false
    }
   },
   "outputs": [],
   "source": [
    "non_phish_data_df2 = non_phish_data_from_phishtank_scraped['PHISH_URL'].apply(lambda x: x[:-3] if x.endswith('...') else x).reset_index(drop=True)\n",
    "non_phish_data_df2.head()"
   ]
  },
  {
   "cell_type": "markdown",
   "id": "e61f136ec7b891c3",
   "metadata": {
    "collapsed": false,
    "jupyter": {
     "outputs_hidden": false
    }
   },
   "source": [
    "#### Deleting urls with dots"
   ]
  },
  {
   "cell_type": "code",
   "execution_count": null,
   "id": "508f7459e119e2e4",
   "metadata": {
    "ExecuteTime": {
     "end_time": "2024-04-26T21:07:33.510282200Z",
     "start_time": "2024-04-26T21:07:33.486296300Z"
    },
    "collapsed": false,
    "jupyter": {
     "outputs_hidden": false
    }
   },
   "outputs": [],
   "source": [
    "full_url_filter = ~non_phish_data_from_phishtank_scraped['PHISH_URL'].str.endswith('...')\n",
    "non_phish_data_df3 = non_phish_data_from_phishtank_scraped['PHISH_URL'].where(full_url_filter).dropna().reset_index(drop=True)\n",
    "non_phish_data_df3.head()"
   ]
  },
  {
   "cell_type": "markdown",
   "id": "1d77fb2241d9262c",
   "metadata": {
    "collapsed": false,
    "jupyter": {
     "outputs_hidden": false
    }
   },
   "source": [
    "#### 4.3 Preprocessing urls from kaggle\n",
    "##### In this part the index is being reset urls are saved to new DataFrame, adding missing scheme and filtering the only benign data.\n"
   ]
  },
  {
   "cell_type": "code",
   "execution_count": null,
   "id": "6cb810b50b52763e",
   "metadata": {
    "ExecuteTime": {
     "end_time": "2024-04-26T21:07:34.732014500Z",
     "start_time": "2024-04-26T21:07:34.719050100Z"
    },
    "collapsed": false,
    "jupyter": {
     "outputs_hidden": false
    }
   },
   "outputs": [],
   "source": [
    "data_from_kaggle.head()"
   ]
  },
  {
   "cell_type": "code",
   "execution_count": null,
   "id": "74509f5ea1dcbe6b",
   "metadata": {
    "ExecuteTime": {
     "end_time": "2024-04-26T21:07:37.031031400Z",
     "start_time": "2024-04-26T21:07:36.917499300Z"
    },
    "collapsed": false,
    "jupyter": {
     "outputs_hidden": false
    }
   },
   "outputs": [],
   "source": [
    "filter_benign_data = data_from_kaggle['type'] == 'benign'\n",
    "benign_data = data_from_kaggle.where(filter_benign_data).dropna().reset_index(drop=True)\n",
    "benign_data"
   ]
  },
  {
   "cell_type": "markdown",
   "id": "78a2dff0f1c2be99",
   "metadata": {
    "collapsed": false,
    "jupyter": {
     "outputs_hidden": false
    }
   },
   "source": [
    "##### Adding missing https scheme:"
   ]
  },
  {
   "cell_type": "code",
   "execution_count": null,
   "id": "7f3135e07c384f12",
   "metadata": {
    "ExecuteTime": {
     "end_time": "2024-04-26T21:07:40.897855100Z",
     "start_time": "2024-04-26T21:07:40.784691800Z"
    },
    "collapsed": false,
    "jupyter": {
     "outputs_hidden": false
    }
   },
   "outputs": [],
   "source": [
    "benign_data_from_kaggle_df4 = benign_data['url'].apply(lambda x: 'https://' + x if not x.startswith('https://') else x)"
   ]
  },
  {
   "cell_type": "code",
   "execution_count": null,
   "id": "712160d41f15941b",
   "metadata": {
    "ExecuteTime": {
     "end_time": "2024-04-26T21:07:41.079657900Z",
     "start_time": "2024-04-26T21:07:41.043638500Z"
    },
    "collapsed": false,
    "jupyter": {
     "outputs_hidden": false
    }
   },
   "outputs": [],
   "source": [
    "benign_data_from_kaggle_df4.head()"
   ]
  },
  {
   "cell_type": "markdown",
   "id": "7bd2ceee262d54aa",
   "metadata": {
    "collapsed": false,
    "jupyter": {
     "outputs_hidden": false
    }
   },
   "source": [
    "### 5. Save data to files"
   ]
  },
  {
   "cell_type": "code",
   "execution_count": null,
   "id": "201613da4c869220",
   "metadata": {
    "ExecuteTime": {
     "end_time": "2024-04-26T21:08:40.409317700Z",
     "start_time": "2024-04-26T21:08:40.399157800Z"
    },
    "collapsed": false,
    "jupyter": {
     "outputs_hidden": false
    }
   },
   "outputs": [],
   "source": [
    "phish_data_df1 = pd.DataFrame(phish_data_df1)\n",
    "phish_data_df1.rename({'': 'ID', 'url': 'PHISH_URL'}, axis=1, inplace=True)\n",
    "phish_data_df1.head()"
   ]
  },
  {
   "cell_type": "code",
   "execution_count": null,
   "id": "de1a9a7814e7e06c",
   "metadata": {
    "ExecuteTime": {
     "end_time": "2024-04-26T21:08:40.930626700Z",
     "start_time": "2024-04-26T21:08:40.917803300Z"
    },
    "collapsed": false,
    "jupyter": {
     "outputs_hidden": false
    }
   },
   "outputs": [],
   "source": [
    "non_phish_data_df2 = pd.DataFrame(non_phish_data_df2)\n",
    "non_phish_data_df2.rename({'': 'ID', 'PHISH_URL': 'NON_PHISH_URL'}, axis=1, inplace=True)\n",
    "non_phish_data_df2.head()"
   ]
  },
  {
   "cell_type": "code",
   "execution_count": null,
   "id": "dd0517ddccd791e8",
   "metadata": {
    "ExecuteTime": {
     "end_time": "2024-04-26T21:08:41.293339300Z",
     "start_time": "2024-04-26T21:08:41.280692900Z"
    },
    "collapsed": false,
    "jupyter": {
     "outputs_hidden": false
    }
   },
   "outputs": [],
   "source": [
    "non_phish_data_df3 = pd.DataFrame(non_phish_data_df3)\n",
    "non_phish_data_df3.rename({'': 'ID', 'PHISH_URL': 'NON_PHISH_URL'}, axis=1, inplace=True)\n",
    "non_phish_data_df3.head()"
   ]
  },
  {
   "cell_type": "code",
   "execution_count": null,
   "id": "28e241e098626a14",
   "metadata": {
    "ExecuteTime": {
     "end_time": "2024-04-26T21:08:41.760615100Z",
     "start_time": "2024-04-26T21:08:41.746969500Z"
    },
    "collapsed": false,
    "jupyter": {
     "outputs_hidden": false
    }
   },
   "outputs": [],
   "source": [
    "benign_data_from_kaggle_df4 = pd.DataFrame(benign_data_from_kaggle_df4)\n",
    "benign_data_from_kaggle_df4.rename({'': 'ID', 'url': 'NON_PHISH_URL'}, axis=1, inplace=True)\n",
    "benign_data_from_kaggle_df4.head()"
   ]
  },
  {
   "cell_type": "code",
   "execution_count": null,
   "id": "7289eb48214344aa",
   "metadata": {
    "ExecuteTime": {
     "end_time": "2024-04-26T21:08:42.218495400Z",
     "start_time": "2024-04-26T21:08:42.179829Z"
    },
    "collapsed": false,
    "jupyter": {
     "outputs_hidden": false
    }
   },
   "outputs": [],
   "source": [
    "legitimate_concatenated_with_deleted_dots_df5 = pd.concat([non_phish_data_df2, benign_data_from_kaggle_df4])\n",
    "legitimate_concatenated_with_deleted_dots_df5.head()"
   ]
  },
  {
   "cell_type": "code",
   "execution_count": null,
   "id": "32da7b7bb61c8bad",
   "metadata": {
    "ExecuteTime": {
     "end_time": "2024-04-26T21:08:42.706621100Z",
     "start_time": "2024-04-26T21:08:42.681513800Z"
    },
    "collapsed": false,
    "jupyter": {
     "outputs_hidden": false
    }
   },
   "outputs": [],
   "source": [
    "legitimate_concatenated_with_doped_urls_with_dots_df6 = pd.concat([non_phish_data_df3, benign_data_from_kaggle_df4])\n",
    "legitimate_concatenated_with_doped_urls_with_dots_df6"
   ]
  },
  {
   "cell_type": "markdown",
   "id": "2e594ce07ab7a228",
   "metadata": {
    "collapsed": false,
    "jupyter": {
     "outputs_hidden": false
    }
   },
   "source": [
    "##### Length of concatenated DataFrames:"
   ]
  },
  {
   "cell_type": "code",
   "execution_count": null,
   "id": "364e0a3a18b4ff35",
   "metadata": {
    "ExecuteTime": {
     "end_time": "2024-04-26T21:08:43.920450100Z",
     "start_time": "2024-04-26T21:08:43.911936900Z"
    },
    "collapsed": false,
    "jupyter": {
     "outputs_hidden": false
    }
   },
   "outputs": [],
   "source": [
    "phish_data_df1.shape"
   ]
  },
  {
   "cell_type": "code",
   "execution_count": null,
   "id": "aa336c55d5bf941",
   "metadata": {
    "ExecuteTime": {
     "end_time": "2024-04-26T21:08:47.056828100Z",
     "start_time": "2024-04-26T21:08:47.046852900Z"
    },
    "collapsed": false,
    "jupyter": {
     "outputs_hidden": false
    }
   },
   "outputs": [],
   "source": [
    "phish_data_df1 = pd.DataFrame(phish_data_df1['PHISH_URL'].drop_duplicates())\n",
    "phish_data_df1.shape"
   ]
  },
  {
   "cell_type": "code",
   "execution_count": null,
   "id": "1bfa50613aa3bc6d",
   "metadata": {
    "ExecuteTime": {
     "end_time": "2024-04-26T21:03:44.975402400Z",
     "start_time": "2024-04-26T21:03:44.965657400Z"
    },
    "collapsed": false,
    "jupyter": {
     "outputs_hidden": false
    }
   },
   "outputs": [],
   "source": [
    "legitimate_concatenated_with_deleted_dots_df5.shape"
   ]
  },
  {
   "cell_type": "code",
   "execution_count": null,
   "id": "ed184a7212fe27ab",
   "metadata": {
    "ExecuteTime": {
     "end_time": "2024-04-26T21:09:19.532242Z",
     "start_time": "2024-04-26T21:09:19.473604600Z"
    },
    "collapsed": false,
    "jupyter": {
     "outputs_hidden": false
    }
   },
   "outputs": [],
   "source": [
    "legitimate_concatenated_with_deleted_dots_df5 = pd.DataFrame(legitimate_concatenated_with_deleted_dots_df5['NON_PHISH_URL'].drop_duplicates())\n",
    "legitimate_concatenated_with_deleted_dots_df5.shape"
   ]
  },
  {
   "cell_type": "code",
   "execution_count": null,
   "id": "b9e80f7dca8abcdc",
   "metadata": {
    "ExecuteTime": {
     "end_time": "2024-04-26T20:48:35.839593900Z",
     "start_time": "2024-04-26T20:48:35.823128700Z"
    },
    "collapsed": false,
    "jupyter": {
     "outputs_hidden": false
    }
   },
   "outputs": [],
   "source": [
    "legitimate_concatenated_with_doped_urls_with_dots_df6.shape"
   ]
  },
  {
   "cell_type": "code",
   "execution_count": null,
   "id": "fbd7f285e5696cbe",
   "metadata": {
    "ExecuteTime": {
     "end_time": "2024-04-26T21:09:39.689084Z",
     "start_time": "2024-04-26T21:09:39.634368900Z"
    },
    "collapsed": false,
    "jupyter": {
     "outputs_hidden": false
    }
   },
   "outputs": [],
   "source": [
    "legitimate_concatenated_with_doped_urls_with_dots_df6 = pd.DataFrame(legitimate_concatenated_with_doped_urls_with_dots_df6['NON_PHISH_URL'].drop_duplicates())\n",
    "legitimate_concatenated_with_doped_urls_with_dots_df6.shape"
   ]
  },
  {
   "cell_type": "markdown",
   "id": "58f3cbb025637d04",
   "metadata": {
    "collapsed": false,
    "jupyter": {
     "outputs_hidden": false
    }
   },
   "source": [
    "#### Saving into files"
   ]
  },
  {
   "cell_type": "code",
   "execution_count": null,
   "id": "8061b025c056b71",
   "metadata": {
    "ExecuteTime": {
     "end_time": "2024-04-26T21:10:08.751951600Z",
     "start_time": "2024-04-26T21:10:08.649076700Z"
    },
    "collapsed": false,
    "jupyter": {
     "outputs_hidden": false
    }
   },
   "outputs": [],
   "source": [
    "phish_data_df1.to_csv('preprocessed_data/phish_data.csv')"
   ]
  },
  {
   "cell_type": "code",
   "execution_count": null,
   "id": "cdf52b673883b8fd",
   "metadata": {
    "ExecuteTime": {
     "end_time": "2024-04-26T21:10:10.116736Z",
     "start_time": "2024-04-26T21:10:09.182054600Z"
    },
    "collapsed": false,
    "jupyter": {
     "outputs_hidden": false
    }
   },
   "outputs": [],
   "source": [
    "legitimate_concatenated_with_deleted_dots_df5.to_csv('preprocessed_data/non_phish_data_longer.csv')"
   ]
  },
  {
   "cell_type": "code",
   "execution_count": null,
   "id": "9b207719d10cb44",
   "metadata": {
    "ExecuteTime": {
     "end_time": "2024-04-26T21:10:10.977307500Z",
     "start_time": "2024-04-26T21:10:10.117732600Z"
    },
    "collapsed": false,
    "jupyter": {
     "outputs_hidden": false
    }
   },
   "outputs": [],
   "source": [
    "legitimate_concatenated_with_doped_urls_with_dots_df6.to_csv('preprocessed_data/non_phish_data_shorter.csv')"
   ]
  },
  {
   "cell_type": "markdown",
   "id": "43d16d9c6e9b2c9",
   "metadata": {
    "collapsed": false,
    "jupyter": {
     "outputs_hidden": false
    }
   },
   "source": [
    "### 6. Data prepared for analysis and ML"
   ]
  },
  {
   "cell_type": "code",
   "execution_count": null,
   "id": "ff238eab2a616754",
   "metadata": {
    "collapsed": false,
    "jupyter": {
     "outputs_hidden": false
    }
   },
   "outputs": [],
   "source": []
  }
 ],
 "metadata": {
  "kernelspec": {
   "display_name": "Python 3 (ipykernel)",
   "language": "python",
   "name": "python3"
  },
  "language_info": {
   "codemirror_mode": {
    "name": "ipython",
    "version": 3
   },
   "file_extension": ".py",
   "mimetype": "text/x-python",
   "name": "python",
   "nbconvert_exporter": "python",
   "pygments_lexer": "ipython3",
   "version": "3.11.5"
  }
 },
 "nbformat": 4,
 "nbformat_minor": 5
}
